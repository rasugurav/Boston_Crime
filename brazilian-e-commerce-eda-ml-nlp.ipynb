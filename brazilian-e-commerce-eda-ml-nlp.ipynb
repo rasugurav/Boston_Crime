{
 "cells": [
  {
   "cell_type": "code",
   "execution_count": 1,
   "id": "48a2e961",
   "metadata": {
    "_cell_guid": "e62efb4d-9038-41a6-97c3-4d43c2763ff0",
    "_uuid": "49dd1643-0fe3-4ab9-b921-95adb2034cda",
    "collapsed": false,
    "execution": {
     "iopub.execute_input": "2025-07-05T03:36:24.678669Z",
     "iopub.status.busy": "2025-07-05T03:36:24.677739Z",
     "iopub.status.idle": "2025-07-05T03:36:26.558108Z",
     "shell.execute_reply": "2025-07-05T03:36:26.556919Z"
    },
    "jupyter": {
     "outputs_hidden": false
    },
    "papermill": {
     "duration": 1.889886,
     "end_time": "2025-07-05T03:36:26.559724",
     "exception": false,
     "start_time": "2025-07-05T03:36:24.669838",
     "status": "completed"
    },
    "scrolled": true,
    "tags": []
   },
   "outputs": [
    {
     "name": "stdout",
     "output_type": "stream",
     "text": [
      "/kaggle/input/brazilian-ecommerce/olist_customers_dataset.csv\n",
      "/kaggle/input/brazilian-ecommerce/olist_sellers_dataset.csv\n",
      "/kaggle/input/brazilian-ecommerce/olist_order_reviews_dataset.csv\n",
      "/kaggle/input/brazilian-ecommerce/olist_order_items_dataset.csv\n",
      "/kaggle/input/brazilian-ecommerce/olist_products_dataset.csv\n",
      "/kaggle/input/brazilian-ecommerce/olist_geolocation_dataset.csv\n",
      "/kaggle/input/brazilian-ecommerce/product_category_name_translation.csv\n",
      "/kaggle/input/brazilian-ecommerce/olist_orders_dataset.csv\n",
      "/kaggle/input/brazilian-ecommerce/olist_order_payments_dataset.csv\n"
     ]
    }
   ],
   "source": [
    "# This Python 3 environment comes with many helpful analytics libraries installed\n",
    "# It is defined by the kaggle/python Docker image: https://github.com/kaggle/docker-python\n",
    "# For example, here's several helpful packages to load\n",
    "\n",
    "import numpy as np # linear algebra\n",
    "import pandas as pd # data processing, CSV file I/O (e.g. pd.read_csv)\n",
    "\n",
    "# Input data files are available in the read-only \"../input/\" directory\n",
    "# For example, running this (by clicking run or pressing Shift+Enter) will list all files under the input directory\n",
    "\n",
    "import os\n",
    "for dirname, _, filenames in os.walk('/kaggle/input'):\n",
    "    for filename in filenames:\n",
    "        print(os.path.join(dirname, filename))\n",
    "\n",
    "# You can write up to 20GB to the current directory (/kaggle/working/) that gets preserved as output when you create a version using \"Save & Run All\" \n",
    "# You can also write temporary files to /kaggle/temp/, but they won't be saved outside of the current session"
   ]
  },
  {
   "cell_type": "markdown",
   "id": "1bda6ad7",
   "metadata": {
    "_cell_guid": "40804514-cf6f-4ed7-af11-af31ce79eba4",
    "_uuid": "17a4ed81-9ae1-4748-91fa-0f82a6db2a78",
    "collapsed": false,
    "jupyter": {
     "outputs_hidden": false
    },
    "papermill": {
     "duration": 0.006046,
     "end_time": "2025-07-05T03:36:26.572260",
     "exception": false,
     "start_time": "2025-07-05T03:36:26.566214",
     "status": "completed"
    },
    "tags": []
   },
   "source": [
    "#                                               *******Importing Datasets and Merging*******"
   ]
  },
  {
   "cell_type": "code",
   "execution_count": 2,
   "id": "edc4a225",
   "metadata": {
    "_cell_guid": "eed2f639-f2b6-4b37-8c75-4394e876ba38",
    "_uuid": "97df6486-edbf-46ca-9b18-43c038fc70a5",
    "collapsed": false,
    "execution": {
     "iopub.execute_input": "2025-07-05T03:36:26.585243Z",
     "iopub.status.busy": "2025-07-05T03:36:26.584779Z",
     "iopub.status.idle": "2025-07-05T03:36:30.346063Z",
     "shell.execute_reply": "2025-07-05T03:36:30.345193Z"
    },
    "jupyter": {
     "outputs_hidden": false
    },
    "papermill": {
     "duration": 3.769539,
     "end_time": "2025-07-05T03:36:30.347652",
     "exception": false,
     "start_time": "2025-07-05T03:36:26.578113",
     "status": "completed"
    },
    "tags": []
   },
   "outputs": [],
   "source": [
    "customer_dataset=pd.read_csv('/kaggle/input/brazilian-ecommerce/olist_customers_dataset.csv')\n",
    "geolocation_dataset=pd.read_csv('/kaggle/input/brazilian-ecommerce/olist_geolocation_dataset.csv')\n",
    "order_items_dataset=pd.read_csv('/kaggle/input/brazilian-ecommerce/olist_order_items_dataset.csv')\n",
    "order_payments_dataset=pd.read_csv('/kaggle/input/brazilian-ecommerce/olist_order_payments_dataset.csv')\n",
    "order_review_dataset=pd.read_csv('/kaggle/input/brazilian-ecommerce/olist_order_reviews_dataset.csv')\n",
    "order_dataset=pd.read_csv('/kaggle/input/brazilian-ecommerce/olist_orders_dataset.csv')\n",
    "product_dataset=pd.read_csv('/kaggle/input/brazilian-ecommerce/olist_products_dataset.csv')\n",
    "seller_dataset=pd.read_csv('/kaggle/input/brazilian-ecommerce/olist_sellers_dataset.csv')\n",
    "product_name_dataset=pd.read_csv('/kaggle/input/brazilian-ecommerce/product_category_name_translation.csv')"
   ]
  },
  {
   "cell_type": "code",
   "execution_count": 3,
   "id": "34352256",
   "metadata": {
    "_cell_guid": "15b754a1-6d21-423e-92f3-b343548c2da0",
    "_uuid": "3eb804af-b949-46da-a4b9-7e11bce98b31",
    "collapsed": false,
    "execution": {
     "iopub.execute_input": "2025-07-05T03:36:30.361986Z",
     "iopub.status.busy": "2025-07-05T03:36:30.361320Z",
     "iopub.status.idle": "2025-07-05T03:36:30.441721Z",
     "shell.execute_reply": "2025-07-05T03:36:30.440716Z"
    },
    "jupyter": {
     "outputs_hidden": false
    },
    "papermill": {
     "duration": 0.089419,
     "end_time": "2025-07-05T03:36:30.443253",
     "exception": false,
     "start_time": "2025-07-05T03:36:30.353834",
     "status": "completed"
    },
    "tags": []
   },
   "outputs": [
    {
     "name": "stdout",
     "output_type": "stream",
     "text": [
      "Customer Dataset\n"
     ]
    },
    {
     "data": {
      "text/html": [
       "<div>\n",
       "<style scoped>\n",
       "    .dataframe tbody tr th:only-of-type {\n",
       "        vertical-align: middle;\n",
       "    }\n",
       "\n",
       "    .dataframe tbody tr th {\n",
       "        vertical-align: top;\n",
       "    }\n",
       "\n",
       "    .dataframe thead th {\n",
       "        text-align: right;\n",
       "    }\n",
       "</style>\n",
       "<table border=\"1\" class=\"dataframe\">\n",
       "  <thead>\n",
       "    <tr style=\"text-align: right;\">\n",
       "      <th></th>\n",
       "      <th>customer_id</th>\n",
       "      <th>customer_unique_id</th>\n",
       "      <th>customer_zip_code_prefix</th>\n",
       "      <th>customer_city</th>\n",
       "      <th>customer_state</th>\n",
       "    </tr>\n",
       "  </thead>\n",
       "  <tbody>\n",
       "    <tr>\n",
       "      <th>0</th>\n",
       "      <td>06b8999e2fba1a1fbc88172c00ba8bc7</td>\n",
       "      <td>861eff4711a542e4b93843c6dd7febb0</td>\n",
       "      <td>14409</td>\n",
       "      <td>franca</td>\n",
       "      <td>SP</td>\n",
       "    </tr>\n",
       "    <tr>\n",
       "      <th>1</th>\n",
       "      <td>18955e83d337fd6b2def6b18a428ac77</td>\n",
       "      <td>290c77bc529b7ac935b93aa66c333dc3</td>\n",
       "      <td>9790</td>\n",
       "      <td>sao bernardo do campo</td>\n",
       "      <td>SP</td>\n",
       "    </tr>\n",
       "    <tr>\n",
       "      <th>2</th>\n",
       "      <td>4e7b3e00288586ebd08712fdd0374a03</td>\n",
       "      <td>060e732b5b29e8181a18229c7b0b2b5e</td>\n",
       "      <td>1151</td>\n",
       "      <td>sao paulo</td>\n",
       "      <td>SP</td>\n",
       "    </tr>\n",
       "    <tr>\n",
       "      <th>3</th>\n",
       "      <td>b2b6027bc5c5109e529d4dc6358b12c3</td>\n",
       "      <td>259dac757896d24d7702b9acbbff3f3c</td>\n",
       "      <td>8775</td>\n",
       "      <td>mogi das cruzes</td>\n",
       "      <td>SP</td>\n",
       "    </tr>\n",
       "    <tr>\n",
       "      <th>4</th>\n",
       "      <td>4f2d8ab171c80ec8364f7c12e35b23ad</td>\n",
       "      <td>345ecd01c38d18a9036ed96c73b8d066</td>\n",
       "      <td>13056</td>\n",
       "      <td>campinas</td>\n",
       "      <td>SP</td>\n",
       "    </tr>\n",
       "  </tbody>\n",
       "</table>\n",
       "</div>"
      ],
      "text/plain": [
       "                        customer_id                customer_unique_id  \\\n",
       "0  06b8999e2fba1a1fbc88172c00ba8bc7  861eff4711a542e4b93843c6dd7febb0   \n",
       "1  18955e83d337fd6b2def6b18a428ac77  290c77bc529b7ac935b93aa66c333dc3   \n",
       "2  4e7b3e00288586ebd08712fdd0374a03  060e732b5b29e8181a18229c7b0b2b5e   \n",
       "3  b2b6027bc5c5109e529d4dc6358b12c3  259dac757896d24d7702b9acbbff3f3c   \n",
       "4  4f2d8ab171c80ec8364f7c12e35b23ad  345ecd01c38d18a9036ed96c73b8d066   \n",
       "\n",
       "   customer_zip_code_prefix          customer_city customer_state  \n",
       "0                     14409                 franca             SP  \n",
       "1                      9790  sao bernardo do campo             SP  \n",
       "2                      1151              sao paulo             SP  \n",
       "3                      8775        mogi das cruzes             SP  \n",
       "4                     13056               campinas             SP  "
      ]
     },
     "metadata": {},
     "output_type": "display_data"
    },
    {
     "name": "stdout",
     "output_type": "stream",
     "text": [
      "Geolocation Dataset\n"
     ]
    },
    {
     "data": {
      "text/html": [
       "<div>\n",
       "<style scoped>\n",
       "    .dataframe tbody tr th:only-of-type {\n",
       "        vertical-align: middle;\n",
       "    }\n",
       "\n",
       "    .dataframe tbody tr th {\n",
       "        vertical-align: top;\n",
       "    }\n",
       "\n",
       "    .dataframe thead th {\n",
       "        text-align: right;\n",
       "    }\n",
       "</style>\n",
       "<table border=\"1\" class=\"dataframe\">\n",
       "  <thead>\n",
       "    <tr style=\"text-align: right;\">\n",
       "      <th></th>\n",
       "      <th>geolocation_zip_code_prefix</th>\n",
       "      <th>geolocation_lat</th>\n",
       "      <th>geolocation_lng</th>\n",
       "      <th>geolocation_city</th>\n",
       "      <th>geolocation_state</th>\n",
       "    </tr>\n",
       "  </thead>\n",
       "  <tbody>\n",
       "    <tr>\n",
       "      <th>0</th>\n",
       "      <td>1037</td>\n",
       "      <td>-23.545621</td>\n",
       "      <td>-46.639292</td>\n",
       "      <td>sao paulo</td>\n",
       "      <td>SP</td>\n",
       "    </tr>\n",
       "    <tr>\n",
       "      <th>1</th>\n",
       "      <td>1046</td>\n",
       "      <td>-23.546081</td>\n",
       "      <td>-46.644820</td>\n",
       "      <td>sao paulo</td>\n",
       "      <td>SP</td>\n",
       "    </tr>\n",
       "    <tr>\n",
       "      <th>2</th>\n",
       "      <td>1046</td>\n",
       "      <td>-23.546129</td>\n",
       "      <td>-46.642951</td>\n",
       "      <td>sao paulo</td>\n",
       "      <td>SP</td>\n",
       "    </tr>\n",
       "    <tr>\n",
       "      <th>3</th>\n",
       "      <td>1041</td>\n",
       "      <td>-23.544392</td>\n",
       "      <td>-46.639499</td>\n",
       "      <td>sao paulo</td>\n",
       "      <td>SP</td>\n",
       "    </tr>\n",
       "    <tr>\n",
       "      <th>4</th>\n",
       "      <td>1035</td>\n",
       "      <td>-23.541578</td>\n",
       "      <td>-46.641607</td>\n",
       "      <td>sao paulo</td>\n",
       "      <td>SP</td>\n",
       "    </tr>\n",
       "  </tbody>\n",
       "</table>\n",
       "</div>"
      ],
      "text/plain": [
       "   geolocation_zip_code_prefix  geolocation_lat  geolocation_lng  \\\n",
       "0                         1037       -23.545621       -46.639292   \n",
       "1                         1046       -23.546081       -46.644820   \n",
       "2                         1046       -23.546129       -46.642951   \n",
       "3                         1041       -23.544392       -46.639499   \n",
       "4                         1035       -23.541578       -46.641607   \n",
       "\n",
       "  geolocation_city geolocation_state  \n",
       "0        sao paulo                SP  \n",
       "1        sao paulo                SP  \n",
       "2        sao paulo                SP  \n",
       "3        sao paulo                SP  \n",
       "4        sao paulo                SP  "
      ]
     },
     "metadata": {},
     "output_type": "display_data"
    },
    {
     "name": "stdout",
     "output_type": "stream",
     "text": [
      "Ordered Items dataset\n"
     ]
    },
    {
     "data": {
      "text/html": [
       "<div>\n",
       "<style scoped>\n",
       "    .dataframe tbody tr th:only-of-type {\n",
       "        vertical-align: middle;\n",
       "    }\n",
       "\n",
       "    .dataframe tbody tr th {\n",
       "        vertical-align: top;\n",
       "    }\n",
       "\n",
       "    .dataframe thead th {\n",
       "        text-align: right;\n",
       "    }\n",
       "</style>\n",
       "<table border=\"1\" class=\"dataframe\">\n",
       "  <thead>\n",
       "    <tr style=\"text-align: right;\">\n",
       "      <th></th>\n",
       "      <th>order_id</th>\n",
       "      <th>order_item_id</th>\n",
       "      <th>product_id</th>\n",
       "      <th>seller_id</th>\n",
       "      <th>shipping_limit_date</th>\n",
       "      <th>price</th>\n",
       "      <th>freight_value</th>\n",
       "    </tr>\n",
       "  </thead>\n",
       "  <tbody>\n",
       "    <tr>\n",
       "      <th>0</th>\n",
       "      <td>00010242fe8c5a6d1ba2dd792cb16214</td>\n",
       "      <td>1</td>\n",
       "      <td>4244733e06e7ecb4970a6e2683c13e61</td>\n",
       "      <td>48436dade18ac8b2bce089ec2a041202</td>\n",
       "      <td>2017-09-19 09:45:35</td>\n",
       "      <td>58.90</td>\n",
       "      <td>13.29</td>\n",
       "    </tr>\n",
       "    <tr>\n",
       "      <th>1</th>\n",
       "      <td>00018f77f2f0320c557190d7a144bdd3</td>\n",
       "      <td>1</td>\n",
       "      <td>e5f2d52b802189ee658865ca93d83a8f</td>\n",
       "      <td>dd7ddc04e1b6c2c614352b383efe2d36</td>\n",
       "      <td>2017-05-03 11:05:13</td>\n",
       "      <td>239.90</td>\n",
       "      <td>19.93</td>\n",
       "    </tr>\n",
       "    <tr>\n",
       "      <th>2</th>\n",
       "      <td>000229ec398224ef6ca0657da4fc703e</td>\n",
       "      <td>1</td>\n",
       "      <td>c777355d18b72b67abbeef9df44fd0fd</td>\n",
       "      <td>5b51032eddd242adc84c38acab88f23d</td>\n",
       "      <td>2018-01-18 14:48:30</td>\n",
       "      <td>199.00</td>\n",
       "      <td>17.87</td>\n",
       "    </tr>\n",
       "    <tr>\n",
       "      <th>3</th>\n",
       "      <td>00024acbcdf0a6daa1e931b038114c75</td>\n",
       "      <td>1</td>\n",
       "      <td>7634da152a4610f1595efa32f14722fc</td>\n",
       "      <td>9d7a1d34a5052409006425275ba1c2b4</td>\n",
       "      <td>2018-08-15 10:10:18</td>\n",
       "      <td>12.99</td>\n",
       "      <td>12.79</td>\n",
       "    </tr>\n",
       "    <tr>\n",
       "      <th>4</th>\n",
       "      <td>00042b26cf59d7ce69dfabb4e55b4fd9</td>\n",
       "      <td>1</td>\n",
       "      <td>ac6c3623068f30de03045865e4e10089</td>\n",
       "      <td>df560393f3a51e74553ab94004ba5c87</td>\n",
       "      <td>2017-02-13 13:57:51</td>\n",
       "      <td>199.90</td>\n",
       "      <td>18.14</td>\n",
       "    </tr>\n",
       "  </tbody>\n",
       "</table>\n",
       "</div>"
      ],
      "text/plain": [
       "                           order_id  order_item_id  \\\n",
       "0  00010242fe8c5a6d1ba2dd792cb16214              1   \n",
       "1  00018f77f2f0320c557190d7a144bdd3              1   \n",
       "2  000229ec398224ef6ca0657da4fc703e              1   \n",
       "3  00024acbcdf0a6daa1e931b038114c75              1   \n",
       "4  00042b26cf59d7ce69dfabb4e55b4fd9              1   \n",
       "\n",
       "                         product_id                         seller_id  \\\n",
       "0  4244733e06e7ecb4970a6e2683c13e61  48436dade18ac8b2bce089ec2a041202   \n",
       "1  e5f2d52b802189ee658865ca93d83a8f  dd7ddc04e1b6c2c614352b383efe2d36   \n",
       "2  c777355d18b72b67abbeef9df44fd0fd  5b51032eddd242adc84c38acab88f23d   \n",
       "3  7634da152a4610f1595efa32f14722fc  9d7a1d34a5052409006425275ba1c2b4   \n",
       "4  ac6c3623068f30de03045865e4e10089  df560393f3a51e74553ab94004ba5c87   \n",
       "\n",
       "   shipping_limit_date   price  freight_value  \n",
       "0  2017-09-19 09:45:35   58.90          13.29  \n",
       "1  2017-05-03 11:05:13  239.90          19.93  \n",
       "2  2018-01-18 14:48:30  199.00          17.87  \n",
       "3  2018-08-15 10:10:18   12.99          12.79  \n",
       "4  2017-02-13 13:57:51  199.90          18.14  "
      ]
     },
     "metadata": {},
     "output_type": "display_data"
    },
    {
     "name": "stdout",
     "output_type": "stream",
     "text": [
      "Order Payment dataset\n"
     ]
    },
    {
     "data": {
      "text/html": [
       "<div>\n",
       "<style scoped>\n",
       "    .dataframe tbody tr th:only-of-type {\n",
       "        vertical-align: middle;\n",
       "    }\n",
       "\n",
       "    .dataframe tbody tr th {\n",
       "        vertical-align: top;\n",
       "    }\n",
       "\n",
       "    .dataframe thead th {\n",
       "        text-align: right;\n",
       "    }\n",
       "</style>\n",
       "<table border=\"1\" class=\"dataframe\">\n",
       "  <thead>\n",
       "    <tr style=\"text-align: right;\">\n",
       "      <th></th>\n",
       "      <th>order_id</th>\n",
       "      <th>payment_sequential</th>\n",
       "      <th>payment_type</th>\n",
       "      <th>payment_installments</th>\n",
       "      <th>payment_value</th>\n",
       "    </tr>\n",
       "  </thead>\n",
       "  <tbody>\n",
       "    <tr>\n",
       "      <th>0</th>\n",
       "      <td>b81ef226f3fe1789b1e8b2acac839d17</td>\n",
       "      <td>1</td>\n",
       "      <td>credit_card</td>\n",
       "      <td>8</td>\n",
       "      <td>99.33</td>\n",
       "    </tr>\n",
       "    <tr>\n",
       "      <th>1</th>\n",
       "      <td>a9810da82917af2d9aefd1278f1dcfa0</td>\n",
       "      <td>1</td>\n",
       "      <td>credit_card</td>\n",
       "      <td>1</td>\n",
       "      <td>24.39</td>\n",
       "    </tr>\n",
       "    <tr>\n",
       "      <th>2</th>\n",
       "      <td>25e8ea4e93396b6fa0d3dd708e76c1bd</td>\n",
       "      <td>1</td>\n",
       "      <td>credit_card</td>\n",
       "      <td>1</td>\n",
       "      <td>65.71</td>\n",
       "    </tr>\n",
       "    <tr>\n",
       "      <th>3</th>\n",
       "      <td>ba78997921bbcdc1373bb41e913ab953</td>\n",
       "      <td>1</td>\n",
       "      <td>credit_card</td>\n",
       "      <td>8</td>\n",
       "      <td>107.78</td>\n",
       "    </tr>\n",
       "    <tr>\n",
       "      <th>4</th>\n",
       "      <td>42fdf880ba16b47b59251dd489d4441a</td>\n",
       "      <td>1</td>\n",
       "      <td>credit_card</td>\n",
       "      <td>2</td>\n",
       "      <td>128.45</td>\n",
       "    </tr>\n",
       "  </tbody>\n",
       "</table>\n",
       "</div>"
      ],
      "text/plain": [
       "                           order_id  payment_sequential payment_type  \\\n",
       "0  b81ef226f3fe1789b1e8b2acac839d17                   1  credit_card   \n",
       "1  a9810da82917af2d9aefd1278f1dcfa0                   1  credit_card   \n",
       "2  25e8ea4e93396b6fa0d3dd708e76c1bd                   1  credit_card   \n",
       "3  ba78997921bbcdc1373bb41e913ab953                   1  credit_card   \n",
       "4  42fdf880ba16b47b59251dd489d4441a                   1  credit_card   \n",
       "\n",
       "   payment_installments  payment_value  \n",
       "0                     8          99.33  \n",
       "1                     1          24.39  \n",
       "2                     1          65.71  \n",
       "3                     8         107.78  \n",
       "4                     2         128.45  "
      ]
     },
     "metadata": {},
     "output_type": "display_data"
    },
    {
     "name": "stdout",
     "output_type": "stream",
     "text": [
      "order Review Dataset\n"
     ]
    },
    {
     "data": {
      "text/html": [
       "<div>\n",
       "<style scoped>\n",
       "    .dataframe tbody tr th:only-of-type {\n",
       "        vertical-align: middle;\n",
       "    }\n",
       "\n",
       "    .dataframe tbody tr th {\n",
       "        vertical-align: top;\n",
       "    }\n",
       "\n",
       "    .dataframe thead th {\n",
       "        text-align: right;\n",
       "    }\n",
       "</style>\n",
       "<table border=\"1\" class=\"dataframe\">\n",
       "  <thead>\n",
       "    <tr style=\"text-align: right;\">\n",
       "      <th></th>\n",
       "      <th>review_id</th>\n",
       "      <th>order_id</th>\n",
       "      <th>review_score</th>\n",
       "      <th>review_comment_title</th>\n",
       "      <th>review_comment_message</th>\n",
       "      <th>review_creation_date</th>\n",
       "      <th>review_answer_timestamp</th>\n",
       "    </tr>\n",
       "  </thead>\n",
       "  <tbody>\n",
       "    <tr>\n",
       "      <th>0</th>\n",
       "      <td>7bc2406110b926393aa56f80a40eba40</td>\n",
       "      <td>73fc7af87114b39712e6da79b0a377eb</td>\n",
       "      <td>4</td>\n",
       "      <td>NaN</td>\n",
       "      <td>NaN</td>\n",
       "      <td>2018-01-18 00:00:00</td>\n",
       "      <td>2018-01-18 21:46:59</td>\n",
       "    </tr>\n",
       "    <tr>\n",
       "      <th>1</th>\n",
       "      <td>80e641a11e56f04c1ad469d5645fdfde</td>\n",
       "      <td>a548910a1c6147796b98fdf73dbeba33</td>\n",
       "      <td>5</td>\n",
       "      <td>NaN</td>\n",
       "      <td>NaN</td>\n",
       "      <td>2018-03-10 00:00:00</td>\n",
       "      <td>2018-03-11 03:05:13</td>\n",
       "    </tr>\n",
       "    <tr>\n",
       "      <th>2</th>\n",
       "      <td>228ce5500dc1d8e020d8d1322874b6f0</td>\n",
       "      <td>f9e4b658b201a9f2ecdecbb34bed034b</td>\n",
       "      <td>5</td>\n",
       "      <td>NaN</td>\n",
       "      <td>NaN</td>\n",
       "      <td>2018-02-17 00:00:00</td>\n",
       "      <td>2018-02-18 14:36:24</td>\n",
       "    </tr>\n",
       "    <tr>\n",
       "      <th>3</th>\n",
       "      <td>e64fb393e7b32834bb789ff8bb30750e</td>\n",
       "      <td>658677c97b385a9be170737859d3511b</td>\n",
       "      <td>5</td>\n",
       "      <td>NaN</td>\n",
       "      <td>Recebi bem antes do prazo estipulado.</td>\n",
       "      <td>2017-04-21 00:00:00</td>\n",
       "      <td>2017-04-21 22:02:06</td>\n",
       "    </tr>\n",
       "    <tr>\n",
       "      <th>4</th>\n",
       "      <td>f7c4243c7fe1938f181bec41a392bdeb</td>\n",
       "      <td>8e6bfb81e283fa7e4f11123a3fb894f1</td>\n",
       "      <td>5</td>\n",
       "      <td>NaN</td>\n",
       "      <td>Parabéns lojas lannister adorei comprar pela I...</td>\n",
       "      <td>2018-03-01 00:00:00</td>\n",
       "      <td>2018-03-02 10:26:53</td>\n",
       "    </tr>\n",
       "  </tbody>\n",
       "</table>\n",
       "</div>"
      ],
      "text/plain": [
       "                          review_id                          order_id  \\\n",
       "0  7bc2406110b926393aa56f80a40eba40  73fc7af87114b39712e6da79b0a377eb   \n",
       "1  80e641a11e56f04c1ad469d5645fdfde  a548910a1c6147796b98fdf73dbeba33   \n",
       "2  228ce5500dc1d8e020d8d1322874b6f0  f9e4b658b201a9f2ecdecbb34bed034b   \n",
       "3  e64fb393e7b32834bb789ff8bb30750e  658677c97b385a9be170737859d3511b   \n",
       "4  f7c4243c7fe1938f181bec41a392bdeb  8e6bfb81e283fa7e4f11123a3fb894f1   \n",
       "\n",
       "   review_score review_comment_title  \\\n",
       "0             4                  NaN   \n",
       "1             5                  NaN   \n",
       "2             5                  NaN   \n",
       "3             5                  NaN   \n",
       "4             5                  NaN   \n",
       "\n",
       "                              review_comment_message review_creation_date  \\\n",
       "0                                                NaN  2018-01-18 00:00:00   \n",
       "1                                                NaN  2018-03-10 00:00:00   \n",
       "2                                                NaN  2018-02-17 00:00:00   \n",
       "3              Recebi bem antes do prazo estipulado.  2017-04-21 00:00:00   \n",
       "4  Parabéns lojas lannister adorei comprar pela I...  2018-03-01 00:00:00   \n",
       "\n",
       "  review_answer_timestamp  \n",
       "0     2018-01-18 21:46:59  \n",
       "1     2018-03-11 03:05:13  \n",
       "2     2018-02-18 14:36:24  \n",
       "3     2017-04-21 22:02:06  \n",
       "4     2018-03-02 10:26:53  "
      ]
     },
     "metadata": {},
     "output_type": "display_data"
    },
    {
     "name": "stdout",
     "output_type": "stream",
     "text": [
      "Order Dataset\n"
     ]
    },
    {
     "data": {
      "text/html": [
       "<div>\n",
       "<style scoped>\n",
       "    .dataframe tbody tr th:only-of-type {\n",
       "        vertical-align: middle;\n",
       "    }\n",
       "\n",
       "    .dataframe tbody tr th {\n",
       "        vertical-align: top;\n",
       "    }\n",
       "\n",
       "    .dataframe thead th {\n",
       "        text-align: right;\n",
       "    }\n",
       "</style>\n",
       "<table border=\"1\" class=\"dataframe\">\n",
       "  <thead>\n",
       "    <tr style=\"text-align: right;\">\n",
       "      <th></th>\n",
       "      <th>order_id</th>\n",
       "      <th>customer_id</th>\n",
       "      <th>order_status</th>\n",
       "      <th>order_purchase_timestamp</th>\n",
       "      <th>order_approved_at</th>\n",
       "      <th>order_delivered_carrier_date</th>\n",
       "      <th>order_delivered_customer_date</th>\n",
       "      <th>order_estimated_delivery_date</th>\n",
       "    </tr>\n",
       "  </thead>\n",
       "  <tbody>\n",
       "    <tr>\n",
       "      <th>0</th>\n",
       "      <td>e481f51cbdc54678b7cc49136f2d6af7</td>\n",
       "      <td>9ef432eb6251297304e76186b10a928d</td>\n",
       "      <td>delivered</td>\n",
       "      <td>2017-10-02 10:56:33</td>\n",
       "      <td>2017-10-02 11:07:15</td>\n",
       "      <td>2017-10-04 19:55:00</td>\n",
       "      <td>2017-10-10 21:25:13</td>\n",
       "      <td>2017-10-18 00:00:00</td>\n",
       "    </tr>\n",
       "    <tr>\n",
       "      <th>1</th>\n",
       "      <td>53cdb2fc8bc7dce0b6741e2150273451</td>\n",
       "      <td>b0830fb4747a6c6d20dea0b8c802d7ef</td>\n",
       "      <td>delivered</td>\n",
       "      <td>2018-07-24 20:41:37</td>\n",
       "      <td>2018-07-26 03:24:27</td>\n",
       "      <td>2018-07-26 14:31:00</td>\n",
       "      <td>2018-08-07 15:27:45</td>\n",
       "      <td>2018-08-13 00:00:00</td>\n",
       "    </tr>\n",
       "    <tr>\n",
       "      <th>2</th>\n",
       "      <td>47770eb9100c2d0c44946d9cf07ec65d</td>\n",
       "      <td>41ce2a54c0b03bf3443c3d931a367089</td>\n",
       "      <td>delivered</td>\n",
       "      <td>2018-08-08 08:38:49</td>\n",
       "      <td>2018-08-08 08:55:23</td>\n",
       "      <td>2018-08-08 13:50:00</td>\n",
       "      <td>2018-08-17 18:06:29</td>\n",
       "      <td>2018-09-04 00:00:00</td>\n",
       "    </tr>\n",
       "    <tr>\n",
       "      <th>3</th>\n",
       "      <td>949d5b44dbf5de918fe9c16f97b45f8a</td>\n",
       "      <td>f88197465ea7920adcdbec7375364d82</td>\n",
       "      <td>delivered</td>\n",
       "      <td>2017-11-18 19:28:06</td>\n",
       "      <td>2017-11-18 19:45:59</td>\n",
       "      <td>2017-11-22 13:39:59</td>\n",
       "      <td>2017-12-02 00:28:42</td>\n",
       "      <td>2017-12-15 00:00:00</td>\n",
       "    </tr>\n",
       "    <tr>\n",
       "      <th>4</th>\n",
       "      <td>ad21c59c0840e6cb83a9ceb5573f8159</td>\n",
       "      <td>8ab97904e6daea8866dbdbc4fb7aad2c</td>\n",
       "      <td>delivered</td>\n",
       "      <td>2018-02-13 21:18:39</td>\n",
       "      <td>2018-02-13 22:20:29</td>\n",
       "      <td>2018-02-14 19:46:34</td>\n",
       "      <td>2018-02-16 18:17:02</td>\n",
       "      <td>2018-02-26 00:00:00</td>\n",
       "    </tr>\n",
       "  </tbody>\n",
       "</table>\n",
       "</div>"
      ],
      "text/plain": [
       "                           order_id                       customer_id  \\\n",
       "0  e481f51cbdc54678b7cc49136f2d6af7  9ef432eb6251297304e76186b10a928d   \n",
       "1  53cdb2fc8bc7dce0b6741e2150273451  b0830fb4747a6c6d20dea0b8c802d7ef   \n",
       "2  47770eb9100c2d0c44946d9cf07ec65d  41ce2a54c0b03bf3443c3d931a367089   \n",
       "3  949d5b44dbf5de918fe9c16f97b45f8a  f88197465ea7920adcdbec7375364d82   \n",
       "4  ad21c59c0840e6cb83a9ceb5573f8159  8ab97904e6daea8866dbdbc4fb7aad2c   \n",
       "\n",
       "  order_status order_purchase_timestamp    order_approved_at  \\\n",
       "0    delivered      2017-10-02 10:56:33  2017-10-02 11:07:15   \n",
       "1    delivered      2018-07-24 20:41:37  2018-07-26 03:24:27   \n",
       "2    delivered      2018-08-08 08:38:49  2018-08-08 08:55:23   \n",
       "3    delivered      2017-11-18 19:28:06  2017-11-18 19:45:59   \n",
       "4    delivered      2018-02-13 21:18:39  2018-02-13 22:20:29   \n",
       "\n",
       "  order_delivered_carrier_date order_delivered_customer_date  \\\n",
       "0          2017-10-04 19:55:00           2017-10-10 21:25:13   \n",
       "1          2018-07-26 14:31:00           2018-08-07 15:27:45   \n",
       "2          2018-08-08 13:50:00           2018-08-17 18:06:29   \n",
       "3          2017-11-22 13:39:59           2017-12-02 00:28:42   \n",
       "4          2018-02-14 19:46:34           2018-02-16 18:17:02   \n",
       "\n",
       "  order_estimated_delivery_date  \n",
       "0           2017-10-18 00:00:00  \n",
       "1           2018-08-13 00:00:00  \n",
       "2           2018-09-04 00:00:00  \n",
       "3           2017-12-15 00:00:00  \n",
       "4           2018-02-26 00:00:00  "
      ]
     },
     "metadata": {},
     "output_type": "display_data"
    },
    {
     "name": "stdout",
     "output_type": "stream",
     "text": [
      "Product Dataset\n"
     ]
    },
    {
     "data": {
      "text/html": [
       "<div>\n",
       "<style scoped>\n",
       "    .dataframe tbody tr th:only-of-type {\n",
       "        vertical-align: middle;\n",
       "    }\n",
       "\n",
       "    .dataframe tbody tr th {\n",
       "        vertical-align: top;\n",
       "    }\n",
       "\n",
       "    .dataframe thead th {\n",
       "        text-align: right;\n",
       "    }\n",
       "</style>\n",
       "<table border=\"1\" class=\"dataframe\">\n",
       "  <thead>\n",
       "    <tr style=\"text-align: right;\">\n",
       "      <th></th>\n",
       "      <th>product_id</th>\n",
       "      <th>product_category_name</th>\n",
       "      <th>product_name_lenght</th>\n",
       "      <th>product_description_lenght</th>\n",
       "      <th>product_photos_qty</th>\n",
       "      <th>product_weight_g</th>\n",
       "      <th>product_length_cm</th>\n",
       "      <th>product_height_cm</th>\n",
       "      <th>product_width_cm</th>\n",
       "    </tr>\n",
       "  </thead>\n",
       "  <tbody>\n",
       "    <tr>\n",
       "      <th>0</th>\n",
       "      <td>1e9e8ef04dbcff4541ed26657ea517e5</td>\n",
       "      <td>perfumaria</td>\n",
       "      <td>40.0</td>\n",
       "      <td>287.0</td>\n",
       "      <td>1.0</td>\n",
       "      <td>225.0</td>\n",
       "      <td>16.0</td>\n",
       "      <td>10.0</td>\n",
       "      <td>14.0</td>\n",
       "    </tr>\n",
       "    <tr>\n",
       "      <th>1</th>\n",
       "      <td>3aa071139cb16b67ca9e5dea641aaa2f</td>\n",
       "      <td>artes</td>\n",
       "      <td>44.0</td>\n",
       "      <td>276.0</td>\n",
       "      <td>1.0</td>\n",
       "      <td>1000.0</td>\n",
       "      <td>30.0</td>\n",
       "      <td>18.0</td>\n",
       "      <td>20.0</td>\n",
       "    </tr>\n",
       "    <tr>\n",
       "      <th>2</th>\n",
       "      <td>96bd76ec8810374ed1b65e291975717f</td>\n",
       "      <td>esporte_lazer</td>\n",
       "      <td>46.0</td>\n",
       "      <td>250.0</td>\n",
       "      <td>1.0</td>\n",
       "      <td>154.0</td>\n",
       "      <td>18.0</td>\n",
       "      <td>9.0</td>\n",
       "      <td>15.0</td>\n",
       "    </tr>\n",
       "    <tr>\n",
       "      <th>3</th>\n",
       "      <td>cef67bcfe19066a932b7673e239eb23d</td>\n",
       "      <td>bebes</td>\n",
       "      <td>27.0</td>\n",
       "      <td>261.0</td>\n",
       "      <td>1.0</td>\n",
       "      <td>371.0</td>\n",
       "      <td>26.0</td>\n",
       "      <td>4.0</td>\n",
       "      <td>26.0</td>\n",
       "    </tr>\n",
       "    <tr>\n",
       "      <th>4</th>\n",
       "      <td>9dc1a7de274444849c219cff195d0b71</td>\n",
       "      <td>utilidades_domesticas</td>\n",
       "      <td>37.0</td>\n",
       "      <td>402.0</td>\n",
       "      <td>4.0</td>\n",
       "      <td>625.0</td>\n",
       "      <td>20.0</td>\n",
       "      <td>17.0</td>\n",
       "      <td>13.0</td>\n",
       "    </tr>\n",
       "  </tbody>\n",
       "</table>\n",
       "</div>"
      ],
      "text/plain": [
       "                         product_id  product_category_name  \\\n",
       "0  1e9e8ef04dbcff4541ed26657ea517e5             perfumaria   \n",
       "1  3aa071139cb16b67ca9e5dea641aaa2f                  artes   \n",
       "2  96bd76ec8810374ed1b65e291975717f          esporte_lazer   \n",
       "3  cef67bcfe19066a932b7673e239eb23d                  bebes   \n",
       "4  9dc1a7de274444849c219cff195d0b71  utilidades_domesticas   \n",
       "\n",
       "   product_name_lenght  product_description_lenght  product_photos_qty  \\\n",
       "0                 40.0                       287.0                 1.0   \n",
       "1                 44.0                       276.0                 1.0   \n",
       "2                 46.0                       250.0                 1.0   \n",
       "3                 27.0                       261.0                 1.0   \n",
       "4                 37.0                       402.0                 4.0   \n",
       "\n",
       "   product_weight_g  product_length_cm  product_height_cm  product_width_cm  \n",
       "0             225.0               16.0               10.0              14.0  \n",
       "1            1000.0               30.0               18.0              20.0  \n",
       "2             154.0               18.0                9.0              15.0  \n",
       "3             371.0               26.0                4.0              26.0  \n",
       "4             625.0               20.0               17.0              13.0  "
      ]
     },
     "metadata": {},
     "output_type": "display_data"
    },
    {
     "name": "stdout",
     "output_type": "stream",
     "text": [
      "Seller Dataset\n"
     ]
    },
    {
     "data": {
      "text/html": [
       "<div>\n",
       "<style scoped>\n",
       "    .dataframe tbody tr th:only-of-type {\n",
       "        vertical-align: middle;\n",
       "    }\n",
       "\n",
       "    .dataframe tbody tr th {\n",
       "        vertical-align: top;\n",
       "    }\n",
       "\n",
       "    .dataframe thead th {\n",
       "        text-align: right;\n",
       "    }\n",
       "</style>\n",
       "<table border=\"1\" class=\"dataframe\">\n",
       "  <thead>\n",
       "    <tr style=\"text-align: right;\">\n",
       "      <th></th>\n",
       "      <th>seller_id</th>\n",
       "      <th>seller_zip_code_prefix</th>\n",
       "      <th>seller_city</th>\n",
       "      <th>seller_state</th>\n",
       "    </tr>\n",
       "  </thead>\n",
       "  <tbody>\n",
       "    <tr>\n",
       "      <th>0</th>\n",
       "      <td>3442f8959a84dea7ee197c632cb2df15</td>\n",
       "      <td>13023</td>\n",
       "      <td>campinas</td>\n",
       "      <td>SP</td>\n",
       "    </tr>\n",
       "    <tr>\n",
       "      <th>1</th>\n",
       "      <td>d1b65fc7debc3361ea86b5f14c68d2e2</td>\n",
       "      <td>13844</td>\n",
       "      <td>mogi guacu</td>\n",
       "      <td>SP</td>\n",
       "    </tr>\n",
       "    <tr>\n",
       "      <th>2</th>\n",
       "      <td>ce3ad9de960102d0677a81f5d0bb7b2d</td>\n",
       "      <td>20031</td>\n",
       "      <td>rio de janeiro</td>\n",
       "      <td>RJ</td>\n",
       "    </tr>\n",
       "    <tr>\n",
       "      <th>3</th>\n",
       "      <td>c0f3eea2e14555b6faeea3dd58c1b1c3</td>\n",
       "      <td>4195</td>\n",
       "      <td>sao paulo</td>\n",
       "      <td>SP</td>\n",
       "    </tr>\n",
       "    <tr>\n",
       "      <th>4</th>\n",
       "      <td>51a04a8a6bdcb23deccc82b0b80742cf</td>\n",
       "      <td>12914</td>\n",
       "      <td>braganca paulista</td>\n",
       "      <td>SP</td>\n",
       "    </tr>\n",
       "  </tbody>\n",
       "</table>\n",
       "</div>"
      ],
      "text/plain": [
       "                          seller_id  seller_zip_code_prefix  \\\n",
       "0  3442f8959a84dea7ee197c632cb2df15                   13023   \n",
       "1  d1b65fc7debc3361ea86b5f14c68d2e2                   13844   \n",
       "2  ce3ad9de960102d0677a81f5d0bb7b2d                   20031   \n",
       "3  c0f3eea2e14555b6faeea3dd58c1b1c3                    4195   \n",
       "4  51a04a8a6bdcb23deccc82b0b80742cf                   12914   \n",
       "\n",
       "         seller_city seller_state  \n",
       "0           campinas           SP  \n",
       "1         mogi guacu           SP  \n",
       "2     rio de janeiro           RJ  \n",
       "3          sao paulo           SP  \n",
       "4  braganca paulista           SP  "
      ]
     },
     "metadata": {},
     "output_type": "display_data"
    },
    {
     "name": "stdout",
     "output_type": "stream",
     "text": [
      "Product Category Name Translation\n"
     ]
    },
    {
     "data": {
      "text/html": [
       "<div>\n",
       "<style scoped>\n",
       "    .dataframe tbody tr th:only-of-type {\n",
       "        vertical-align: middle;\n",
       "    }\n",
       "\n",
       "    .dataframe tbody tr th {\n",
       "        vertical-align: top;\n",
       "    }\n",
       "\n",
       "    .dataframe thead th {\n",
       "        text-align: right;\n",
       "    }\n",
       "</style>\n",
       "<table border=\"1\" class=\"dataframe\">\n",
       "  <thead>\n",
       "    <tr style=\"text-align: right;\">\n",
       "      <th></th>\n",
       "      <th>product_category_name</th>\n",
       "      <th>product_category_name_english</th>\n",
       "    </tr>\n",
       "  </thead>\n",
       "  <tbody>\n",
       "    <tr>\n",
       "      <th>0</th>\n",
       "      <td>beleza_saude</td>\n",
       "      <td>health_beauty</td>\n",
       "    </tr>\n",
       "    <tr>\n",
       "      <th>1</th>\n",
       "      <td>informatica_acessorios</td>\n",
       "      <td>computers_accessories</td>\n",
       "    </tr>\n",
       "    <tr>\n",
       "      <th>2</th>\n",
       "      <td>automotivo</td>\n",
       "      <td>auto</td>\n",
       "    </tr>\n",
       "    <tr>\n",
       "      <th>3</th>\n",
       "      <td>cama_mesa_banho</td>\n",
       "      <td>bed_bath_table</td>\n",
       "    </tr>\n",
       "    <tr>\n",
       "      <th>4</th>\n",
       "      <td>moveis_decoracao</td>\n",
       "      <td>furniture_decor</td>\n",
       "    </tr>\n",
       "  </tbody>\n",
       "</table>\n",
       "</div>"
      ],
      "text/plain": [
       "    product_category_name product_category_name_english\n",
       "0            beleza_saude                 health_beauty\n",
       "1  informatica_acessorios         computers_accessories\n",
       "2              automotivo                          auto\n",
       "3         cama_mesa_banho                bed_bath_table\n",
       "4        moveis_decoracao               furniture_decor"
      ]
     },
     "metadata": {},
     "output_type": "display_data"
    }
   ],
   "source": [
    "print('Customer Dataset')\n",
    "display(customer_dataset.head())\n",
    "print('Geolocation Dataset')\n",
    "display(geolocation_dataset.head())\n",
    "print('Ordered Items dataset')\n",
    "display(order_items_dataset.head())\n",
    "print('Order Payment dataset')\n",
    "display(order_payments_dataset.head())\n",
    "print('order Review Dataset')\n",
    "display(order_review_dataset.head())\n",
    "print('Order Dataset')\n",
    "display(order_dataset.head())\n",
    "print('Product Dataset')\n",
    "display(product_dataset.head())\n",
    "print('Seller Dataset')\n",
    "display(seller_dataset.head())\n",
    "print('Product Category Name Translation')\n",
    "display(product_name_dataset.head())"
   ]
  },
  {
   "cell_type": "code",
   "execution_count": 4,
   "id": "b0ca515e",
   "metadata": {
    "_cell_guid": "10741946-40c8-429e-a2ef-aa5005213aa0",
    "_uuid": "8e7b8a56-de94-4c9a-8785-a00bb33f4224",
    "collapsed": false,
    "execution": {
     "iopub.execute_input": "2025-07-05T03:36:30.460646Z",
     "iopub.status.busy": "2025-07-05T03:36:30.460355Z",
     "iopub.status.idle": "2025-07-05T03:36:30.608286Z",
     "shell.execute_reply": "2025-07-05T03:36:30.607260Z"
    },
    "jupyter": {
     "outputs_hidden": false
    },
    "papermill": {
     "duration": 0.158422,
     "end_time": "2025-07-05T03:36:30.610008",
     "exception": false,
     "start_time": "2025-07-05T03:36:30.451586",
     "status": "completed"
    },
    "tags": []
   },
   "outputs": [],
   "source": [
    "df=order_dataset.merge(order_items_dataset,how='inner',on='order_id')"
   ]
  },
  {
   "cell_type": "code",
   "execution_count": 5,
   "id": "f99dfc22",
   "metadata": {
    "execution": {
     "iopub.execute_input": "2025-07-05T03:36:30.627238Z",
     "iopub.status.busy": "2025-07-05T03:36:30.626806Z",
     "iopub.status.idle": "2025-07-05T03:36:30.857151Z",
     "shell.execute_reply": "2025-07-05T03:36:30.856280Z"
    },
    "papermill": {
     "duration": 0.240869,
     "end_time": "2025-07-05T03:36:30.858812",
     "exception": false,
     "start_time": "2025-07-05T03:36:30.617943",
     "status": "completed"
    },
    "tags": []
   },
   "outputs": [],
   "source": [
    "df=df.merge(order_payments_dataset,how='inner',on='order_id')"
   ]
  },
  {
   "cell_type": "code",
   "execution_count": 6,
   "id": "2d384929",
   "metadata": {
    "execution": {
     "iopub.execute_input": "2025-07-05T03:36:30.875748Z",
     "iopub.status.busy": "2025-07-05T03:36:30.875069Z",
     "iopub.status.idle": "2025-07-05T03:36:31.130220Z",
     "shell.execute_reply": "2025-07-05T03:36:31.129210Z"
    },
    "papermill": {
     "duration": 0.265266,
     "end_time": "2025-07-05T03:36:31.131894",
     "exception": false,
     "start_time": "2025-07-05T03:36:30.866628",
     "status": "completed"
    },
    "tags": []
   },
   "outputs": [],
   "source": [
    "df=df.merge(order_review_dataset,how='inner',on='order_id')"
   ]
  },
  {
   "cell_type": "code",
   "execution_count": 7,
   "id": "c8f2adea",
   "metadata": {
    "execution": {
     "iopub.execute_input": "2025-07-05T03:36:31.149756Z",
     "iopub.status.busy": "2025-07-05T03:36:31.149476Z",
     "iopub.status.idle": "2025-07-05T03:36:31.334555Z",
     "shell.execute_reply": "2025-07-05T03:36:31.333482Z"
    },
    "papermill": {
     "duration": 0.195671,
     "end_time": "2025-07-05T03:36:31.336199",
     "exception": false,
     "start_time": "2025-07-05T03:36:31.140528",
     "status": "completed"
    },
    "tags": []
   },
   "outputs": [],
   "source": [
    "df=df.merge(product_dataset,how='inner',on='product_id')"
   ]
  },
  {
   "cell_type": "code",
   "execution_count": 8,
   "id": "1106d072",
   "metadata": {
    "execution": {
     "iopub.execute_input": "2025-07-05T03:36:31.352870Z",
     "iopub.status.busy": "2025-07-05T03:36:31.352547Z",
     "iopub.status.idle": "2025-07-05T03:36:31.548955Z",
     "shell.execute_reply": "2025-07-05T03:36:31.548058Z"
    },
    "papermill": {
     "duration": 0.206513,
     "end_time": "2025-07-05T03:36:31.550591",
     "exception": false,
     "start_time": "2025-07-05T03:36:31.344078",
     "status": "completed"
    },
    "tags": []
   },
   "outputs": [],
   "source": [
    "df=df.merge(seller_dataset,how='inner',on='seller_id')"
   ]
  },
  {
   "cell_type": "code",
   "execution_count": 9,
   "id": "43c51ac0",
   "metadata": {
    "execution": {
     "iopub.execute_input": "2025-07-05T03:36:31.567390Z",
     "iopub.status.busy": "2025-07-05T03:36:31.566593Z",
     "iopub.status.idle": "2025-07-05T03:36:31.825215Z",
     "shell.execute_reply": "2025-07-05T03:36:31.824433Z"
    },
    "papermill": {
     "duration": 0.268735,
     "end_time": "2025-07-05T03:36:31.826988",
     "exception": false,
     "start_time": "2025-07-05T03:36:31.558253",
     "status": "completed"
    },
    "tags": []
   },
   "outputs": [],
   "source": [
    "df=df.merge(product_name_dataset,how='inner',on='product_category_name')"
   ]
  },
  {
   "cell_type": "code",
   "execution_count": 10,
   "id": "f4ad99d0",
   "metadata": {
    "execution": {
     "iopub.execute_input": "2025-07-05T03:36:31.843644Z",
     "iopub.status.busy": "2025-07-05T03:36:31.843375Z",
     "iopub.status.idle": "2025-07-05T03:36:32.091576Z",
     "shell.execute_reply": "2025-07-05T03:36:32.090767Z"
    },
    "papermill": {
     "duration": 0.25829,
     "end_time": "2025-07-05T03:36:32.093273",
     "exception": false,
     "start_time": "2025-07-05T03:36:31.834983",
     "status": "completed"
    },
    "tags": []
   },
   "outputs": [],
   "source": [
    "df=df.merge(customer_dataset,how='inner',on='customer_id')"
   ]
  },
  {
   "cell_type": "code",
   "execution_count": 11,
   "id": "340feb8f",
   "metadata": {
    "execution": {
     "iopub.execute_input": "2025-07-05T03:36:32.110427Z",
     "iopub.status.busy": "2025-07-05T03:36:32.110156Z",
     "iopub.status.idle": "2025-07-05T03:36:32.129885Z",
     "shell.execute_reply": "2025-07-05T03:36:32.128942Z"
    },
    "papermill": {
     "duration": 0.029958,
     "end_time": "2025-07-05T03:36:32.131610",
     "exception": false,
     "start_time": "2025-07-05T03:36:32.101652",
     "status": "completed"
    },
    "tags": []
   },
   "outputs": [
    {
     "data": {
      "text/html": [
       "<div>\n",
       "<style scoped>\n",
       "    .dataframe tbody tr th:only-of-type {\n",
       "        vertical-align: middle;\n",
       "    }\n",
       "\n",
       "    .dataframe tbody tr th {\n",
       "        vertical-align: top;\n",
       "    }\n",
       "\n",
       "    .dataframe thead th {\n",
       "        text-align: right;\n",
       "    }\n",
       "</style>\n",
       "<table border=\"1\" class=\"dataframe\">\n",
       "  <thead>\n",
       "    <tr style=\"text-align: right;\">\n",
       "      <th></th>\n",
       "      <th>order_id</th>\n",
       "      <th>customer_id</th>\n",
       "      <th>order_status</th>\n",
       "      <th>order_purchase_timestamp</th>\n",
       "      <th>order_approved_at</th>\n",
       "      <th>order_delivered_carrier_date</th>\n",
       "      <th>order_delivered_customer_date</th>\n",
       "      <th>order_estimated_delivery_date</th>\n",
       "      <th>order_item_id</th>\n",
       "      <th>product_id</th>\n",
       "      <th>...</th>\n",
       "      <th>product_height_cm</th>\n",
       "      <th>product_width_cm</th>\n",
       "      <th>seller_zip_code_prefix</th>\n",
       "      <th>seller_city</th>\n",
       "      <th>seller_state</th>\n",
       "      <th>product_category_name_english</th>\n",
       "      <th>customer_unique_id</th>\n",
       "      <th>customer_zip_code_prefix</th>\n",
       "      <th>customer_city</th>\n",
       "      <th>customer_state</th>\n",
       "    </tr>\n",
       "  </thead>\n",
       "  <tbody>\n",
       "    <tr>\n",
       "      <th>0</th>\n",
       "      <td>e481f51cbdc54678b7cc49136f2d6af7</td>\n",
       "      <td>9ef432eb6251297304e76186b10a928d</td>\n",
       "      <td>delivered</td>\n",
       "      <td>2017-10-02 10:56:33</td>\n",
       "      <td>2017-10-02 11:07:15</td>\n",
       "      <td>2017-10-04 19:55:00</td>\n",
       "      <td>2017-10-10 21:25:13</td>\n",
       "      <td>2017-10-18 00:00:00</td>\n",
       "      <td>1</td>\n",
       "      <td>87285b34884572647811a353c7ac498a</td>\n",
       "      <td>...</td>\n",
       "      <td>8.0</td>\n",
       "      <td>13.0</td>\n",
       "      <td>9350</td>\n",
       "      <td>maua</td>\n",
       "      <td>SP</td>\n",
       "      <td>housewares</td>\n",
       "      <td>7c396fd4830fd04220f754e42b4e5bff</td>\n",
       "      <td>3149</td>\n",
       "      <td>sao paulo</td>\n",
       "      <td>SP</td>\n",
       "    </tr>\n",
       "    <tr>\n",
       "      <th>1</th>\n",
       "      <td>e481f51cbdc54678b7cc49136f2d6af7</td>\n",
       "      <td>9ef432eb6251297304e76186b10a928d</td>\n",
       "      <td>delivered</td>\n",
       "      <td>2017-10-02 10:56:33</td>\n",
       "      <td>2017-10-02 11:07:15</td>\n",
       "      <td>2017-10-04 19:55:00</td>\n",
       "      <td>2017-10-10 21:25:13</td>\n",
       "      <td>2017-10-18 00:00:00</td>\n",
       "      <td>1</td>\n",
       "      <td>87285b34884572647811a353c7ac498a</td>\n",
       "      <td>...</td>\n",
       "      <td>8.0</td>\n",
       "      <td>13.0</td>\n",
       "      <td>9350</td>\n",
       "      <td>maua</td>\n",
       "      <td>SP</td>\n",
       "      <td>housewares</td>\n",
       "      <td>7c396fd4830fd04220f754e42b4e5bff</td>\n",
       "      <td>3149</td>\n",
       "      <td>sao paulo</td>\n",
       "      <td>SP</td>\n",
       "    </tr>\n",
       "    <tr>\n",
       "      <th>2</th>\n",
       "      <td>e481f51cbdc54678b7cc49136f2d6af7</td>\n",
       "      <td>9ef432eb6251297304e76186b10a928d</td>\n",
       "      <td>delivered</td>\n",
       "      <td>2017-10-02 10:56:33</td>\n",
       "      <td>2017-10-02 11:07:15</td>\n",
       "      <td>2017-10-04 19:55:00</td>\n",
       "      <td>2017-10-10 21:25:13</td>\n",
       "      <td>2017-10-18 00:00:00</td>\n",
       "      <td>1</td>\n",
       "      <td>87285b34884572647811a353c7ac498a</td>\n",
       "      <td>...</td>\n",
       "      <td>8.0</td>\n",
       "      <td>13.0</td>\n",
       "      <td>9350</td>\n",
       "      <td>maua</td>\n",
       "      <td>SP</td>\n",
       "      <td>housewares</td>\n",
       "      <td>7c396fd4830fd04220f754e42b4e5bff</td>\n",
       "      <td>3149</td>\n",
       "      <td>sao paulo</td>\n",
       "      <td>SP</td>\n",
       "    </tr>\n",
       "    <tr>\n",
       "      <th>3</th>\n",
       "      <td>53cdb2fc8bc7dce0b6741e2150273451</td>\n",
       "      <td>b0830fb4747a6c6d20dea0b8c802d7ef</td>\n",
       "      <td>delivered</td>\n",
       "      <td>2018-07-24 20:41:37</td>\n",
       "      <td>2018-07-26 03:24:27</td>\n",
       "      <td>2018-07-26 14:31:00</td>\n",
       "      <td>2018-08-07 15:27:45</td>\n",
       "      <td>2018-08-13 00:00:00</td>\n",
       "      <td>1</td>\n",
       "      <td>595fac2a385ac33a80bd5114aec74eb8</td>\n",
       "      <td>...</td>\n",
       "      <td>13.0</td>\n",
       "      <td>19.0</td>\n",
       "      <td>31570</td>\n",
       "      <td>belo horizonte</td>\n",
       "      <td>SP</td>\n",
       "      <td>perfumery</td>\n",
       "      <td>af07308b275d755c9edb36a90c618231</td>\n",
       "      <td>47813</td>\n",
       "      <td>barreiras</td>\n",
       "      <td>BA</td>\n",
       "    </tr>\n",
       "    <tr>\n",
       "      <th>4</th>\n",
       "      <td>47770eb9100c2d0c44946d9cf07ec65d</td>\n",
       "      <td>41ce2a54c0b03bf3443c3d931a367089</td>\n",
       "      <td>delivered</td>\n",
       "      <td>2018-08-08 08:38:49</td>\n",
       "      <td>2018-08-08 08:55:23</td>\n",
       "      <td>2018-08-08 13:50:00</td>\n",
       "      <td>2018-08-17 18:06:29</td>\n",
       "      <td>2018-09-04 00:00:00</td>\n",
       "      <td>1</td>\n",
       "      <td>aa4383b373c6aca5d8797843e5594415</td>\n",
       "      <td>...</td>\n",
       "      <td>19.0</td>\n",
       "      <td>21.0</td>\n",
       "      <td>14840</td>\n",
       "      <td>guariba</td>\n",
       "      <td>SP</td>\n",
       "      <td>auto</td>\n",
       "      <td>3a653a41f6f9fc3d2a113cf8398680e8</td>\n",
       "      <td>75265</td>\n",
       "      <td>vianopolis</td>\n",
       "      <td>GO</td>\n",
       "    </tr>\n",
       "  </tbody>\n",
       "</table>\n",
       "<p>5 rows × 40 columns</p>\n",
       "</div>"
      ],
      "text/plain": [
       "                           order_id                       customer_id  \\\n",
       "0  e481f51cbdc54678b7cc49136f2d6af7  9ef432eb6251297304e76186b10a928d   \n",
       "1  e481f51cbdc54678b7cc49136f2d6af7  9ef432eb6251297304e76186b10a928d   \n",
       "2  e481f51cbdc54678b7cc49136f2d6af7  9ef432eb6251297304e76186b10a928d   \n",
       "3  53cdb2fc8bc7dce0b6741e2150273451  b0830fb4747a6c6d20dea0b8c802d7ef   \n",
       "4  47770eb9100c2d0c44946d9cf07ec65d  41ce2a54c0b03bf3443c3d931a367089   \n",
       "\n",
       "  order_status order_purchase_timestamp    order_approved_at  \\\n",
       "0    delivered      2017-10-02 10:56:33  2017-10-02 11:07:15   \n",
       "1    delivered      2017-10-02 10:56:33  2017-10-02 11:07:15   \n",
       "2    delivered      2017-10-02 10:56:33  2017-10-02 11:07:15   \n",
       "3    delivered      2018-07-24 20:41:37  2018-07-26 03:24:27   \n",
       "4    delivered      2018-08-08 08:38:49  2018-08-08 08:55:23   \n",
       "\n",
       "  order_delivered_carrier_date order_delivered_customer_date  \\\n",
       "0          2017-10-04 19:55:00           2017-10-10 21:25:13   \n",
       "1          2017-10-04 19:55:00           2017-10-10 21:25:13   \n",
       "2          2017-10-04 19:55:00           2017-10-10 21:25:13   \n",
       "3          2018-07-26 14:31:00           2018-08-07 15:27:45   \n",
       "4          2018-08-08 13:50:00           2018-08-17 18:06:29   \n",
       "\n",
       "  order_estimated_delivery_date  order_item_id  \\\n",
       "0           2017-10-18 00:00:00              1   \n",
       "1           2017-10-18 00:00:00              1   \n",
       "2           2017-10-18 00:00:00              1   \n",
       "3           2018-08-13 00:00:00              1   \n",
       "4           2018-09-04 00:00:00              1   \n",
       "\n",
       "                         product_id  ... product_height_cm product_width_cm  \\\n",
       "0  87285b34884572647811a353c7ac498a  ...               8.0             13.0   \n",
       "1  87285b34884572647811a353c7ac498a  ...               8.0             13.0   \n",
       "2  87285b34884572647811a353c7ac498a  ...               8.0             13.0   \n",
       "3  595fac2a385ac33a80bd5114aec74eb8  ...              13.0             19.0   \n",
       "4  aa4383b373c6aca5d8797843e5594415  ...              19.0             21.0   \n",
       "\n",
       "   seller_zip_code_prefix     seller_city  seller_state  \\\n",
       "0                    9350            maua            SP   \n",
       "1                    9350            maua            SP   \n",
       "2                    9350            maua            SP   \n",
       "3                   31570  belo horizonte            SP   \n",
       "4                   14840         guariba            SP   \n",
       "\n",
       "  product_category_name_english                customer_unique_id  \\\n",
       "0                    housewares  7c396fd4830fd04220f754e42b4e5bff   \n",
       "1                    housewares  7c396fd4830fd04220f754e42b4e5bff   \n",
       "2                    housewares  7c396fd4830fd04220f754e42b4e5bff   \n",
       "3                     perfumery  af07308b275d755c9edb36a90c618231   \n",
       "4                          auto  3a653a41f6f9fc3d2a113cf8398680e8   \n",
       "\n",
       "   customer_zip_code_prefix customer_city  customer_state  \n",
       "0                      3149     sao paulo              SP  \n",
       "1                      3149     sao paulo              SP  \n",
       "2                      3149     sao paulo              SP  \n",
       "3                     47813     barreiras              BA  \n",
       "4                     75265    vianopolis              GO  \n",
       "\n",
       "[5 rows x 40 columns]"
      ]
     },
     "execution_count": 11,
     "metadata": {},
     "output_type": "execute_result"
    }
   ],
   "source": [
    "df.head()"
   ]
  },
  {
   "cell_type": "code",
   "execution_count": 12,
   "id": "8b12d283",
   "metadata": {
    "execution": {
     "iopub.execute_input": "2025-07-05T03:36:32.149096Z",
     "iopub.status.busy": "2025-07-05T03:36:32.148762Z",
     "iopub.status.idle": "2025-07-05T03:36:32.154632Z",
     "shell.execute_reply": "2025-07-05T03:36:32.153787Z"
    },
    "papermill": {
     "duration": 0.016271,
     "end_time": "2025-07-05T03:36:32.156260",
     "exception": false,
     "start_time": "2025-07-05T03:36:32.139989",
     "status": "completed"
    },
    "tags": []
   },
   "outputs": [
    {
     "data": {
      "text/plain": [
       "(115609, 40)"
      ]
     },
     "execution_count": 12,
     "metadata": {},
     "output_type": "execute_result"
    }
   ],
   "source": [
    "df.shape"
   ]
  },
  {
   "cell_type": "markdown",
   "id": "f4fe7e2b",
   "metadata": {
    "papermill": {
     "duration": 0.008054,
     "end_time": "2025-07-05T03:36:32.172832",
     "exception": false,
     "start_time": "2025-07-05T03:36:32.164778",
     "status": "completed"
    },
    "tags": []
   },
   "source": [
    "# *Checking for Null Values and Duplicates*"
   ]
  },
  {
   "cell_type": "code",
   "execution_count": 13,
   "id": "5e3ec9fd",
   "metadata": {
    "execution": {
     "iopub.execute_input": "2025-07-05T03:36:32.190021Z",
     "iopub.status.busy": "2025-07-05T03:36:32.189708Z",
     "iopub.status.idle": "2025-07-05T03:36:32.397694Z",
     "shell.execute_reply": "2025-07-05T03:36:32.396590Z"
    },
    "papermill": {
     "duration": 0.218332,
     "end_time": "2025-07-05T03:36:32.399281",
     "exception": false,
     "start_time": "2025-07-05T03:36:32.180949",
     "status": "completed"
    },
    "tags": []
   },
   "outputs": [
    {
     "name": "stdout",
     "output_type": "stream",
     "text": [
      "<class 'pandas.core.frame.DataFrame'>\n",
      "RangeIndex: 115609 entries, 0 to 115608\n",
      "Data columns (total 40 columns):\n",
      " #   Column                         Non-Null Count   Dtype  \n",
      "---  ------                         --------------   -----  \n",
      " 0   order_id                       115609 non-null  object \n",
      " 1   customer_id                    115609 non-null  object \n",
      " 2   order_status                   115609 non-null  object \n",
      " 3   order_purchase_timestamp       115609 non-null  object \n",
      " 4   order_approved_at              115595 non-null  object \n",
      " 5   order_delivered_carrier_date   114414 non-null  object \n",
      " 6   order_delivered_customer_date  113209 non-null  object \n",
      " 7   order_estimated_delivery_date  115609 non-null  object \n",
      " 8   order_item_id                  115609 non-null  int64  \n",
      " 9   product_id                     115609 non-null  object \n",
      " 10  seller_id                      115609 non-null  object \n",
      " 11  shipping_limit_date            115609 non-null  object \n",
      " 12  price                          115609 non-null  float64\n",
      " 13  freight_value                  115609 non-null  float64\n",
      " 14  payment_sequential             115609 non-null  int64  \n",
      " 15  payment_type                   115609 non-null  object \n",
      " 16  payment_installments           115609 non-null  int64  \n",
      " 17  payment_value                  115609 non-null  float64\n",
      " 18  review_id                      115609 non-null  object \n",
      " 19  review_score                   115609 non-null  int64  \n",
      " 20  review_comment_title           13801 non-null   object \n",
      " 21  review_comment_message         48906 non-null   object \n",
      " 22  review_creation_date           115609 non-null  object \n",
      " 23  review_answer_timestamp        115609 non-null  object \n",
      " 24  product_category_name          115609 non-null  object \n",
      " 25  product_name_lenght            115609 non-null  float64\n",
      " 26  product_description_lenght     115609 non-null  float64\n",
      " 27  product_photos_qty             115609 non-null  float64\n",
      " 28  product_weight_g               115608 non-null  float64\n",
      " 29  product_length_cm              115608 non-null  float64\n",
      " 30  product_height_cm              115608 non-null  float64\n",
      " 31  product_width_cm               115608 non-null  float64\n",
      " 32  seller_zip_code_prefix         115609 non-null  int64  \n",
      " 33  seller_city                    115609 non-null  object \n",
      " 34  seller_state                   115609 non-null  object \n",
      " 35  product_category_name_english  115609 non-null  object \n",
      " 36  customer_unique_id             115609 non-null  object \n",
      " 37  customer_zip_code_prefix       115609 non-null  int64  \n",
      " 38  customer_city                  115609 non-null  object \n",
      " 39  customer_state                 115609 non-null  object \n",
      "dtypes: float64(10), int64(6), object(24)\n",
      "memory usage: 35.3+ MB\n"
     ]
    }
   ],
   "source": [
    "df.info()"
   ]
  },
  {
   "cell_type": "code",
   "execution_count": 14,
   "id": "df0b3dfc",
   "metadata": {
    "execution": {
     "iopub.execute_input": "2025-07-05T03:36:32.417723Z",
     "iopub.status.busy": "2025-07-05T03:36:32.417421Z",
     "iopub.status.idle": "2025-07-05T03:36:32.603973Z",
     "shell.execute_reply": "2025-07-05T03:36:32.603146Z"
    },
    "papermill": {
     "duration": 0.197188,
     "end_time": "2025-07-05T03:36:32.605509",
     "exception": false,
     "start_time": "2025-07-05T03:36:32.408321",
     "status": "completed"
    },
    "tags": []
   },
   "outputs": [
    {
     "data": {
      "text/plain": [
       "review_comment_title             101808\n",
       "review_comment_message            66703\n",
       "order_delivered_customer_date      2400\n",
       "order_delivered_carrier_date       1195\n",
       "order_approved_at                    14\n",
       "product_width_cm                      1\n",
       "product_length_cm                     1\n",
       "product_weight_g                      1\n",
       "product_height_cm                     1\n",
       "review_answer_timestamp               0\n",
       "product_category_name                 0\n",
       "product_name_lenght                   0\n",
       "product_description_lenght            0\n",
       "product_photos_qty                    0\n",
       "customer_city                         0\n",
       "customer_zip_code_prefix              0\n",
       "review_creation_date                  0\n",
       "seller_city                           0\n",
       "seller_state                          0\n",
       "product_category_name_english         0\n",
       "customer_unique_id                    0\n",
       "seller_zip_code_prefix                0\n",
       "order_id                              0\n",
       "customer_id                           0\n",
       "shipping_limit_date                   0\n",
       "order_status                          0\n",
       "order_purchase_timestamp              0\n",
       "order_estimated_delivery_date         0\n",
       "order_item_id                         0\n",
       "product_id                            0\n",
       "seller_id                             0\n",
       "price                                 0\n",
       "review_score                          0\n",
       "freight_value                         0\n",
       "payment_sequential                    0\n",
       "payment_type                          0\n",
       "payment_installments                  0\n",
       "payment_value                         0\n",
       "review_id                             0\n",
       "customer_state                        0\n",
       "dtype: int64"
      ]
     },
     "execution_count": 14,
     "metadata": {},
     "output_type": "execute_result"
    }
   ],
   "source": [
    "df.isnull().sum().sort_values(ascending=False)"
   ]
  },
  {
   "cell_type": "code",
   "execution_count": 15,
   "id": "654c4adf",
   "metadata": {
    "execution": {
     "iopub.execute_input": "2025-07-05T03:36:32.623622Z",
     "iopub.status.busy": "2025-07-05T03:36:32.623280Z",
     "iopub.status.idle": "2025-07-05T03:36:33.156264Z",
     "shell.execute_reply": "2025-07-05T03:36:33.155377Z"
    },
    "papermill": {
     "duration": 0.54386,
     "end_time": "2025-07-05T03:36:33.157838",
     "exception": false,
     "start_time": "2025-07-05T03:36:32.613978",
     "status": "completed"
    },
    "tags": []
   },
   "outputs": [
    {
     "data": {
      "text/plain": [
       "0"
      ]
     },
     "execution_count": 15,
     "metadata": {},
     "output_type": "execute_result"
    }
   ],
   "source": [
    "df.duplicated().sum()"
   ]
  },
  {
   "cell_type": "markdown",
   "id": "a620b513",
   "metadata": {
    "papermill": {
     "duration": 0.008128,
     "end_time": "2025-07-05T03:36:33.174544",
     "exception": false,
     "start_time": "2025-07-05T03:36:33.166416",
     "status": "completed"
    },
    "tags": []
   },
   "source": [
    "# Dropping Columns with more than 50% null values"
   ]
  },
  {
   "cell_type": "code",
   "execution_count": 16,
   "id": "ec5f4c84",
   "metadata": {
    "execution": {
     "iopub.execute_input": "2025-07-05T03:36:33.193036Z",
     "iopub.status.busy": "2025-07-05T03:36:33.192702Z",
     "iopub.status.idle": "2025-07-05T03:36:33.241871Z",
     "shell.execute_reply": "2025-07-05T03:36:33.240886Z"
    },
    "papermill": {
     "duration": 0.060836,
     "end_time": "2025-07-05T03:36:33.243729",
     "exception": false,
     "start_time": "2025-07-05T03:36:33.182893",
     "status": "completed"
    },
    "tags": []
   },
   "outputs": [],
   "source": [
    "data=df.drop(['review_comment_title','review_comment_message'],axis=1)"
   ]
  },
  {
   "cell_type": "code",
   "execution_count": 17,
   "id": "48840f8f",
   "metadata": {
    "execution": {
     "iopub.execute_input": "2025-07-05T03:36:33.262246Z",
     "iopub.status.busy": "2025-07-05T03:36:33.261545Z",
     "iopub.status.idle": "2025-07-05T03:36:33.280566Z",
     "shell.execute_reply": "2025-07-05T03:36:33.279900Z"
    },
    "papermill": {
     "duration": 0.029726,
     "end_time": "2025-07-05T03:36:33.282057",
     "exception": false,
     "start_time": "2025-07-05T03:36:33.252331",
     "status": "completed"
    },
    "tags": []
   },
   "outputs": [
    {
     "data": {
      "text/html": [
       "<div>\n",
       "<style scoped>\n",
       "    .dataframe tbody tr th:only-of-type {\n",
       "        vertical-align: middle;\n",
       "    }\n",
       "\n",
       "    .dataframe tbody tr th {\n",
       "        vertical-align: top;\n",
       "    }\n",
       "\n",
       "    .dataframe thead th {\n",
       "        text-align: right;\n",
       "    }\n",
       "</style>\n",
       "<table border=\"1\" class=\"dataframe\">\n",
       "  <thead>\n",
       "    <tr style=\"text-align: right;\">\n",
       "      <th></th>\n",
       "      <th>order_id</th>\n",
       "      <th>customer_id</th>\n",
       "      <th>order_status</th>\n",
       "      <th>order_purchase_timestamp</th>\n",
       "      <th>order_approved_at</th>\n",
       "      <th>order_delivered_carrier_date</th>\n",
       "      <th>order_delivered_customer_date</th>\n",
       "      <th>order_estimated_delivery_date</th>\n",
       "      <th>order_item_id</th>\n",
       "      <th>product_id</th>\n",
       "      <th>...</th>\n",
       "      <th>product_height_cm</th>\n",
       "      <th>product_width_cm</th>\n",
       "      <th>seller_zip_code_prefix</th>\n",
       "      <th>seller_city</th>\n",
       "      <th>seller_state</th>\n",
       "      <th>product_category_name_english</th>\n",
       "      <th>customer_unique_id</th>\n",
       "      <th>customer_zip_code_prefix</th>\n",
       "      <th>customer_city</th>\n",
       "      <th>customer_state</th>\n",
       "    </tr>\n",
       "  </thead>\n",
       "  <tbody>\n",
       "    <tr>\n",
       "      <th>0</th>\n",
       "      <td>e481f51cbdc54678b7cc49136f2d6af7</td>\n",
       "      <td>9ef432eb6251297304e76186b10a928d</td>\n",
       "      <td>delivered</td>\n",
       "      <td>2017-10-02 10:56:33</td>\n",
       "      <td>2017-10-02 11:07:15</td>\n",
       "      <td>2017-10-04 19:55:00</td>\n",
       "      <td>2017-10-10 21:25:13</td>\n",
       "      <td>2017-10-18 00:00:00</td>\n",
       "      <td>1</td>\n",
       "      <td>87285b34884572647811a353c7ac498a</td>\n",
       "      <td>...</td>\n",
       "      <td>8.0</td>\n",
       "      <td>13.0</td>\n",
       "      <td>9350</td>\n",
       "      <td>maua</td>\n",
       "      <td>SP</td>\n",
       "      <td>housewares</td>\n",
       "      <td>7c396fd4830fd04220f754e42b4e5bff</td>\n",
       "      <td>3149</td>\n",
       "      <td>sao paulo</td>\n",
       "      <td>SP</td>\n",
       "    </tr>\n",
       "    <tr>\n",
       "      <th>1</th>\n",
       "      <td>e481f51cbdc54678b7cc49136f2d6af7</td>\n",
       "      <td>9ef432eb6251297304e76186b10a928d</td>\n",
       "      <td>delivered</td>\n",
       "      <td>2017-10-02 10:56:33</td>\n",
       "      <td>2017-10-02 11:07:15</td>\n",
       "      <td>2017-10-04 19:55:00</td>\n",
       "      <td>2017-10-10 21:25:13</td>\n",
       "      <td>2017-10-18 00:00:00</td>\n",
       "      <td>1</td>\n",
       "      <td>87285b34884572647811a353c7ac498a</td>\n",
       "      <td>...</td>\n",
       "      <td>8.0</td>\n",
       "      <td>13.0</td>\n",
       "      <td>9350</td>\n",
       "      <td>maua</td>\n",
       "      <td>SP</td>\n",
       "      <td>housewares</td>\n",
       "      <td>7c396fd4830fd04220f754e42b4e5bff</td>\n",
       "      <td>3149</td>\n",
       "      <td>sao paulo</td>\n",
       "      <td>SP</td>\n",
       "    </tr>\n",
       "    <tr>\n",
       "      <th>2</th>\n",
       "      <td>e481f51cbdc54678b7cc49136f2d6af7</td>\n",
       "      <td>9ef432eb6251297304e76186b10a928d</td>\n",
       "      <td>delivered</td>\n",
       "      <td>2017-10-02 10:56:33</td>\n",
       "      <td>2017-10-02 11:07:15</td>\n",
       "      <td>2017-10-04 19:55:00</td>\n",
       "      <td>2017-10-10 21:25:13</td>\n",
       "      <td>2017-10-18 00:00:00</td>\n",
       "      <td>1</td>\n",
       "      <td>87285b34884572647811a353c7ac498a</td>\n",
       "      <td>...</td>\n",
       "      <td>8.0</td>\n",
       "      <td>13.0</td>\n",
       "      <td>9350</td>\n",
       "      <td>maua</td>\n",
       "      <td>SP</td>\n",
       "      <td>housewares</td>\n",
       "      <td>7c396fd4830fd04220f754e42b4e5bff</td>\n",
       "      <td>3149</td>\n",
       "      <td>sao paulo</td>\n",
       "      <td>SP</td>\n",
       "    </tr>\n",
       "    <tr>\n",
       "      <th>3</th>\n",
       "      <td>53cdb2fc8bc7dce0b6741e2150273451</td>\n",
       "      <td>b0830fb4747a6c6d20dea0b8c802d7ef</td>\n",
       "      <td>delivered</td>\n",
       "      <td>2018-07-24 20:41:37</td>\n",
       "      <td>2018-07-26 03:24:27</td>\n",
       "      <td>2018-07-26 14:31:00</td>\n",
       "      <td>2018-08-07 15:27:45</td>\n",
       "      <td>2018-08-13 00:00:00</td>\n",
       "      <td>1</td>\n",
       "      <td>595fac2a385ac33a80bd5114aec74eb8</td>\n",
       "      <td>...</td>\n",
       "      <td>13.0</td>\n",
       "      <td>19.0</td>\n",
       "      <td>31570</td>\n",
       "      <td>belo horizonte</td>\n",
       "      <td>SP</td>\n",
       "      <td>perfumery</td>\n",
       "      <td>af07308b275d755c9edb36a90c618231</td>\n",
       "      <td>47813</td>\n",
       "      <td>barreiras</td>\n",
       "      <td>BA</td>\n",
       "    </tr>\n",
       "    <tr>\n",
       "      <th>4</th>\n",
       "      <td>47770eb9100c2d0c44946d9cf07ec65d</td>\n",
       "      <td>41ce2a54c0b03bf3443c3d931a367089</td>\n",
       "      <td>delivered</td>\n",
       "      <td>2018-08-08 08:38:49</td>\n",
       "      <td>2018-08-08 08:55:23</td>\n",
       "      <td>2018-08-08 13:50:00</td>\n",
       "      <td>2018-08-17 18:06:29</td>\n",
       "      <td>2018-09-04 00:00:00</td>\n",
       "      <td>1</td>\n",
       "      <td>aa4383b373c6aca5d8797843e5594415</td>\n",
       "      <td>...</td>\n",
       "      <td>19.0</td>\n",
       "      <td>21.0</td>\n",
       "      <td>14840</td>\n",
       "      <td>guariba</td>\n",
       "      <td>SP</td>\n",
       "      <td>auto</td>\n",
       "      <td>3a653a41f6f9fc3d2a113cf8398680e8</td>\n",
       "      <td>75265</td>\n",
       "      <td>vianopolis</td>\n",
       "      <td>GO</td>\n",
       "    </tr>\n",
       "  </tbody>\n",
       "</table>\n",
       "<p>5 rows × 38 columns</p>\n",
       "</div>"
      ],
      "text/plain": [
       "                           order_id                       customer_id  \\\n",
       "0  e481f51cbdc54678b7cc49136f2d6af7  9ef432eb6251297304e76186b10a928d   \n",
       "1  e481f51cbdc54678b7cc49136f2d6af7  9ef432eb6251297304e76186b10a928d   \n",
       "2  e481f51cbdc54678b7cc49136f2d6af7  9ef432eb6251297304e76186b10a928d   \n",
       "3  53cdb2fc8bc7dce0b6741e2150273451  b0830fb4747a6c6d20dea0b8c802d7ef   \n",
       "4  47770eb9100c2d0c44946d9cf07ec65d  41ce2a54c0b03bf3443c3d931a367089   \n",
       "\n",
       "  order_status order_purchase_timestamp    order_approved_at  \\\n",
       "0    delivered      2017-10-02 10:56:33  2017-10-02 11:07:15   \n",
       "1    delivered      2017-10-02 10:56:33  2017-10-02 11:07:15   \n",
       "2    delivered      2017-10-02 10:56:33  2017-10-02 11:07:15   \n",
       "3    delivered      2018-07-24 20:41:37  2018-07-26 03:24:27   \n",
       "4    delivered      2018-08-08 08:38:49  2018-08-08 08:55:23   \n",
       "\n",
       "  order_delivered_carrier_date order_delivered_customer_date  \\\n",
       "0          2017-10-04 19:55:00           2017-10-10 21:25:13   \n",
       "1          2017-10-04 19:55:00           2017-10-10 21:25:13   \n",
       "2          2017-10-04 19:55:00           2017-10-10 21:25:13   \n",
       "3          2018-07-26 14:31:00           2018-08-07 15:27:45   \n",
       "4          2018-08-08 13:50:00           2018-08-17 18:06:29   \n",
       "\n",
       "  order_estimated_delivery_date  order_item_id  \\\n",
       "0           2017-10-18 00:00:00              1   \n",
       "1           2017-10-18 00:00:00              1   \n",
       "2           2017-10-18 00:00:00              1   \n",
       "3           2018-08-13 00:00:00              1   \n",
       "4           2018-09-04 00:00:00              1   \n",
       "\n",
       "                         product_id  ... product_height_cm product_width_cm  \\\n",
       "0  87285b34884572647811a353c7ac498a  ...               8.0             13.0   \n",
       "1  87285b34884572647811a353c7ac498a  ...               8.0             13.0   \n",
       "2  87285b34884572647811a353c7ac498a  ...               8.0             13.0   \n",
       "3  595fac2a385ac33a80bd5114aec74eb8  ...              13.0             19.0   \n",
       "4  aa4383b373c6aca5d8797843e5594415  ...              19.0             21.0   \n",
       "\n",
       "   seller_zip_code_prefix     seller_city  seller_state  \\\n",
       "0                    9350            maua            SP   \n",
       "1                    9350            maua            SP   \n",
       "2                    9350            maua            SP   \n",
       "3                   31570  belo horizonte            SP   \n",
       "4                   14840         guariba            SP   \n",
       "\n",
       "  product_category_name_english                customer_unique_id  \\\n",
       "0                    housewares  7c396fd4830fd04220f754e42b4e5bff   \n",
       "1                    housewares  7c396fd4830fd04220f754e42b4e5bff   \n",
       "2                    housewares  7c396fd4830fd04220f754e42b4e5bff   \n",
       "3                     perfumery  af07308b275d755c9edb36a90c618231   \n",
       "4                          auto  3a653a41f6f9fc3d2a113cf8398680e8   \n",
       "\n",
       "   customer_zip_code_prefix customer_city  customer_state  \n",
       "0                      3149     sao paulo              SP  \n",
       "1                      3149     sao paulo              SP  \n",
       "2                      3149     sao paulo              SP  \n",
       "3                     47813     barreiras              BA  \n",
       "4                     75265    vianopolis              GO  \n",
       "\n",
       "[5 rows x 38 columns]"
      ]
     },
     "execution_count": 17,
     "metadata": {},
     "output_type": "execute_result"
    }
   ],
   "source": [
    "data.head()"
   ]
  },
  {
   "cell_type": "code",
   "execution_count": 18,
   "id": "15271c3d",
   "metadata": {
    "execution": {
     "iopub.execute_input": "2025-07-05T03:36:33.300757Z",
     "iopub.status.busy": "2025-07-05T03:36:33.300465Z",
     "iopub.status.idle": "2025-07-05T03:36:33.304436Z",
     "shell.execute_reply": "2025-07-05T03:36:33.303680Z"
    },
    "papermill": {
     "duration": 0.014806,
     "end_time": "2025-07-05T03:36:33.305832",
     "exception": false,
     "start_time": "2025-07-05T03:36:33.291026",
     "status": "completed"
    },
    "tags": []
   },
   "outputs": [],
   "source": [
    "#data['product_id'].nunique()"
   ]
  },
  {
   "cell_type": "markdown",
   "id": "580daf6d",
   "metadata": {
    "papermill": {
     "duration": 0.008286,
     "end_time": "2025-07-05T03:36:33.323493",
     "exception": false,
     "start_time": "2025-07-05T03:36:33.315207",
     "status": "completed"
    },
    "tags": []
   },
   "source": [
    "# Data Visualization and EDA"
   ]
  },
  {
   "cell_type": "code",
   "execution_count": 19,
   "id": "e220dc03",
   "metadata": {
    "execution": {
     "iopub.execute_input": "2025-07-05T03:36:33.342022Z",
     "iopub.status.busy": "2025-07-05T03:36:33.341672Z",
     "iopub.status.idle": "2025-07-05T03:36:33.832953Z",
     "shell.execute_reply": "2025-07-05T03:36:33.832062Z"
    },
    "papermill": {
     "duration": 0.502276,
     "end_time": "2025-07-05T03:36:33.834516",
     "exception": false,
     "start_time": "2025-07-05T03:36:33.332240",
     "status": "completed"
    },
    "tags": []
   },
   "outputs": [
    {
     "data": {
      "text/plain": [
       "payment_type                         4\n",
       "review_score                         5\n",
       "order_status                         7\n",
       "product_photos_qty                  19\n",
       "order_item_id                       21\n",
       "seller_state                        23\n",
       "payment_installments                24\n",
       "customer_state                      27\n",
       "payment_sequential                  29\n",
       "product_name_lenght                 66\n",
       "product_category_name               71\n",
       "product_category_name_english       71\n",
       "product_width_cm                    95\n",
       "product_length_cm                   99\n",
       "product_height_cm                  102\n",
       "order_estimated_delivery_date      449\n",
       "seller_city                        604\n",
       "review_creation_date               632\n",
       "product_weight_g                  2197\n",
       "seller_zip_code_prefix            2210\n",
       "product_description_lenght        2958\n",
       "seller_id                         3028\n",
       "customer_city                     4093\n",
       "price                             5879\n",
       "freight_value                     6954\n",
       "customer_zip_code_prefix         14907\n",
       "payment_value                    28657\n",
       "product_id                       32171\n",
       "order_delivered_carrier_date     79241\n",
       "order_approved_at                88332\n",
       "shipping_limit_date              91386\n",
       "customer_unique_id               93396\n",
       "order_delivered_customer_date    93702\n",
       "order_purchase_timestamp         95989\n",
       "review_answer_timestamp          96163\n",
       "review_id                        96319\n",
       "customer_id                      96516\n",
       "order_id                         96516\n",
       "dtype: int64"
      ]
     },
     "execution_count": 19,
     "metadata": {},
     "output_type": "execute_result"
    }
   ],
   "source": [
    "data.nunique().sort_values()"
   ]
  },
  {
   "cell_type": "code",
   "execution_count": 20,
   "id": "9604fce7",
   "metadata": {
    "execution": {
     "iopub.execute_input": "2025-07-05T03:36:33.853353Z",
     "iopub.status.busy": "2025-07-05T03:36:33.853047Z",
     "iopub.status.idle": "2025-07-05T03:36:35.689533Z",
     "shell.execute_reply": "2025-07-05T03:36:35.688322Z"
    },
    "papermill": {
     "duration": 1.847954,
     "end_time": "2025-07-05T03:36:35.691379",
     "exception": false,
     "start_time": "2025-07-05T03:36:33.843425",
     "status": "completed"
    },
    "tags": []
   },
   "outputs": [],
   "source": [
    "import matplotlib.pyplot as plt\n",
    "import seaborn as sns"
   ]
  },
  {
   "cell_type": "code",
   "execution_count": 21,
   "id": "2fe2a077",
   "metadata": {
    "execution": {
     "iopub.execute_input": "2025-07-05T03:36:35.713114Z",
     "iopub.status.busy": "2025-07-05T03:36:35.712666Z",
     "iopub.status.idle": "2025-07-05T03:36:36.129463Z",
     "shell.execute_reply": "2025-07-05T03:36:36.128608Z"
    },
    "papermill": {
     "duration": 0.430264,
     "end_time": "2025-07-05T03:36:36.131262",
     "exception": false,
     "start_time": "2025-07-05T03:36:35.700998",
     "status": "completed"
    },
    "tags": []
   },
   "outputs": [
    {
     "data": {
      "image/png": "[encoded data removed]",
      "text/plain": [
       "<Figure size 640x480 with 1 Axes>"
      ]
     },
     "metadata": {},
     "output_type": "display_data"
    }
   ],
   "source": [
    "# Visualization for Payment method\n",
    "sns.countplot(data=data,x=data['payment_type'],order=data['payment_type'].value_counts().index)\n",
    "plt.title('Payment Type')\n",
    "plt.xlabel('Payment type')\n",
    "plt.ylabel('Count')\n",
    "plt.xticks(rotation=45)\n",
    "plt.show()"
   ]
  },
  {
   "cell_type": "code",
   "execution_count": 22,
   "id": "1e170bde",
   "metadata": {
    "execution": {
     "iopub.execute_input": "2025-07-05T03:36:36.152224Z",
     "iopub.status.busy": "2025-07-05T03:36:36.151898Z",
     "iopub.status.idle": "2025-07-05T03:36:36.156254Z",
     "shell.execute_reply": "2025-07-05T03:36:36.155217Z"
    },
    "papermill": {
     "duration": 0.016424,
     "end_time": "2025-07-05T03:36:36.157811",
     "exception": false,
     "start_time": "2025-07-05T03:36:36.141387",
     "status": "completed"
    },
    "tags": []
   },
   "outputs": [],
   "source": [
    "# Maximum transactions are done by Credit card"
   ]
  },
  {
   "cell_type": "code",
   "execution_count": 23,
   "id": "9b86a680",
   "metadata": {
    "execution": {
     "iopub.execute_input": "2025-07-05T03:36:36.246150Z",
     "iopub.status.busy": "2025-07-05T03:36:36.245771Z",
     "iopub.status.idle": "2025-07-05T03:36:36.404275Z",
     "shell.execute_reply": "2025-07-05T03:36:36.403225Z"
    },
    "papermill": {
     "duration": 0.170688,
     "end_time": "2025-07-05T03:36:36.406205",
     "exception": false,
     "start_time": "2025-07-05T03:36:36.235517",
     "status": "completed"
    },
    "tags": []
   },
   "outputs": [
    {
     "data": {
      "image/png": "[encoded data removed]",
      "text/plain": [
       "<Figure size 640x480 with 1 Axes>"
      ]
     },
     "metadata": {},
     "output_type": "display_data"
    }
   ],
   "source": [
    "# Visualization of Review Counts\n",
    "sns.countplot(x=data['review_score'],order=data['review_score'].value_counts().index)\n",
    "plt.title('Review Score Count')\n",
    "plt.xlabel('Review score')\n",
    "plt.ylabel('Count')\n",
    "plt.show()"
   ]
  },
  {
   "cell_type": "code",
   "execution_count": 24,
   "id": "5b5ce698",
   "metadata": {
    "execution": {
     "iopub.execute_input": "2025-07-05T03:36:36.427500Z",
     "iopub.status.busy": "2025-07-05T03:36:36.427162Z",
     "iopub.status.idle": "2025-07-05T03:36:36.686618Z",
     "shell.execute_reply": "2025-07-05T03:36:36.685559Z"
    },
    "papermill": {
     "duration": 0.272019,
     "end_time": "2025-07-05T03:36:36.688301",
     "exception": false,
     "start_time": "2025-07-05T03:36:36.416282",
     "status": "completed"
    },
    "tags": []
   },
   "outputs": [
    {
     "data": {
      "image/png": "[encoded data removed]",
      "text/plain": [
       "<Figure size 640x480 with 1 Axes>"
      ]
     },
     "metadata": {},
     "output_type": "display_data"
    }
   ],
   "source": [
    "#Top 10 states with order\n",
    "top_order_state=pd.DataFrame(data['customer_state'].value_counts()).head(10)\n",
    "#top_order_state.head(10)\n",
    "top_order_state.plot(kind='bar')\n",
    "plt.title('Top 10 states with customer order')\n",
    "plt.xlabel('customer state')\n",
    "plt.ylabel('count')\n",
    "plt.show()"
   ]
  },
  {
   "cell_type": "code",
   "execution_count": 25,
   "id": "75ec730b",
   "metadata": {
    "execution": {
     "iopub.execute_input": "2025-07-05T03:36:36.711521Z",
     "iopub.status.busy": "2025-07-05T03:36:36.710709Z",
     "iopub.status.idle": "2025-07-05T03:36:36.928910Z",
     "shell.execute_reply": "2025-07-05T03:36:36.927895Z"
    },
    "papermill": {
     "duration": 0.231391,
     "end_time": "2025-07-05T03:36:36.930473",
     "exception": false,
     "start_time": "2025-07-05T03:36:36.699082",
     "status": "completed"
    },
    "tags": []
   },
   "outputs": [
    {
     "data": {
      "image/png": "[encoded data removed]",
      "text/plain": [
       "<Figure size 640x480 with 1 Axes>"
      ]
     },
     "metadata": {},
     "output_type": "display_data"
    }
   ],
   "source": [
    "# Top 10 states of Seller\n",
    "top_seller_state=pd.DataFrame(data['seller_state'].value_counts()).head(10)\n",
    "top_seller_state.plot(kind='bar')\n",
    "plt.title('Top 10 Seller states')\n",
    "plt.xlabel('Seller State')\n",
    "plt.ylabel('Count')\n",
    "plt.show()"
   ]
  },
  {
   "cell_type": "code",
   "execution_count": 26,
   "id": "37b37026",
   "metadata": {
    "execution": {
     "iopub.execute_input": "2025-07-05T03:36:36.954910Z",
     "iopub.status.busy": "2025-07-05T03:36:36.954542Z",
     "iopub.status.idle": "2025-07-05T03:36:37.178286Z",
     "shell.execute_reply": "2025-07-05T03:36:37.177127Z"
    },
    "papermill": {
     "duration": 0.238662,
     "end_time": "2025-07-05T03:36:37.180607",
     "exception": false,
     "start_time": "2025-07-05T03:36:36.941945",
     "status": "completed"
    },
    "tags": []
   },
   "outputs": [
    {
     "data": {
      "image/png": "[encoded data removed]",
      "text/plain": [
       "<Figure size 640x480 with 1 Axes>"
      ]
     },
     "metadata": {},
     "output_type": "display_data"
    }
   ],
   "source": [
    "# Top 10 Seller city\n",
    "top_seller_city=pd.DataFrame(data['seller_city'].value_counts()).head(10)\n",
    "top_seller_city.plot(kind='bar')\n",
    "plt.title('Top 10 Seller City')\n",
    "plt.xlabel('Seller City')\n",
    "plt.ylabel('Count')\n",
    "plt.show()"
   ]
  },
  {
   "cell_type": "code",
   "execution_count": 27,
   "id": "0ce4df2c",
   "metadata": {
    "execution": {
     "iopub.execute_input": "2025-07-05T03:36:37.206825Z",
     "iopub.status.busy": "2025-07-05T03:36:37.206490Z",
     "iopub.status.idle": "2025-07-05T03:36:37.461142Z",
     "shell.execute_reply": "2025-07-05T03:36:37.460150Z"
    },
    "papermill": {
     "duration": 0.270189,
     "end_time": "2025-07-05T03:36:37.463090",
     "exception": false,
     "start_time": "2025-07-05T03:36:37.192901",
     "status": "completed"
    },
    "tags": []
   },
   "outputs": [
    {
     "data": {
      "image/png": "[encoded data removed]",
      "text/plain": [
       "<Figure size 640x480 with 1 Axes>"
      ]
     },
     "metadata": {},
     "output_type": "display_data"
    }
   ],
   "source": [
    "#Top 10 Customer city\n",
    "top_customer_city=pd.DataFrame(data['customer_city'].value_counts()).head(10)\n",
    "top_customer_city.plot(kind='bar')\n",
    "plt.title('Top 10 customer city')\n",
    "plt.xlabel('Customer city')\n",
    "plt.ylabel('count')\n",
    "plt.show()"
   ]
  },
  {
   "cell_type": "code",
   "execution_count": 28,
   "id": "95ccce92",
   "metadata": {
    "execution": {
     "iopub.execute_input": "2025-07-05T03:36:37.488973Z",
     "iopub.status.busy": "2025-07-05T03:36:37.488647Z",
     "iopub.status.idle": "2025-07-05T03:36:37.694878Z",
     "shell.execute_reply": "2025-07-05T03:36:37.693874Z"
    },
    "papermill": {
     "duration": 0.220967,
     "end_time": "2025-07-05T03:36:37.696512",
     "exception": false,
     "start_time": "2025-07-05T03:36:37.475545",
     "status": "completed"
    },
    "tags": []
   },
   "outputs": [
    {
     "data": {
      "text/html": [
       "<div>\n",
       "<style scoped>\n",
       "    .dataframe tbody tr th:only-of-type {\n",
       "        vertical-align: middle;\n",
       "    }\n",
       "\n",
       "    .dataframe tbody tr th {\n",
       "        vertical-align: top;\n",
       "    }\n",
       "\n",
       "    .dataframe thead th {\n",
       "        text-align: right;\n",
       "    }\n",
       "</style>\n",
       "<table border=\"1\" class=\"dataframe\">\n",
       "  <thead>\n",
       "    <tr style=\"text-align: right;\">\n",
       "      <th></th>\n",
       "      <th>product_category_name_english</th>\n",
       "      <th>count</th>\n",
       "    </tr>\n",
       "  </thead>\n",
       "  <tbody>\n",
       "    <tr>\n",
       "      <th>0</th>\n",
       "      <td>bed_bath_table</td>\n",
       "      <td>11847</td>\n",
       "    </tr>\n",
       "    <tr>\n",
       "      <th>1</th>\n",
       "      <td>health_beauty</td>\n",
       "      <td>9944</td>\n",
       "    </tr>\n",
       "    <tr>\n",
       "      <th>2</th>\n",
       "      <td>sports_leisure</td>\n",
       "      <td>8942</td>\n",
       "    </tr>\n",
       "    <tr>\n",
       "      <th>3</th>\n",
       "      <td>furniture_decor</td>\n",
       "      <td>8743</td>\n",
       "    </tr>\n",
       "    <tr>\n",
       "      <th>4</th>\n",
       "      <td>computers_accessories</td>\n",
       "      <td>8105</td>\n",
       "    </tr>\n",
       "    <tr>\n",
       "      <th>5</th>\n",
       "      <td>housewares</td>\n",
       "      <td>7331</td>\n",
       "    </tr>\n",
       "    <tr>\n",
       "      <th>6</th>\n",
       "      <td>watches_gifts</td>\n",
       "      <td>6161</td>\n",
       "    </tr>\n",
       "    <tr>\n",
       "      <th>7</th>\n",
       "      <td>telephony</td>\n",
       "      <td>4692</td>\n",
       "    </tr>\n",
       "    <tr>\n",
       "      <th>8</th>\n",
       "      <td>garden_tools</td>\n",
       "      <td>4558</td>\n",
       "    </tr>\n",
       "    <tr>\n",
       "      <th>9</th>\n",
       "      <td>auto</td>\n",
       "      <td>4356</td>\n",
       "    </tr>\n",
       "  </tbody>\n",
       "</table>\n",
       "</div>"
      ],
      "text/plain": [
       "  product_category_name_english  count\n",
       "0                bed_bath_table  11847\n",
       "1                 health_beauty   9944\n",
       "2                sports_leisure   8942\n",
       "3               furniture_decor   8743\n",
       "4         computers_accessories   8105\n",
       "5                    housewares   7331\n",
       "6                 watches_gifts   6161\n",
       "7                     telephony   4692\n",
       "8                  garden_tools   4558\n",
       "9                          auto   4356"
      ]
     },
     "metadata": {},
     "output_type": "display_data"
    },
    {
     "data": {
      "image/png": "[encoded data removed]",
      "text/plain": [
       "<Figure size 640x480 with 1 Axes>"
      ]
     },
     "metadata": {},
     "output_type": "display_data"
    }
   ],
   "source": [
    "#Top 10 Products\n",
    "top_products=pd.DataFrame(data['product_category_name_english'].value_counts()).reset_index().head(10)\n",
    "display(top_products)\n",
    "top_products.plot(kind='bar')\n",
    "plt.title('Top Product Category')\n",
    "plt.xlabel('Product category name')\n",
    "plt.ylabel('count')\n",
    "plt.show()\n"
   ]
  },
  {
   "cell_type": "code",
   "execution_count": 29,
   "id": "e33bc7cc",
   "metadata": {
    "execution": {
     "iopub.execute_input": "2025-07-05T03:36:37.724916Z",
     "iopub.status.busy": "2025-07-05T03:36:37.724532Z",
     "iopub.status.idle": "2025-07-05T03:36:37.745289Z",
     "shell.execute_reply": "2025-07-05T03:36:37.744108Z"
    },
    "papermill": {
     "duration": 0.037625,
     "end_time": "2025-07-05T03:36:37.747100",
     "exception": false,
     "start_time": "2025-07-05T03:36:37.709475",
     "status": "completed"
    },
    "tags": []
   },
   "outputs": [
    {
     "data": {
      "text/html": [
       "<div>\n",
       "<style scoped>\n",
       "    .dataframe tbody tr th:only-of-type {\n",
       "        vertical-align: middle;\n",
       "    }\n",
       "\n",
       "    .dataframe tbody tr th {\n",
       "        vertical-align: top;\n",
       "    }\n",
       "\n",
       "    .dataframe thead th {\n",
       "        text-align: right;\n",
       "    }\n",
       "</style>\n",
       "<table border=\"1\" class=\"dataframe\">\n",
       "  <thead>\n",
       "    <tr style=\"text-align: right;\">\n",
       "      <th></th>\n",
       "      <th>product_category_name_english</th>\n",
       "      <th>review_score</th>\n",
       "    </tr>\n",
       "  </thead>\n",
       "  <tbody>\n",
       "    <tr>\n",
       "      <th>0</th>\n",
       "      <td>bed_bath_table</td>\n",
       "      <td>11847</td>\n",
       "    </tr>\n",
       "    <tr>\n",
       "      <th>1</th>\n",
       "      <td>health_beauty</td>\n",
       "      <td>9944</td>\n",
       "    </tr>\n",
       "    <tr>\n",
       "      <th>2</th>\n",
       "      <td>sports_leisure</td>\n",
       "      <td>8942</td>\n",
       "    </tr>\n",
       "    <tr>\n",
       "      <th>3</th>\n",
       "      <td>furniture_decor</td>\n",
       "      <td>8743</td>\n",
       "    </tr>\n",
       "    <tr>\n",
       "      <th>4</th>\n",
       "      <td>computers_accessories</td>\n",
       "      <td>8105</td>\n",
       "    </tr>\n",
       "    <tr>\n",
       "      <th>5</th>\n",
       "      <td>housewares</td>\n",
       "      <td>7331</td>\n",
       "    </tr>\n",
       "    <tr>\n",
       "      <th>6</th>\n",
       "      <td>watches_gifts</td>\n",
       "      <td>6161</td>\n",
       "    </tr>\n",
       "    <tr>\n",
       "      <th>7</th>\n",
       "      <td>telephony</td>\n",
       "      <td>4692</td>\n",
       "    </tr>\n",
       "    <tr>\n",
       "      <th>8</th>\n",
       "      <td>garden_tools</td>\n",
       "      <td>4558</td>\n",
       "    </tr>\n",
       "    <tr>\n",
       "      <th>9</th>\n",
       "      <td>auto</td>\n",
       "      <td>4356</td>\n",
       "    </tr>\n",
       "  </tbody>\n",
       "</table>\n",
       "</div>"
      ],
      "text/plain": [
       "  product_category_name_english  review_score\n",
       "0                bed_bath_table         11847\n",
       "1                 health_beauty          9944\n",
       "2                sports_leisure          8942\n",
       "3               furniture_decor          8743\n",
       "4         computers_accessories          8105\n",
       "5                    housewares          7331\n",
       "6                 watches_gifts          6161\n",
       "7                     telephony          4692\n",
       "8                  garden_tools          4558\n",
       "9                          auto          4356"
      ]
     },
     "execution_count": 29,
     "metadata": {},
     "output_type": "execute_result"
    }
   ],
   "source": [
    "#Highest Reviewed product\n",
    "top_rated_product=pd.DataFrame(data.groupby('product_category_name_english')['review_score'].count().sort_values(ascending=False)).reset_index().head(10)\n",
    "top_rated_product"
   ]
  },
  {
   "cell_type": "code",
   "execution_count": 30,
   "id": "1563f21e",
   "metadata": {
    "execution": {
     "iopub.execute_input": "2025-07-05T03:36:37.777126Z",
     "iopub.status.busy": "2025-07-05T03:36:37.776788Z",
     "iopub.status.idle": "2025-07-05T03:36:37.798034Z",
     "shell.execute_reply": "2025-07-05T03:36:37.796949Z"
    },
    "papermill": {
     "duration": 0.038004,
     "end_time": "2025-07-05T03:36:37.799728",
     "exception": false,
     "start_time": "2025-07-05T03:36:37.761724",
     "status": "completed"
    },
    "tags": []
   },
   "outputs": [
    {
     "data": {
      "text/html": [
       "<div>\n",
       "<style scoped>\n",
       "    .dataframe tbody tr th:only-of-type {\n",
       "        vertical-align: middle;\n",
       "    }\n",
       "\n",
       "    .dataframe tbody tr th {\n",
       "        vertical-align: top;\n",
       "    }\n",
       "\n",
       "    .dataframe thead th {\n",
       "        text-align: right;\n",
       "    }\n",
       "</style>\n",
       "<table border=\"1\" class=\"dataframe\">\n",
       "  <thead>\n",
       "    <tr style=\"text-align: right;\">\n",
       "      <th></th>\n",
       "      <th>product_category_name_english</th>\n",
       "      <th>price</th>\n",
       "    </tr>\n",
       "  </thead>\n",
       "  <tbody>\n",
       "    <tr>\n",
       "      <th>0</th>\n",
       "      <td>health_beauty</td>\n",
       "      <td>1290883.52</td>\n",
       "    </tr>\n",
       "    <tr>\n",
       "      <th>1</th>\n",
       "      <td>watches_gifts</td>\n",
       "      <td>1245783.11</td>\n",
       "    </tr>\n",
       "    <tr>\n",
       "      <th>2</th>\n",
       "      <td>bed_bath_table</td>\n",
       "      <td>1095770.05</td>\n",
       "    </tr>\n",
       "    <tr>\n",
       "      <th>3</th>\n",
       "      <td>sports_leisure</td>\n",
       "      <td>1022489.29</td>\n",
       "    </tr>\n",
       "    <tr>\n",
       "      <th>4</th>\n",
       "      <td>computers_accessories</td>\n",
       "      <td>944992.54</td>\n",
       "    </tr>\n",
       "    <tr>\n",
       "      <th>5</th>\n",
       "      <td>furniture_decor</td>\n",
       "      <td>765336.72</td>\n",
       "    </tr>\n",
       "    <tr>\n",
       "      <th>6</th>\n",
       "      <td>housewares</td>\n",
       "      <td>664226.76</td>\n",
       "    </tr>\n",
       "    <tr>\n",
       "      <th>7</th>\n",
       "      <td>cool_stuff</td>\n",
       "      <td>655820.40</td>\n",
       "    </tr>\n",
       "    <tr>\n",
       "      <th>8</th>\n",
       "      <td>auto</td>\n",
       "      <td>608914.30</td>\n",
       "    </tr>\n",
       "    <tr>\n",
       "      <th>9</th>\n",
       "      <td>garden_tools</td>\n",
       "      <td>515987.77</td>\n",
       "    </tr>\n",
       "  </tbody>\n",
       "</table>\n",
       "</div>"
      ],
      "text/plain": [
       "  product_category_name_english       price\n",
       "0                 health_beauty  1290883.52\n",
       "1                 watches_gifts  1245783.11\n",
       "2                bed_bath_table  1095770.05\n",
       "3                sports_leisure  1022489.29\n",
       "4         computers_accessories   944992.54\n",
       "5               furniture_decor   765336.72\n",
       "6                    housewares   664226.76\n",
       "7                    cool_stuff   655820.40\n",
       "8                          auto   608914.30\n",
       "9                  garden_tools   515987.77"
      ]
     },
     "execution_count": 30,
     "metadata": {},
     "output_type": "execute_result"
    }
   ],
   "source": [
    "#Revenue generating products\n",
    "revenue_gen_product=pd.DataFrame(data.groupby('product_category_name_english')['price'].sum().sort_values(ascending=False)).reset_index().head(10)\n",
    "revenue_gen_product"
   ]
  },
  {
   "cell_type": "code",
   "execution_count": 31,
   "id": "0a78064c",
   "metadata": {
    "execution": {
     "iopub.execute_input": "2025-07-05T03:36:37.828973Z",
     "iopub.status.busy": "2025-07-05T03:36:37.828597Z",
     "iopub.status.idle": "2025-07-05T03:36:37.848176Z",
     "shell.execute_reply": "2025-07-05T03:36:37.847244Z"
    },
    "papermill": {
     "duration": 0.035705,
     "end_time": "2025-07-05T03:36:37.849712",
     "exception": false,
     "start_time": "2025-07-05T03:36:37.814007",
     "status": "completed"
    },
    "tags": []
   },
   "outputs": [
    {
     "data": {
      "text/html": [
       "<div>\n",
       "<style scoped>\n",
       "    .dataframe tbody tr th:only-of-type {\n",
       "        vertical-align: middle;\n",
       "    }\n",
       "\n",
       "    .dataframe tbody tr th {\n",
       "        vertical-align: top;\n",
       "    }\n",
       "\n",
       "    .dataframe thead th {\n",
       "        text-align: right;\n",
       "    }\n",
       "</style>\n",
       "<table border=\"1\" class=\"dataframe\">\n",
       "  <thead>\n",
       "    <tr style=\"text-align: right;\">\n",
       "      <th></th>\n",
       "      <th>product_category_name_english</th>\n",
       "      <th>freight_value</th>\n",
       "    </tr>\n",
       "  </thead>\n",
       "  <tbody>\n",
       "    <tr>\n",
       "      <th>0</th>\n",
       "      <td>bed_bath_table</td>\n",
       "      <td>217807.32</td>\n",
       "    </tr>\n",
       "    <tr>\n",
       "      <th>1</th>\n",
       "      <td>health_beauty</td>\n",
       "      <td>187978.10</td>\n",
       "    </tr>\n",
       "    <tr>\n",
       "      <th>2</th>\n",
       "      <td>furniture_decor</td>\n",
       "      <td>181307.11</td>\n",
       "    </tr>\n",
       "    <tr>\n",
       "      <th>3</th>\n",
       "      <td>sports_leisure</td>\n",
       "      <td>174330.59</td>\n",
       "    </tr>\n",
       "    <tr>\n",
       "      <th>4</th>\n",
       "      <td>housewares</td>\n",
       "      <td>153848.83</td>\n",
       "    </tr>\n",
       "    <tr>\n",
       "      <th>5</th>\n",
       "      <td>computers_accessories</td>\n",
       "      <td>153483.43</td>\n",
       "    </tr>\n",
       "    <tr>\n",
       "      <th>6</th>\n",
       "      <td>garden_tools</td>\n",
       "      <td>105236.25</td>\n",
       "    </tr>\n",
       "    <tr>\n",
       "      <th>7</th>\n",
       "      <td>watches_gifts</td>\n",
       "      <td>103643.12</td>\n",
       "    </tr>\n",
       "    <tr>\n",
       "      <th>8</th>\n",
       "      <td>auto</td>\n",
       "      <td>95104.30</td>\n",
       "    </tr>\n",
       "    <tr>\n",
       "      <th>9</th>\n",
       "      <td>cool_stuff</td>\n",
       "      <td>87084.75</td>\n",
       "    </tr>\n",
       "  </tbody>\n",
       "</table>\n",
       "</div>"
      ],
      "text/plain": [
       "  product_category_name_english  freight_value\n",
       "0                bed_bath_table      217807.32\n",
       "1                 health_beauty      187978.10\n",
       "2               furniture_decor      181307.11\n",
       "3                sports_leisure      174330.59\n",
       "4                    housewares      153848.83\n",
       "5         computers_accessories      153483.43\n",
       "6                  garden_tools      105236.25\n",
       "7                 watches_gifts      103643.12\n",
       "8                          auto       95104.30\n",
       "9                    cool_stuff       87084.75"
      ]
     },
     "execution_count": 31,
     "metadata": {},
     "output_type": "execute_result"
    }
   ],
   "source": [
    "# Product with highest freight value\n",
    "high_freight_value=pd.DataFrame(data.groupby('product_category_name_english')['freight_value'].sum().sort_values(ascending=False)).reset_index().head(10)\n",
    "high_freight_value"
   ]
  },
  {
   "cell_type": "code",
   "execution_count": null,
   "id": "f1693009",
   "metadata": {
    "papermill": {
     "duration": 0.014117,
     "end_time": "2025-07-05T03:36:37.877579",
     "exception": false,
     "start_time": "2025-07-05T03:36:37.863462",
     "status": "completed"
    },
    "tags": []
   },
   "outputs": [],
   "source": []
  }
 ],
 "metadata": {
  "kaggle": {
   "accelerator": "none",
   "dataSources": [
    {
     "datasetId": 55151,
     "sourceId": 2669146,
     "sourceType": "datasetVersion"
    }
   ],
   "dockerImageVersionId": 31040,
   "isGpuEnabled": false,
   "isInternetEnabled": true,
   "language": "python",
   "sourceType": "notebook"
  },
  "kernelspec": {
   "display_name": "Python 3",
   "language": "python",
   "name": "python3"
  },
  "language_info": {
   "codemirror_mode": {
    "name": "ipython",
    "version": 3
   },
   "file_extension": ".py",
   "mimetype": "text/x-python",
   "name": "python",
   "nbconvert_exporter": "python",
   "pygments_lexer": "ipython3",
   "version": "3.11.11"
  },
  "papermill": {
   "default_parameters": {},
   "duration": 18.996152,
   "end_time": "2025-07-05T03:36:38.713331",
   "environment_variables": {},
   "exception": null,
   "input_path": "__notebook__.ipynb",
   "output_path": "__notebook__.ipynb",
   "parameters": {},
   "start_time": "2025-07-05T03:36:19.717179",
   "version": "2.6.0"
  }
 },
 "nbformat": 4,
 "nbformat_minor": 5
}
