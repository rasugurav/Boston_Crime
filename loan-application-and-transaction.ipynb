{
 "cells": [
  {
   "cell_type": "code",
   "execution_count": 1,
   "id": "994e5d2b",
   "metadata": {
    "_cell_guid": "b1076dfc-b9ad-4769-8c92-a6c4dae69d19",
    "_uuid": "8f2839f25d086af736a60e9eeb907d3b93b6e0e5",
    "execution": {
     "iopub.execute_input": "2025-06-15T03:49:12.513915Z",
     "iopub.status.busy": "2025-06-15T03:49:12.513655Z",
     "iopub.status.idle": "2025-06-15T03:49:14.143816Z",
     "shell.execute_reply": "2025-06-15T03:49:14.143019Z"
    },
    "papermill": {
     "duration": 1.639347,
     "end_time": "2025-06-15T03:49:14.145259",
     "exception": false,
     "start_time": "2025-06-15T03:49:12.505912",
     "status": "completed"
    },
    "tags": []
   },
   "outputs": [
    {
     "name": "stdout",
     "output_type": "stream",
     "text": [
      "/kaggle/input/loan-application-and-transaction-fraud-detection/loan_applications.csv\n",
      "/kaggle/input/loan-application-and-transaction-fraud-detection/transactions.csv\n"
     ]
    }
   ],
   "source": [
    "# This Python 3 environment comes with many helpful analytics libraries installed\n",
    "# It is defined by the kaggle/python Docker image: https://github.com/kaggle/docker-python\n",
    "# For example, here's several helpful packages to load\n",
    "\n",
    "import numpy as np # linear algebra\n",
    "import pandas as pd # data processing, CSV file I/O (e.g. pd.read_csv)\n",
    "pd.set_option('display.max_column',None)\n",
    "\n",
    "# Input data files are available in the read-only \"../input/\" directory\n",
    "# For example, running this (by clicking run or pressing Shift+Enter) will list all files under the input directory\n",
    "\n",
    "import os\n",
    "for dirname, _, filenames in os.walk('/kaggle/input'):\n",
    "    for filename in filenames:\n",
    "        print(os.path.join(dirname, filename))\n",
    "\n",
    "# You can write up to 20GB to the current directory (/kaggle/working/) that gets preserved as output when you create a version using \"Save & Run All\" \n",
    "# You can also write temporary files to /kaggle/temp/, but they won't be saved outside of the current session"
   ]
  },
  {
   "cell_type": "code",
   "execution_count": 2,
   "id": "fb047bc8",
   "metadata": {
    "execution": {
     "iopub.execute_input": "2025-06-15T03:49:14.158338Z",
     "iopub.status.busy": "2025-06-15T03:49:14.157989Z",
     "iopub.status.idle": "2025-06-15T03:49:14.567630Z",
     "shell.execute_reply": "2025-06-15T03:49:14.566845Z"
    },
    "papermill": {
     "duration": 0.417395,
     "end_time": "2025-06-15T03:49:14.568954",
     "exception": false,
     "start_time": "2025-06-15T03:49:14.151559",
     "status": "completed"
    },
    "tags": []
   },
   "outputs": [
    {
     "data": {
      "text/html": [
       "<div>\n",
       "<style scoped>\n",
       "    .dataframe tbody tr th:only-of-type {\n",
       "        vertical-align: middle;\n",
       "    }\n",
       "\n",
       "    .dataframe tbody tr th {\n",
       "        vertical-align: top;\n",
       "    }\n",
       "\n",
       "    .dataframe thead th {\n",
       "        text-align: right;\n",
       "    }\n",
       "</style>\n",
       "<table border=\"1\" class=\"dataframe\">\n",
       "  <thead>\n",
       "    <tr style=\"text-align: right;\">\n",
       "      <th></th>\n",
       "      <th>application_id</th>\n",
       "      <th>customer_id</th>\n",
       "      <th>application_date</th>\n",
       "      <th>loan_type</th>\n",
       "      <th>loan_amount_requested</th>\n",
       "      <th>loan_tenure_months</th>\n",
       "      <th>interest_rate_offered</th>\n",
       "      <th>purpose_of_loan</th>\n",
       "      <th>employment_status</th>\n",
       "      <th>monthly_income</th>\n",
       "      <th>cibil_score</th>\n",
       "      <th>existing_emis_monthly</th>\n",
       "      <th>debt_to_income_ratio</th>\n",
       "      <th>property_ownership_status</th>\n",
       "      <th>residential_address</th>\n",
       "      <th>applicant_age</th>\n",
       "      <th>gender</th>\n",
       "      <th>number_of_dependents</th>\n",
       "      <th>loan_status</th>\n",
       "      <th>fraud_flag</th>\n",
       "      <th>fraud_type</th>\n",
       "    </tr>\n",
       "  </thead>\n",
       "  <tbody>\n",
       "    <tr>\n",
       "      <th>0</th>\n",
       "      <td>c8bf0bea-70e6-4870-9125-41b8210c527f</td>\n",
       "      <td>CUST109427</td>\n",
       "      <td>2023-04-09</td>\n",
       "      <td>Business Loan</td>\n",
       "      <td>604000.0</td>\n",
       "      <td>12</td>\n",
       "      <td>11.66</td>\n",
       "      <td>Medical Emergency</td>\n",
       "      <td>Retired</td>\n",
       "      <td>34700.0</td>\n",
       "      <td>714</td>\n",
       "      <td>1100.0</td>\n",
       "      <td>3.17</td>\n",
       "      <td>Rented</td>\n",
       "      <td>94/31, Sehgal Zila, Vadodara-380521, Anantapur...</td>\n",
       "      <td>28</td>\n",
       "      <td>Female</td>\n",
       "      <td>3</td>\n",
       "      <td>Approved</td>\n",
       "      <td>0</td>\n",
       "      <td>NaN</td>\n",
       "    </tr>\n",
       "    <tr>\n",
       "      <th>1</th>\n",
       "      <td>91224cec-3544-4bc7-ac15-a9792da54c02</td>\n",
       "      <td>CUST106146</td>\n",
       "      <td>2023-09-23</td>\n",
       "      <td>Car Loan</td>\n",
       "      <td>100000.0</td>\n",
       "      <td>240</td>\n",
       "      <td>13.62</td>\n",
       "      <td>Education</td>\n",
       "      <td>Unemployed</td>\n",
       "      <td>51600.0</td>\n",
       "      <td>667</td>\n",
       "      <td>0.0</td>\n",
       "      <td>0.00</td>\n",
       "      <td>Owned</td>\n",
       "      <td>H.No. 00, Sheth Chowk, Ichalkaranji 006728, Im...</td>\n",
       "      <td>44</td>\n",
       "      <td>Other</td>\n",
       "      <td>3</td>\n",
       "      <td>Approved</td>\n",
       "      <td>0</td>\n",
       "      <td>NaN</td>\n",
       "    </tr>\n",
       "    <tr>\n",
       "      <th>2</th>\n",
       "      <td>4efcd02d-4a03-4ab7-9bd1-0ff430493d0c</td>\n",
       "      <td>CUST100674</td>\n",
       "      <td>2023-05-22</td>\n",
       "      <td>Education Loan</td>\n",
       "      <td>431000.0</td>\n",
       "      <td>60</td>\n",
       "      <td>11.40</td>\n",
       "      <td>Medical Emergency</td>\n",
       "      <td>Self-Employed</td>\n",
       "      <td>14800.0</td>\n",
       "      <td>808</td>\n",
       "      <td>4600.0</td>\n",
       "      <td>31.08</td>\n",
       "      <td>Rented</td>\n",
       "      <td>H.No. 81, Dutta Path, Kozhikode-340301, Tadepa...</td>\n",
       "      <td>56</td>\n",
       "      <td>Other</td>\n",
       "      <td>4</td>\n",
       "      <td>Approved</td>\n",
       "      <td>0</td>\n",
       "      <td>NaN</td>\n",
       "    </tr>\n",
       "    <tr>\n",
       "      <th>3</th>\n",
       "      <td>a61337d4-ba04-4a68-b492-2cb8266e6ed7</td>\n",
       "      <td>CUST106466</td>\n",
       "      <td>2024-07-09</td>\n",
       "      <td>Car Loan</td>\n",
       "      <td>324000.0</td>\n",
       "      <td>120</td>\n",
       "      <td>10.36</td>\n",
       "      <td>Debt Consolidation</td>\n",
       "      <td>Self-Employed</td>\n",
       "      <td>28800.0</td>\n",
       "      <td>647</td>\n",
       "      <td>4000.0</td>\n",
       "      <td>13.89</td>\n",
       "      <td>Rented</td>\n",
       "      <td>H.No. 022, Rege Road, Tiruvottiyur-927857, Aur...</td>\n",
       "      <td>27</td>\n",
       "      <td>Other</td>\n",
       "      <td>4</td>\n",
       "      <td>Declined</td>\n",
       "      <td>0</td>\n",
       "      <td>NaN</td>\n",
       "    </tr>\n",
       "    <tr>\n",
       "      <th>4</th>\n",
       "      <td>a8d1639e-170b-41b2-826a-55c7dae38d16</td>\n",
       "      <td>CUST112319</td>\n",
       "      <td>2023-11-20</td>\n",
       "      <td>Personal Loan</td>\n",
       "      <td>100000.0</td>\n",
       "      <td>36</td>\n",
       "      <td>14.14</td>\n",
       "      <td>Business Expansion</td>\n",
       "      <td>Salaried</td>\n",
       "      <td>43900.0</td>\n",
       "      <td>624</td>\n",
       "      <td>1100.0</td>\n",
       "      <td>2.51</td>\n",
       "      <td>Rented</td>\n",
       "      <td>85/24, Bali Zila, Sambalpur 922071, Tumkur, Ke...</td>\n",
       "      <td>50</td>\n",
       "      <td>Other</td>\n",
       "      <td>0</td>\n",
       "      <td>Declined</td>\n",
       "      <td>0</td>\n",
       "      <td>NaN</td>\n",
       "    </tr>\n",
       "  </tbody>\n",
       "</table>\n",
       "</div>"
      ],
      "text/plain": [
       "                         application_id customer_id application_date  \\\n",
       "0  c8bf0bea-70e6-4870-9125-41b8210c527f  CUST109427       2023-04-09   \n",
       "1  91224cec-3544-4bc7-ac15-a9792da54c02  CUST106146       2023-09-23   \n",
       "2  4efcd02d-4a03-4ab7-9bd1-0ff430493d0c  CUST100674       2023-05-22   \n",
       "3  a61337d4-ba04-4a68-b492-2cb8266e6ed7  CUST106466       2024-07-09   \n",
       "4  a8d1639e-170b-41b2-826a-55c7dae38d16  CUST112319       2023-11-20   \n",
       "\n",
       "        loan_type  loan_amount_requested  loan_tenure_months  \\\n",
       "0   Business Loan               604000.0                  12   \n",
       "1        Car Loan               100000.0                 240   \n",
       "2  Education Loan               431000.0                  60   \n",
       "3        Car Loan               324000.0                 120   \n",
       "4   Personal Loan               100000.0                  36   \n",
       "\n",
       "   interest_rate_offered     purpose_of_loan employment_status  \\\n",
       "0                  11.66   Medical Emergency           Retired   \n",
       "1                  13.62           Education        Unemployed   \n",
       "2                  11.40   Medical Emergency     Self-Employed   \n",
       "3                  10.36  Debt Consolidation     Self-Employed   \n",
       "4                  14.14  Business Expansion          Salaried   \n",
       "\n",
       "   monthly_income  cibil_score  existing_emis_monthly  debt_to_income_ratio  \\\n",
       "0         34700.0          714                 1100.0                  3.17   \n",
       "1         51600.0          667                    0.0                  0.00   \n",
       "2         14800.0          808                 4600.0                 31.08   \n",
       "3         28800.0          647                 4000.0                 13.89   \n",
       "4         43900.0          624                 1100.0                  2.51   \n",
       "\n",
       "  property_ownership_status  \\\n",
       "0                    Rented   \n",
       "1                     Owned   \n",
       "2                    Rented   \n",
       "3                    Rented   \n",
       "4                    Rented   \n",
       "\n",
       "                                 residential_address  applicant_age  gender  \\\n",
       "0  94/31, Sehgal Zila, Vadodara-380521, Anantapur...             28  Female   \n",
       "1  H.No. 00, Sheth Chowk, Ichalkaranji 006728, Im...             44   Other   \n",
       "2  H.No. 81, Dutta Path, Kozhikode-340301, Tadepa...             56   Other   \n",
       "3  H.No. 022, Rege Road, Tiruvottiyur-927857, Aur...             27   Other   \n",
       "4  85/24, Bali Zila, Sambalpur 922071, Tumkur, Ke...             50   Other   \n",
       "\n",
       "   number_of_dependents loan_status  fraud_flag fraud_type  \n",
       "0                     3    Approved           0        NaN  \n",
       "1                     3    Approved           0        NaN  \n",
       "2                     4    Approved           0        NaN  \n",
       "3                     4    Declined           0        NaN  \n",
       "4                     0    Declined           0        NaN  "
      ]
     },
     "execution_count": 2,
     "metadata": {},
     "output_type": "execute_result"
    }
   ],
   "source": [
    "## Lets Look at the data povided\n",
    "loan_ap=pd.read_csv('/kaggle/input/loan-application-and-transaction-fraud-detection/loan_applications.csv')\n",
    "loan_ap.head()"
   ]
  },
  {
   "cell_type": "code",
   "execution_count": 3,
   "id": "94eb041f",
   "metadata": {
    "execution": {
     "iopub.execute_input": "2025-06-15T03:49:14.582173Z",
     "iopub.status.busy": "2025-06-15T03:49:14.581938Z",
     "iopub.status.idle": "2025-06-15T03:49:14.890407Z",
     "shell.execute_reply": "2025-06-15T03:49:14.889614Z"
    },
    "papermill": {
     "duration": 0.316666,
     "end_time": "2025-06-15T03:49:14.891878",
     "exception": false,
     "start_time": "2025-06-15T03:49:14.575212",
     "status": "completed"
    },
    "tags": []
   },
   "outputs": [],
   "source": [
    "transaction=pd.read_csv('/kaggle/input/loan-application-and-transaction-fraud-detection/transactions.csv')"
   ]
  },
  {
   "cell_type": "code",
   "execution_count": 4,
   "id": "81adfcc8",
   "metadata": {
    "execution": {
     "iopub.execute_input": "2025-06-15T03:49:14.905075Z",
     "iopub.status.busy": "2025-06-15T03:49:14.904831Z",
     "iopub.status.idle": "2025-06-15T03:49:14.918206Z",
     "shell.execute_reply": "2025-06-15T03:49:14.917445Z"
    },
    "papermill": {
     "duration": 0.021309,
     "end_time": "2025-06-15T03:49:14.919501",
     "exception": false,
     "start_time": "2025-06-15T03:49:14.898192",
     "status": "completed"
    },
    "tags": []
   },
   "outputs": [
    {
     "data": {
      "text/html": [
       "<div>\n",
       "<style scoped>\n",
       "    .dataframe tbody tr th:only-of-type {\n",
       "        vertical-align: middle;\n",
       "    }\n",
       "\n",
       "    .dataframe tbody tr th {\n",
       "        vertical-align: top;\n",
       "    }\n",
       "\n",
       "    .dataframe thead th {\n",
       "        text-align: right;\n",
       "    }\n",
       "</style>\n",
       "<table border=\"1\" class=\"dataframe\">\n",
       "  <thead>\n",
       "    <tr style=\"text-align: right;\">\n",
       "      <th></th>\n",
       "      <th>transaction_id</th>\n",
       "      <th>customer_id</th>\n",
       "      <th>transaction_date</th>\n",
       "      <th>transaction_type</th>\n",
       "      <th>transaction_amount</th>\n",
       "      <th>merchant_category</th>\n",
       "      <th>merchant_name</th>\n",
       "      <th>transaction_location</th>\n",
       "      <th>account_balance_after_transaction</th>\n",
       "      <th>is_international_transaction</th>\n",
       "      <th>device_used</th>\n",
       "      <th>ip_address</th>\n",
       "      <th>transaction_status</th>\n",
       "      <th>transaction_source_destination</th>\n",
       "      <th>transaction_notes</th>\n",
       "      <th>fraud_flag</th>\n",
       "    </tr>\n",
       "  </thead>\n",
       "  <tbody>\n",
       "    <tr>\n",
       "      <th>0</th>\n",
       "      <td>2d7ddfd4-1112-4354-a2dd-fad94b45a850</td>\n",
       "      <td>CUST102188</td>\n",
       "      <td>2022-01-04 11:27:00</td>\n",
       "      <td>Bill Payment</td>\n",
       "      <td>2100.0</td>\n",
       "      <td>Dining</td>\n",
       "      <td>Rattan, Khanna and Magar</td>\n",
       "      <td>Srikakulam, Himachal Pradesh</td>\n",
       "      <td>8211.0</td>\n",
       "      <td>0</td>\n",
       "      <td>Web</td>\n",
       "      <td>31.102.21.141</td>\n",
       "      <td>Success</td>\n",
       "      <td>BCHG80012468703731</td>\n",
       "      <td>Payment for Dining</td>\n",
       "      <td>0</td>\n",
       "    </tr>\n",
       "    <tr>\n",
       "      <th>1</th>\n",
       "      <td>ba998721-a612-4e0a-8354-46d001e9c39c</td>\n",
       "      <td>CUST107144</td>\n",
       "      <td>2022-01-03 23:52:00</td>\n",
       "      <td>UPI</td>\n",
       "      <td>1400.0</td>\n",
       "      <td>Travel</td>\n",
       "      <td>Chauhan LLC</td>\n",
       "      <td>Giridih, Manipur</td>\n",
       "      <td>12858.0</td>\n",
       "      <td>0</td>\n",
       "      <td>Web</td>\n",
       "      <td>176.48.222.166</td>\n",
       "      <td>Success</td>\n",
       "      <td>CJPZ11841095072972</td>\n",
       "      <td>Payment for Travel</td>\n",
       "      <td>0</td>\n",
       "    </tr>\n",
       "    <tr>\n",
       "      <th>2</th>\n",
       "      <td>0b4ad8e2-40ac-49c9-b59a-c9efaaccc7a6</td>\n",
       "      <td>CUST102126</td>\n",
       "      <td>2022-01-15 06:54:00</td>\n",
       "      <td>Debit Card</td>\n",
       "      <td>1000.0</td>\n",
       "      <td>Entertainment</td>\n",
       "      <td>Halder-Sarma</td>\n",
       "      <td>Avadi, Kerala</td>\n",
       "      <td>19268.0</td>\n",
       "      <td>0</td>\n",
       "      <td>ATM</td>\n",
       "      <td>181.62.105.161</td>\n",
       "      <td>Success</td>\n",
       "      <td>TLCG50761416960179</td>\n",
       "      <td>Payment for Entertainment</td>\n",
       "      <td>0</td>\n",
       "    </tr>\n",
       "    <tr>\n",
       "      <th>3</th>\n",
       "      <td>c4fce988-34c5-48db-8686-bfad0b3bc0b5</td>\n",
       "      <td>CUST109887</td>\n",
       "      <td>2022-01-08 07:57:00</td>\n",
       "      <td>Credit Card</td>\n",
       "      <td>10500.0</td>\n",
       "      <td>Utilities</td>\n",
       "      <td>Anand, Khare and Balakrishnan</td>\n",
       "      <td>Navi Mumbai, Maharashtra</td>\n",
       "      <td>29585.0</td>\n",
       "      <td>0</td>\n",
       "      <td>ATM</td>\n",
       "      <td>121.157.246.80</td>\n",
       "      <td>Success</td>\n",
       "      <td>PRZJ55096553432036</td>\n",
       "      <td>Payment for Utilities</td>\n",
       "      <td>0</td>\n",
       "    </tr>\n",
       "    <tr>\n",
       "      <th>4</th>\n",
       "      <td>f9b8ca30-00e5-4322-8cff-eac0554cf2da</td>\n",
       "      <td>CUST108620</td>\n",
       "      <td>2022-01-02 10:43:00</td>\n",
       "      <td>Loan Disbursement</td>\n",
       "      <td>8100.0</td>\n",
       "      <td>Electronics</td>\n",
       "      <td>Zacharia and Sons</td>\n",
       "      <td>Visakhapatnam, Gujarat</td>\n",
       "      <td>0.0</td>\n",
       "      <td>0</td>\n",
       "      <td>ATM</td>\n",
       "      <td>129.96.5.57</td>\n",
       "      <td>Success</td>\n",
       "      <td>NBAI29021393288369</td>\n",
       "      <td>Payment for Electronics</td>\n",
       "      <td>0</td>\n",
       "    </tr>\n",
       "  </tbody>\n",
       "</table>\n",
       "</div>"
      ],
      "text/plain": [
       "                         transaction_id customer_id     transaction_date  \\\n",
       "0  2d7ddfd4-1112-4354-a2dd-fad94b45a850  CUST102188  2022-01-04 11:27:00   \n",
       "1  ba998721-a612-4e0a-8354-46d001e9c39c  CUST107144  2022-01-03 23:52:00   \n",
       "2  0b4ad8e2-40ac-49c9-b59a-c9efaaccc7a6  CUST102126  2022-01-15 06:54:00   \n",
       "3  c4fce988-34c5-48db-8686-bfad0b3bc0b5  CUST109887  2022-01-08 07:57:00   \n",
       "4  f9b8ca30-00e5-4322-8cff-eac0554cf2da  CUST108620  2022-01-02 10:43:00   \n",
       "\n",
       "    transaction_type  transaction_amount merchant_category  \\\n",
       "0       Bill Payment              2100.0            Dining   \n",
       "1                UPI              1400.0            Travel   \n",
       "2         Debit Card              1000.0     Entertainment   \n",
       "3        Credit Card             10500.0         Utilities   \n",
       "4  Loan Disbursement              8100.0       Electronics   \n",
       "\n",
       "                   merchant_name          transaction_location  \\\n",
       "0       Rattan, Khanna and Magar  Srikakulam, Himachal Pradesh   \n",
       "1                    Chauhan LLC              Giridih, Manipur   \n",
       "2                   Halder-Sarma                 Avadi, Kerala   \n",
       "3  Anand, Khare and Balakrishnan      Navi Mumbai, Maharashtra   \n",
       "4              Zacharia and Sons        Visakhapatnam, Gujarat   \n",
       "\n",
       "   account_balance_after_transaction  is_international_transaction  \\\n",
       "0                             8211.0                             0   \n",
       "1                            12858.0                             0   \n",
       "2                            19268.0                             0   \n",
       "3                            29585.0                             0   \n",
       "4                                0.0                             0   \n",
       "\n",
       "  device_used      ip_address transaction_status  \\\n",
       "0         Web   31.102.21.141            Success   \n",
       "1         Web  176.48.222.166            Success   \n",
       "2         ATM  181.62.105.161            Success   \n",
       "3         ATM  121.157.246.80            Success   \n",
       "4         ATM     129.96.5.57            Success   \n",
       "\n",
       "  transaction_source_destination          transaction_notes  fraud_flag  \n",
       "0             BCHG80012468703731         Payment for Dining           0  \n",
       "1             CJPZ11841095072972         Payment for Travel           0  \n",
       "2             TLCG50761416960179  Payment for Entertainment           0  \n",
       "3             PRZJ55096553432036      Payment for Utilities           0  \n",
       "4             NBAI29021393288369    Payment for Electronics           0  "
      ]
     },
     "execution_count": 4,
     "metadata": {},
     "output_type": "execute_result"
    }
   ],
   "source": [
    "transaction.head()"
   ]
  },
  {
   "cell_type": "code",
   "execution_count": 5,
   "id": "ba13594b",
   "metadata": {
    "execution": {
     "iopub.execute_input": "2025-06-15T03:49:14.933719Z",
     "iopub.status.busy": "2025-06-15T03:49:14.933438Z",
     "iopub.status.idle": "2025-06-15T03:49:14.975775Z",
     "shell.execute_reply": "2025-06-15T03:49:14.975135Z"
    },
    "papermill": {
     "duration": 0.050514,
     "end_time": "2025-06-15T03:49:14.976926",
     "exception": false,
     "start_time": "2025-06-15T03:49:14.926412",
     "status": "completed"
    },
    "tags": []
   },
   "outputs": [
    {
     "data": {
      "text/html": [
       "<div>\n",
       "<style scoped>\n",
       "    .dataframe tbody tr th:only-of-type {\n",
       "        vertical-align: middle;\n",
       "    }\n",
       "\n",
       "    .dataframe tbody tr th {\n",
       "        vertical-align: top;\n",
       "    }\n",
       "\n",
       "    .dataframe thead th {\n",
       "        text-align: right;\n",
       "    }\n",
       "</style>\n",
       "<table border=\"1\" class=\"dataframe\">\n",
       "  <thead>\n",
       "    <tr style=\"text-align: right;\">\n",
       "      <th></th>\n",
       "      <th>loan_amount_requested</th>\n",
       "      <th>loan_tenure_months</th>\n",
       "      <th>interest_rate_offered</th>\n",
       "      <th>monthly_income</th>\n",
       "      <th>cibil_score</th>\n",
       "      <th>existing_emis_monthly</th>\n",
       "      <th>debt_to_income_ratio</th>\n",
       "      <th>applicant_age</th>\n",
       "      <th>number_of_dependents</th>\n",
       "      <th>fraud_flag</th>\n",
       "    </tr>\n",
       "  </thead>\n",
       "  <tbody>\n",
       "    <tr>\n",
       "      <th>count</th>\n",
       "      <td>5.000000e+04</td>\n",
       "      <td>50000.0000</td>\n",
       "      <td>50000.000000</td>\n",
       "      <td>50000.000000</td>\n",
       "      <td>50000.000000</td>\n",
       "      <td>50000.0000</td>\n",
       "      <td>50000.000000</td>\n",
       "      <td>50000.000000</td>\n",
       "      <td>50000.000000</td>\n",
       "      <td>50000.000000</td>\n",
       "    </tr>\n",
       "    <tr>\n",
       "      <th>mean</th>\n",
       "      <td>5.139130e+05</td>\n",
       "      <td>121.3884</td>\n",
       "      <td>10.528547</td>\n",
       "      <td>50844.940000</td>\n",
       "      <td>699.149760</td>\n",
       "      <td>3066.3620</td>\n",
       "      <td>8.573188</td>\n",
       "      <td>43.060880</td>\n",
       "      <td>2.012280</td>\n",
       "      <td>0.020520</td>\n",
       "    </tr>\n",
       "    <tr>\n",
       "      <th>std</th>\n",
       "      <td>2.752126e+05</td>\n",
       "      <td>121.4104</td>\n",
       "      <td>1.926442</td>\n",
       "      <td>23874.742237</td>\n",
       "      <td>49.920325</td>\n",
       "      <td>1896.9745</td>\n",
       "      <td>9.587649</td>\n",
       "      <td>12.970254</td>\n",
       "      <td>1.408761</td>\n",
       "      <td>0.141772</td>\n",
       "    </tr>\n",
       "    <tr>\n",
       "      <th>min</th>\n",
       "      <td>1.000000e+05</td>\n",
       "      <td>12.0000</td>\n",
       "      <td>7.000000</td>\n",
       "      <td>10000.000000</td>\n",
       "      <td>476.000000</td>\n",
       "      <td>0.0000</td>\n",
       "      <td>0.000000</td>\n",
       "      <td>21.000000</td>\n",
       "      <td>0.000000</td>\n",
       "      <td>0.000000</td>\n",
       "    </tr>\n",
       "    <tr>\n",
       "      <th>25%</th>\n",
       "      <td>3.000000e+05</td>\n",
       "      <td>24.0000</td>\n",
       "      <td>9.150000</td>\n",
       "      <td>33600.000000</td>\n",
       "      <td>665.000000</td>\n",
       "      <td>1700.0000</td>\n",
       "      <td>3.090000</td>\n",
       "      <td>32.000000</td>\n",
       "      <td>1.000000</td>\n",
       "      <td>0.000000</td>\n",
       "    </tr>\n",
       "    <tr>\n",
       "      <th>50%</th>\n",
       "      <td>5.030000e+05</td>\n",
       "      <td>60.0000</td>\n",
       "      <td>10.510000</td>\n",
       "      <td>50300.000000</td>\n",
       "      <td>699.000000</td>\n",
       "      <td>3000.0000</td>\n",
       "      <td>5.950000</td>\n",
       "      <td>43.000000</td>\n",
       "      <td>2.000000</td>\n",
       "      <td>0.000000</td>\n",
       "    </tr>\n",
       "    <tr>\n",
       "      <th>75%</th>\n",
       "      <td>7.010000e+05</td>\n",
       "      <td>240.0000</td>\n",
       "      <td>11.850000</td>\n",
       "      <td>67300.000000</td>\n",
       "      <td>733.000000</td>\n",
       "      <td>4400.0000</td>\n",
       "      <td>10.292500</td>\n",
       "      <td>54.000000</td>\n",
       "      <td>3.000000</td>\n",
       "      <td>0.000000</td>\n",
       "    </tr>\n",
       "    <tr>\n",
       "      <th>max</th>\n",
       "      <td>1.618000e+06</td>\n",
       "      <td>360.0000</td>\n",
       "      <td>19.620000</td>\n",
       "      <td>162000.000000</td>\n",
       "      <td>888.000000</td>\n",
       "      <td>11400.0000</td>\n",
       "      <td>102.000000</td>\n",
       "      <td>65.000000</td>\n",
       "      <td>4.000000</td>\n",
       "      <td>1.000000</td>\n",
       "    </tr>\n",
       "  </tbody>\n",
       "</table>\n",
       "</div>"
      ],
      "text/plain": [
       "       loan_amount_requested  loan_tenure_months  interest_rate_offered  \\\n",
       "count           5.000000e+04          50000.0000           50000.000000   \n",
       "mean            5.139130e+05            121.3884              10.528547   \n",
       "std             2.752126e+05            121.4104               1.926442   \n",
       "min             1.000000e+05             12.0000               7.000000   \n",
       "25%             3.000000e+05             24.0000               9.150000   \n",
       "50%             5.030000e+05             60.0000              10.510000   \n",
       "75%             7.010000e+05            240.0000              11.850000   \n",
       "max             1.618000e+06            360.0000              19.620000   \n",
       "\n",
       "       monthly_income   cibil_score  existing_emis_monthly  \\\n",
       "count    50000.000000  50000.000000             50000.0000   \n",
       "mean     50844.940000    699.149760              3066.3620   \n",
       "std      23874.742237     49.920325              1896.9745   \n",
       "min      10000.000000    476.000000                 0.0000   \n",
       "25%      33600.000000    665.000000              1700.0000   \n",
       "50%      50300.000000    699.000000              3000.0000   \n",
       "75%      67300.000000    733.000000              4400.0000   \n",
       "max     162000.000000    888.000000             11400.0000   \n",
       "\n",
       "       debt_to_income_ratio  applicant_age  number_of_dependents    fraud_flag  \n",
       "count          50000.000000   50000.000000          50000.000000  50000.000000  \n",
       "mean               8.573188      43.060880              2.012280      0.020520  \n",
       "std                9.587649      12.970254              1.408761      0.141772  \n",
       "min                0.000000      21.000000              0.000000      0.000000  \n",
       "25%                3.090000      32.000000              1.000000      0.000000  \n",
       "50%                5.950000      43.000000              2.000000      0.000000  \n",
       "75%               10.292500      54.000000              3.000000      0.000000  \n",
       "max              102.000000      65.000000              4.000000      1.000000  "
      ]
     },
     "execution_count": 5,
     "metadata": {},
     "output_type": "execute_result"
    }
   ],
   "source": [
    "## Description of the given data is important for better understanding and feature engineering\n",
    "\n",
    "loan_ap.describe()"
   ]
  },
  {
   "cell_type": "code",
   "execution_count": 6,
   "id": "0e3a7624",
   "metadata": {
    "execution": {
     "iopub.execute_input": "2025-06-15T03:49:14.990742Z",
     "iopub.status.busy": "2025-06-15T03:49:14.990449Z",
     "iopub.status.idle": "2025-06-15T03:49:15.031748Z",
     "shell.execute_reply": "2025-06-15T03:49:15.030707Z"
    },
    "papermill": {
     "duration": 0.049543,
     "end_time": "2025-06-15T03:49:15.032964",
     "exception": false,
     "start_time": "2025-06-15T03:49:14.983421",
     "status": "completed"
    },
    "tags": []
   },
   "outputs": [
    {
     "name": "stdout",
     "output_type": "stream",
     "text": [
      "<class 'pandas.core.frame.DataFrame'>\n",
      "RangeIndex: 50000 entries, 0 to 49999\n",
      "Data columns (total 21 columns):\n",
      " #   Column                     Non-Null Count  Dtype  \n",
      "---  ------                     --------------  -----  \n",
      " 0   application_id             50000 non-null  object \n",
      " 1   customer_id                50000 non-null  object \n",
      " 2   application_date           50000 non-null  object \n",
      " 3   loan_type                  50000 non-null  object \n",
      " 4   loan_amount_requested      50000 non-null  float64\n",
      " 5   loan_tenure_months         50000 non-null  int64  \n",
      " 6   interest_rate_offered      50000 non-null  float64\n",
      " 7   purpose_of_loan            50000 non-null  object \n",
      " 8   employment_status          50000 non-null  object \n",
      " 9   monthly_income             50000 non-null  float64\n",
      " 10  cibil_score                50000 non-null  int64  \n",
      " 11  existing_emis_monthly      50000 non-null  float64\n",
      " 12  debt_to_income_ratio       50000 non-null  float64\n",
      " 13  property_ownership_status  50000 non-null  object \n",
      " 14  residential_address        50000 non-null  object \n",
      " 15  applicant_age              50000 non-null  int64  \n",
      " 16  gender                     50000 non-null  object \n",
      " 17  number_of_dependents       50000 non-null  int64  \n",
      " 18  loan_status                50000 non-null  object \n",
      " 19  fraud_flag                 50000 non-null  int64  \n",
      " 20  fraud_type                 1026 non-null   object \n",
      "dtypes: float64(5), int64(5), object(11)\n",
      "memory usage: 8.0+ MB\n"
     ]
    }
   ],
   "source": [
    "loan_ap.info()"
   ]
  },
  {
   "cell_type": "code",
   "execution_count": 7,
   "id": "c737045d",
   "metadata": {
    "execution": {
     "iopub.execute_input": "2025-06-15T03:49:15.046176Z",
     "iopub.status.busy": "2025-06-15T03:49:15.045940Z",
     "iopub.status.idle": "2025-06-15T03:49:15.063972Z",
     "shell.execute_reply": "2025-06-15T03:49:15.063107Z"
    },
    "papermill": {
     "duration": 0.025993,
     "end_time": "2025-06-15T03:49:15.065247",
     "exception": false,
     "start_time": "2025-06-15T03:49:15.039254",
     "status": "completed"
    },
    "tags": []
   },
   "outputs": [
    {
     "data": {
      "text/html": [
       "<div>\n",
       "<style scoped>\n",
       "    .dataframe tbody tr th:only-of-type {\n",
       "        vertical-align: middle;\n",
       "    }\n",
       "\n",
       "    .dataframe tbody tr th {\n",
       "        vertical-align: top;\n",
       "    }\n",
       "\n",
       "    .dataframe thead th {\n",
       "        text-align: right;\n",
       "    }\n",
       "</style>\n",
       "<table border=\"1\" class=\"dataframe\">\n",
       "  <thead>\n",
       "    <tr style=\"text-align: right;\">\n",
       "      <th></th>\n",
       "      <th>transaction_amount</th>\n",
       "      <th>account_balance_after_transaction</th>\n",
       "      <th>is_international_transaction</th>\n",
       "      <th>fraud_flag</th>\n",
       "    </tr>\n",
       "  </thead>\n",
       "  <tbody>\n",
       "    <tr>\n",
       "      <th>count</th>\n",
       "      <td>50000.000000</td>\n",
       "      <td>50000.000000</td>\n",
       "      <td>50000.000000</td>\n",
       "      <td>50000.000000</td>\n",
       "    </tr>\n",
       "    <tr>\n",
       "      <th>mean</th>\n",
       "      <td>5005.674329</td>\n",
       "      <td>21930.235669</td>\n",
       "      <td>0.010440</td>\n",
       "      <td>0.010040</td>\n",
       "    </tr>\n",
       "    <tr>\n",
       "      <th>std</th>\n",
       "      <td>5070.810305</td>\n",
       "      <td>14621.954095</td>\n",
       "      <td>0.101643</td>\n",
       "      <td>0.099697</td>\n",
       "    </tr>\n",
       "    <tr>\n",
       "      <th>min</th>\n",
       "      <td>100.000000</td>\n",
       "      <td>0.000000</td>\n",
       "      <td>0.000000</td>\n",
       "      <td>0.000000</td>\n",
       "    </tr>\n",
       "    <tr>\n",
       "      <th>25%</th>\n",
       "      <td>1400.000000</td>\n",
       "      <td>9237.000000</td>\n",
       "      <td>0.000000</td>\n",
       "      <td>0.000000</td>\n",
       "    </tr>\n",
       "    <tr>\n",
       "      <th>50%</th>\n",
       "      <td>3461.505910</td>\n",
       "      <td>21586.500000</td>\n",
       "      <td>0.000000</td>\n",
       "      <td>0.000000</td>\n",
       "    </tr>\n",
       "    <tr>\n",
       "      <th>75%</th>\n",
       "      <td>6900.000000</td>\n",
       "      <td>33994.250000</td>\n",
       "      <td>0.000000</td>\n",
       "      <td>0.000000</td>\n",
       "    </tr>\n",
       "    <tr>\n",
       "      <th>max</th>\n",
       "      <td>76531.610223</td>\n",
       "      <td>89097.000000</td>\n",
       "      <td>1.000000</td>\n",
       "      <td>1.000000</td>\n",
       "    </tr>\n",
       "  </tbody>\n",
       "</table>\n",
       "</div>"
      ],
      "text/plain": [
       "       transaction_amount  account_balance_after_transaction  \\\n",
       "count        50000.000000                       50000.000000   \n",
       "mean          5005.674329                       21930.235669   \n",
       "std           5070.810305                       14621.954095   \n",
       "min            100.000000                           0.000000   \n",
       "25%           1400.000000                        9237.000000   \n",
       "50%           3461.505910                       21586.500000   \n",
       "75%           6900.000000                       33994.250000   \n",
       "max          76531.610223                       89097.000000   \n",
       "\n",
       "       is_international_transaction    fraud_flag  \n",
       "count                  50000.000000  50000.000000  \n",
       "mean                       0.010440      0.010040  \n",
       "std                        0.101643      0.099697  \n",
       "min                        0.000000      0.000000  \n",
       "25%                        0.000000      0.000000  \n",
       "50%                        0.000000      0.000000  \n",
       "75%                        0.000000      0.000000  \n",
       "max                        1.000000      1.000000  "
      ]
     },
     "execution_count": 7,
     "metadata": {},
     "output_type": "execute_result"
    }
   ],
   "source": [
    "transaction.describe()"
   ]
  },
  {
   "cell_type": "code",
   "execution_count": 8,
   "id": "5ddef8e5",
   "metadata": {
    "execution": {
     "iopub.execute_input": "2025-06-15T03:49:15.079794Z",
     "iopub.status.busy": "2025-06-15T03:49:15.079539Z",
     "iopub.status.idle": "2025-06-15T03:49:15.110509Z",
     "shell.execute_reply": "2025-06-15T03:49:15.109538Z"
    },
    "papermill": {
     "duration": 0.039658,
     "end_time": "2025-06-15T03:49:15.111955",
     "exception": false,
     "start_time": "2025-06-15T03:49:15.072297",
     "status": "completed"
    },
    "tags": []
   },
   "outputs": [
    {
     "name": "stdout",
     "output_type": "stream",
     "text": [
      "<class 'pandas.core.frame.DataFrame'>\n",
      "RangeIndex: 50000 entries, 0 to 49999\n",
      "Data columns (total 16 columns):\n",
      " #   Column                             Non-Null Count  Dtype  \n",
      "---  ------                             --------------  -----  \n",
      " 0   transaction_id                     50000 non-null  object \n",
      " 1   customer_id                        50000 non-null  object \n",
      " 2   transaction_date                   50000 non-null  object \n",
      " 3   transaction_type                   50000 non-null  object \n",
      " 4   transaction_amount                 50000 non-null  float64\n",
      " 5   merchant_category                  50000 non-null  object \n",
      " 6   merchant_name                      50000 non-null  object \n",
      " 7   transaction_location               50000 non-null  object \n",
      " 8   account_balance_after_transaction  50000 non-null  float64\n",
      " 9   is_international_transaction       50000 non-null  int64  \n",
      " 10  device_used                        50000 non-null  object \n",
      " 11  ip_address                         50000 non-null  object \n",
      " 12  transaction_status                 50000 non-null  object \n",
      " 13  transaction_source_destination     50000 non-null  object \n",
      " 14  transaction_notes                  50000 non-null  object \n",
      " 15  fraud_flag                         50000 non-null  int64  \n",
      "dtypes: float64(2), int64(2), object(12)\n",
      "memory usage: 6.1+ MB\n"
     ]
    }
   ],
   "source": [
    "transaction.info()"
   ]
  },
  {
   "cell_type": "code",
   "execution_count": 9,
   "id": "bdb82e6f",
   "metadata": {
    "execution": {
     "iopub.execute_input": "2025-06-15T03:49:15.126126Z",
     "iopub.status.busy": "2025-06-15T03:49:15.125872Z",
     "iopub.status.idle": "2025-06-15T03:49:15.151534Z",
     "shell.execute_reply": "2025-06-15T03:49:15.150887Z"
    },
    "papermill": {
     "duration": 0.033761,
     "end_time": "2025-06-15T03:49:15.152468",
     "exception": false,
     "start_time": "2025-06-15T03:49:15.118707",
     "status": "completed"
    },
    "tags": []
   },
   "outputs": [
    {
     "data": {
      "text/plain": [
       "application_id                   0\n",
       "customer_id                      0\n",
       "application_date                 0\n",
       "loan_type                        0\n",
       "loan_amount_requested            0\n",
       "loan_tenure_months               0\n",
       "interest_rate_offered            0\n",
       "purpose_of_loan                  0\n",
       "employment_status                0\n",
       "monthly_income                   0\n",
       "cibil_score                      0\n",
       "existing_emis_monthly            0\n",
       "debt_to_income_ratio             0\n",
       "property_ownership_status        0\n",
       "residential_address              0\n",
       "applicant_age                    0\n",
       "gender                           0\n",
       "number_of_dependents             0\n",
       "loan_status                      0\n",
       "fraud_flag                       0\n",
       "fraud_type                   48974\n",
       "dtype: int64"
      ]
     },
     "execution_count": 9,
     "metadata": {},
     "output_type": "execute_result"
    }
   ],
   "source": [
    "#Checking for the null values and dealing with it\n",
    "loan_ap.isnull().sum()"
   ]
  },
  {
   "cell_type": "code",
   "execution_count": 10,
   "id": "099245ed",
   "metadata": {
    "execution": {
     "iopub.execute_input": "2025-06-15T03:49:15.167079Z",
     "iopub.status.busy": "2025-06-15T03:49:15.166814Z",
     "iopub.status.idle": "2025-06-15T03:49:15.176703Z",
     "shell.execute_reply": "2025-06-15T03:49:15.175939Z"
    },
    "papermill": {
     "duration": 0.018497,
     "end_time": "2025-06-15T03:49:15.177808",
     "exception": false,
     "start_time": "2025-06-15T03:49:15.159311",
     "status": "completed"
    },
    "tags": []
   },
   "outputs": [],
   "source": [
    "loan_ap=loan_ap.drop(['fraud_type'],axis=1)"
   ]
  },
  {
   "cell_type": "code",
   "execution_count": 11,
   "id": "059b299b",
   "metadata": {
    "execution": {
     "iopub.execute_input": "2025-06-15T03:49:15.191967Z",
     "iopub.status.busy": "2025-06-15T03:49:15.191688Z",
     "iopub.status.idle": "2025-06-15T03:49:15.220089Z",
     "shell.execute_reply": "2025-06-15T03:49:15.219488Z"
    },
    "papermill": {
     "duration": 0.036532,
     "end_time": "2025-06-15T03:49:15.221068",
     "exception": false,
     "start_time": "2025-06-15T03:49:15.184536",
     "status": "completed"
    },
    "tags": []
   },
   "outputs": [
    {
     "data": {
      "text/plain": [
       "transaction_id                       0\n",
       "customer_id                          0\n",
       "transaction_date                     0\n",
       "transaction_type                     0\n",
       "transaction_amount                   0\n",
       "merchant_category                    0\n",
       "merchant_name                        0\n",
       "transaction_location                 0\n",
       "account_balance_after_transaction    0\n",
       "is_international_transaction         0\n",
       "device_used                          0\n",
       "ip_address                           0\n",
       "transaction_status                   0\n",
       "transaction_source_destination       0\n",
       "transaction_notes                    0\n",
       "fraud_flag                           0\n",
       "dtype: int64"
      ]
     },
     "execution_count": 11,
     "metadata": {},
     "output_type": "execute_result"
    }
   ],
   "source": [
    "transaction.isnull().sum()"
   ]
  },
  {
   "cell_type": "code",
   "execution_count": 12,
   "id": "8aad0a28",
   "metadata": {
    "execution": {
     "iopub.execute_input": "2025-06-15T03:49:15.235262Z",
     "iopub.status.busy": "2025-06-15T03:49:15.235016Z",
     "iopub.status.idle": "2025-06-15T03:49:15.242194Z",
     "shell.execute_reply": "2025-06-15T03:49:15.241522Z"
    },
    "papermill": {
     "duration": 0.015529,
     "end_time": "2025-06-15T03:49:15.243328",
     "exception": false,
     "start_time": "2025-06-15T03:49:15.227799",
     "status": "completed"
    },
    "tags": []
   },
   "outputs": [],
   "source": [
    "#dropping not so important columns\n",
    "loan_ap=loan_ap.drop(['application_id','residential_address'],axis=1)"
   ]
  },
  {
   "cell_type": "code",
   "execution_count": 13,
   "id": "93081cf6",
   "metadata": {
    "execution": {
     "iopub.execute_input": "2025-06-15T03:49:15.258495Z",
     "iopub.status.busy": "2025-06-15T03:49:15.258190Z",
     "iopub.status.idle": "2025-06-15T03:49:15.270862Z",
     "shell.execute_reply": "2025-06-15T03:49:15.270221Z"
    },
    "papermill": {
     "duration": 0.022062,
     "end_time": "2025-06-15T03:49:15.272155",
     "exception": false,
     "start_time": "2025-06-15T03:49:15.250093",
     "status": "completed"
    },
    "tags": []
   },
   "outputs": [
    {
     "data": {
      "text/html": [
       "<div>\n",
       "<style scoped>\n",
       "    .dataframe tbody tr th:only-of-type {\n",
       "        vertical-align: middle;\n",
       "    }\n",
       "\n",
       "    .dataframe tbody tr th {\n",
       "        vertical-align: top;\n",
       "    }\n",
       "\n",
       "    .dataframe thead th {\n",
       "        text-align: right;\n",
       "    }\n",
       "</style>\n",
       "<table border=\"1\" class=\"dataframe\">\n",
       "  <thead>\n",
       "    <tr style=\"text-align: right;\">\n",
       "      <th></th>\n",
       "      <th>customer_id</th>\n",
       "      <th>application_date</th>\n",
       "      <th>loan_type</th>\n",
       "      <th>loan_amount_requested</th>\n",
       "      <th>loan_tenure_months</th>\n",
       "      <th>interest_rate_offered</th>\n",
       "      <th>purpose_of_loan</th>\n",
       "      <th>employment_status</th>\n",
       "      <th>monthly_income</th>\n",
       "      <th>cibil_score</th>\n",
       "      <th>existing_emis_monthly</th>\n",
       "      <th>debt_to_income_ratio</th>\n",
       "      <th>property_ownership_status</th>\n",
       "      <th>applicant_age</th>\n",
       "      <th>gender</th>\n",
       "      <th>number_of_dependents</th>\n",
       "      <th>loan_status</th>\n",
       "      <th>fraud_flag</th>\n",
       "    </tr>\n",
       "  </thead>\n",
       "  <tbody>\n",
       "    <tr>\n",
       "      <th>0</th>\n",
       "      <td>CUST109427</td>\n",
       "      <td>2023-04-09</td>\n",
       "      <td>Business Loan</td>\n",
       "      <td>604000.0</td>\n",
       "      <td>12</td>\n",
       "      <td>11.66</td>\n",
       "      <td>Medical Emergency</td>\n",
       "      <td>Retired</td>\n",
       "      <td>34700.0</td>\n",
       "      <td>714</td>\n",
       "      <td>1100.0</td>\n",
       "      <td>3.17</td>\n",
       "      <td>Rented</td>\n",
       "      <td>28</td>\n",
       "      <td>Female</td>\n",
       "      <td>3</td>\n",
       "      <td>Approved</td>\n",
       "      <td>0</td>\n",
       "    </tr>\n",
       "    <tr>\n",
       "      <th>1</th>\n",
       "      <td>CUST106146</td>\n",
       "      <td>2023-09-23</td>\n",
       "      <td>Car Loan</td>\n",
       "      <td>100000.0</td>\n",
       "      <td>240</td>\n",
       "      <td>13.62</td>\n",
       "      <td>Education</td>\n",
       "      <td>Unemployed</td>\n",
       "      <td>51600.0</td>\n",
       "      <td>667</td>\n",
       "      <td>0.0</td>\n",
       "      <td>0.00</td>\n",
       "      <td>Owned</td>\n",
       "      <td>44</td>\n",
       "      <td>Other</td>\n",
       "      <td>3</td>\n",
       "      <td>Approved</td>\n",
       "      <td>0</td>\n",
       "    </tr>\n",
       "    <tr>\n",
       "      <th>2</th>\n",
       "      <td>CUST100674</td>\n",
       "      <td>2023-05-22</td>\n",
       "      <td>Education Loan</td>\n",
       "      <td>431000.0</td>\n",
       "      <td>60</td>\n",
       "      <td>11.40</td>\n",
       "      <td>Medical Emergency</td>\n",
       "      <td>Self-Employed</td>\n",
       "      <td>14800.0</td>\n",
       "      <td>808</td>\n",
       "      <td>4600.0</td>\n",
       "      <td>31.08</td>\n",
       "      <td>Rented</td>\n",
       "      <td>56</td>\n",
       "      <td>Other</td>\n",
       "      <td>4</td>\n",
       "      <td>Approved</td>\n",
       "      <td>0</td>\n",
       "    </tr>\n",
       "    <tr>\n",
       "      <th>3</th>\n",
       "      <td>CUST106466</td>\n",
       "      <td>2024-07-09</td>\n",
       "      <td>Car Loan</td>\n",
       "      <td>324000.0</td>\n",
       "      <td>120</td>\n",
       "      <td>10.36</td>\n",
       "      <td>Debt Consolidation</td>\n",
       "      <td>Self-Employed</td>\n",
       "      <td>28800.0</td>\n",
       "      <td>647</td>\n",
       "      <td>4000.0</td>\n",
       "      <td>13.89</td>\n",
       "      <td>Rented</td>\n",
       "      <td>27</td>\n",
       "      <td>Other</td>\n",
       "      <td>4</td>\n",
       "      <td>Declined</td>\n",
       "      <td>0</td>\n",
       "    </tr>\n",
       "    <tr>\n",
       "      <th>4</th>\n",
       "      <td>CUST112319</td>\n",
       "      <td>2023-11-20</td>\n",
       "      <td>Personal Loan</td>\n",
       "      <td>100000.0</td>\n",
       "      <td>36</td>\n",
       "      <td>14.14</td>\n",
       "      <td>Business Expansion</td>\n",
       "      <td>Salaried</td>\n",
       "      <td>43900.0</td>\n",
       "      <td>624</td>\n",
       "      <td>1100.0</td>\n",
       "      <td>2.51</td>\n",
       "      <td>Rented</td>\n",
       "      <td>50</td>\n",
       "      <td>Other</td>\n",
       "      <td>0</td>\n",
       "      <td>Declined</td>\n",
       "      <td>0</td>\n",
       "    </tr>\n",
       "  </tbody>\n",
       "</table>\n",
       "</div>"
      ],
      "text/plain": [
       "  customer_id application_date       loan_type  loan_amount_requested  \\\n",
       "0  CUST109427       2023-04-09   Business Loan               604000.0   \n",
       "1  CUST106146       2023-09-23        Car Loan               100000.0   \n",
       "2  CUST100674       2023-05-22  Education Loan               431000.0   \n",
       "3  CUST106466       2024-07-09        Car Loan               324000.0   \n",
       "4  CUST112319       2023-11-20   Personal Loan               100000.0   \n",
       "\n",
       "   loan_tenure_months  interest_rate_offered     purpose_of_loan  \\\n",
       "0                  12                  11.66   Medical Emergency   \n",
       "1                 240                  13.62           Education   \n",
       "2                  60                  11.40   Medical Emergency   \n",
       "3                 120                  10.36  Debt Consolidation   \n",
       "4                  36                  14.14  Business Expansion   \n",
       "\n",
       "  employment_status  monthly_income  cibil_score  existing_emis_monthly  \\\n",
       "0           Retired         34700.0          714                 1100.0   \n",
       "1        Unemployed         51600.0          667                    0.0   \n",
       "2     Self-Employed         14800.0          808                 4600.0   \n",
       "3     Self-Employed         28800.0          647                 4000.0   \n",
       "4          Salaried         43900.0          624                 1100.0   \n",
       "\n",
       "   debt_to_income_ratio property_ownership_status  applicant_age  gender  \\\n",
       "0                  3.17                    Rented             28  Female   \n",
       "1                  0.00                     Owned             44   Other   \n",
       "2                 31.08                    Rented             56   Other   \n",
       "3                 13.89                    Rented             27   Other   \n",
       "4                  2.51                    Rented             50   Other   \n",
       "\n",
       "   number_of_dependents loan_status  fraud_flag  \n",
       "0                     3    Approved           0  \n",
       "1                     3    Approved           0  \n",
       "2                     4    Approved           0  \n",
       "3                     4    Declined           0  \n",
       "4                     0    Declined           0  "
      ]
     },
     "execution_count": 13,
     "metadata": {},
     "output_type": "execute_result"
    }
   ],
   "source": [
    "loan_ap.head()"
   ]
  },
  {
   "cell_type": "code",
   "execution_count": 14,
   "id": "d82714c3",
   "metadata": {
    "execution": {
     "iopub.execute_input": "2025-06-15T03:49:15.287342Z",
     "iopub.status.busy": "2025-06-15T03:49:15.287091Z",
     "iopub.status.idle": "2025-06-15T03:49:17.735670Z",
     "shell.execute_reply": "2025-06-15T03:49:17.734844Z"
    },
    "papermill": {
     "duration": 2.45774,
     "end_time": "2025-06-15T03:49:17.737101",
     "exception": false,
     "start_time": "2025-06-15T03:49:15.279361",
     "status": "completed"
    },
    "tags": []
   },
   "outputs": [],
   "source": [
    "# Importing some important libraries for feature engineering and model training\n",
    "import matplotlib.pyplot as plt\n",
    "import seaborn as sns\n",
    "import warnings\n",
    "warnings.filterwarnings(\"ignore\")\n",
    "from sklearn.model_selection import train_test_split\n",
    "from sklearn.preprocessing import StandardScaler\n",
    "from sklearn.ensemble import RandomForestClassifier\n",
    "from sklearn.tree import DecisionTreeClassifier\n",
    "from sklearn.linear_model import LogisticRegression\n",
    "from sklearn.preprocessing import LabelEncoder"
   ]
  },
  {
   "cell_type": "code",
   "execution_count": 15,
   "id": "109657e0",
   "metadata": {
    "execution": {
     "iopub.execute_input": "2025-06-15T03:49:17.753698Z",
     "iopub.status.busy": "2025-06-15T03:49:17.753208Z",
     "iopub.status.idle": "2025-06-15T03:49:17.942021Z",
     "shell.execute_reply": "2025-06-15T03:49:17.941119Z"
    },
    "papermill": {
     "duration": 0.198461,
     "end_time": "2025-06-15T03:49:17.943212",
     "exception": false,
     "start_time": "2025-06-15T03:49:17.744751",
     "status": "completed"
    },
    "tags": []
   },
   "outputs": [
    {
     "data": {
      "image/png": "[encoded data removed]",
      "text/plain": [
       "<Figure size 640x480 with 1 Axes>"
      ]
     },
     "metadata": {},
     "output_type": "display_data"
    }
   ],
   "source": [
    "#Lets visualize the loan application data for better understanding\n",
    "plt.hist(loan_ap['loan_type'])\n",
    "plt.show()"
   ]
  },
  {
   "cell_type": "code",
   "execution_count": 16,
   "id": "88b88a1b",
   "metadata": {
    "execution": {
     "iopub.execute_input": "2025-06-15T03:49:17.958755Z",
     "iopub.status.busy": "2025-06-15T03:49:17.958510Z",
     "iopub.status.idle": "2025-06-15T03:49:18.117574Z",
     "shell.execute_reply": "2025-06-15T03:49:18.116927Z"
    },
    "papermill": {
     "duration": 0.168298,
     "end_time": "2025-06-15T03:49:18.118960",
     "exception": false,
     "start_time": "2025-06-15T03:49:17.950662",
     "status": "completed"
    },
    "tags": []
   },
   "outputs": [
    {
     "data": {
      "image/png": "[encoded data removed]",
      "text/plain": [
       "<Figure size 640x480 with 1 Axes>"
      ]
     },
     "metadata": {},
     "output_type": "display_data"
    }
   ],
   "source": [
    "sns.histplot(loan_ap['purpose_of_loan'])\n",
    "plt.xticks(rotation=90)\n",
    "plt.show()"
   ]
  },
  {
   "cell_type": "code",
   "execution_count": 17,
   "id": "4a988964",
   "metadata": {
    "execution": {
     "iopub.execute_input": "2025-06-15T03:49:18.190078Z",
     "iopub.status.busy": "2025-06-15T03:49:18.189483Z",
     "iopub.status.idle": "2025-06-15T03:49:18.309975Z",
     "shell.execute_reply": "2025-06-15T03:49:18.309129Z"
    },
    "papermill": {
     "duration": 0.184078,
     "end_time": "2025-06-15T03:49:18.311167",
     "exception": false,
     "start_time": "2025-06-15T03:49:18.127089",
     "status": "completed"
    },
    "tags": []
   },
   "outputs": [
    {
     "data": {
      "image/png": "[encoded data removed]",
      "text/plain": [
       "<Figure size 640x480 with 1 Axes>"
      ]
     },
     "metadata": {},
     "output_type": "display_data"
    }
   ],
   "source": [
    "plt.hist(loan_ap['employment_status'])\n",
    "plt.xticks(rotation=90)\n",
    "plt.show()"
   ]
  },
  {
   "cell_type": "code",
   "execution_count": 18,
   "id": "c218fc18",
   "metadata": {
    "execution": {
     "iopub.execute_input": "2025-06-15T03:49:18.328537Z",
     "iopub.status.busy": "2025-06-15T03:49:18.328219Z",
     "iopub.status.idle": "2025-06-15T03:49:18.433515Z",
     "shell.execute_reply": "2025-06-15T03:49:18.432666Z"
    },
    "papermill": {
     "duration": 0.115345,
     "end_time": "2025-06-15T03:49:18.434754",
     "exception": false,
     "start_time": "2025-06-15T03:49:18.319409",
     "status": "completed"
    },
    "tags": []
   },
   "outputs": [
    {
     "data": {
      "image/png": "[encoded data removed]",
      "text/plain": [
       "<Figure size 640x480 with 1 Axes>"
      ]
     },
     "metadata": {},
     "output_type": "display_data"
    }
   ],
   "source": [
    "plt.hist(loan_ap['property_ownership_status'])\n",
    "plt.xticks(rotation=90)\n",
    "plt.show()"
   ]
  },
  {
   "cell_type": "code",
   "execution_count": 19,
   "id": "5b226a87",
   "metadata": {
    "execution": {
     "iopub.execute_input": "2025-06-15T03:49:18.452021Z",
     "iopub.status.busy": "2025-06-15T03:49:18.451759Z",
     "iopub.status.idle": "2025-06-15T03:49:18.552824Z",
     "shell.execute_reply": "2025-06-15T03:49:18.552068Z"
    },
    "papermill": {
     "duration": 0.111092,
     "end_time": "2025-06-15T03:49:18.554036",
     "exception": false,
     "start_time": "2025-06-15T03:49:18.442944",
     "status": "completed"
    },
    "tags": []
   },
   "outputs": [
    {
     "data": {
      "image/png": "[encoded data removed]",
      "text/plain": [
       "<Figure size 640x480 with 1 Axes>"
      ]
     },
     "metadata": {},
     "output_type": "display_data"
    }
   ],
   "source": [
    "plt.hist(loan_ap['gender'])\n",
    "plt.xticks(rotation=90)\n",
    "plt.show()"
   ]
  },
  {
   "cell_type": "code",
   "execution_count": 20,
   "id": "0b6e31d7",
   "metadata": {
    "execution": {
     "iopub.execute_input": "2025-06-15T03:49:18.572078Z",
     "iopub.status.busy": "2025-06-15T03:49:18.571448Z",
     "iopub.status.idle": "2025-06-15T03:49:18.682957Z",
     "shell.execute_reply": "2025-06-15T03:49:18.682099Z"
    },
    "papermill": {
     "duration": 0.121562,
     "end_time": "2025-06-15T03:49:18.684101",
     "exception": false,
     "start_time": "2025-06-15T03:49:18.562539",
     "status": "completed"
    },
    "tags": []
   },
   "outputs": [
    {
     "data": {
      "image/png": "[encoded data removed]",
      "text/plain": [
       "<Figure size 640x480 with 1 Axes>"
      ]
     },
     "metadata": {},
     "output_type": "display_data"
    }
   ],
   "source": [
    "plt.hist(loan_ap['loan_status'])\n",
    "plt.xticks(rotation=90)\n",
    "plt.show()"
   ]
  },
  {
   "cell_type": "code",
   "execution_count": 21,
   "id": "481b1e33",
   "metadata": {
    "execution": {
     "iopub.execute_input": "2025-06-15T03:49:18.702156Z",
     "iopub.status.busy": "2025-06-15T03:49:18.701918Z",
     "iopub.status.idle": "2025-06-15T03:49:18.919906Z",
     "shell.execute_reply": "2025-06-15T03:49:18.919110Z"
    },
    "papermill": {
     "duration": 0.228332,
     "end_time": "2025-06-15T03:49:18.921204",
     "exception": false,
     "start_time": "2025-06-15T03:49:18.692872",
     "status": "completed"
    },
    "tags": []
   },
   "outputs": [
    {
     "data": {
      "image/png": "[encoded data removed]",
      "text/plain": [
       "<Figure size 640x480 with 1 Axes>"
      ]
     },
     "metadata": {},
     "output_type": "display_data"
    }
   ],
   "source": [
    "# Data Visualization for multiple related columns\n",
    "#sns.histplot(loan_ap['gender'],hue=loan_ap['loan_status'])\n",
    "loan_ap.groupby('gender')['loan_status'].value_counts().unstack().plot.bar(ylabel='Loan status As per gender')\n",
    "plt.legend(bbox_to_anchor=[1.5,1.0],loc='upper right')\n",
    "plt.title('Loan Approval Vs Gender')\n",
    "plt.show()"
   ]
  },
  {
   "cell_type": "code",
   "execution_count": 22,
   "id": "b7413f5d",
   "metadata": {
    "execution": {
     "iopub.execute_input": "2025-06-15T03:49:18.939588Z",
     "iopub.status.busy": "2025-06-15T03:49:18.939340Z",
     "iopub.status.idle": "2025-06-15T03:49:19.120787Z",
     "shell.execute_reply": "2025-06-15T03:49:19.120073Z"
    },
    "papermill": {
     "duration": 0.191812,
     "end_time": "2025-06-15T03:49:19.122042",
     "exception": false,
     "start_time": "2025-06-15T03:49:18.930230",
     "status": "completed"
    },
    "tags": []
   },
   "outputs": [
    {
     "data": {
      "image/png": "[encoded data removed]",
      "text/plain": [
       "<Figure size 640x480 with 1 Axes>"
      ]
     },
     "metadata": {},
     "output_type": "display_data"
    }
   ],
   "source": [
    "loan_ap.groupby('employment_status')['loan_status'].value_counts().unstack().plot.bar(ylabel='Employment Status Vs Loan Status')\n",
    "plt.legend(bbox_to_anchor=[1.5,1.0],loc='upper right')\n",
    "plt.title('Employment Status Vs Loan Approval status')\n",
    "plt.show()"
   ]
  },
  {
   "cell_type": "code",
   "execution_count": 23,
   "id": "96955259",
   "metadata": {
    "execution": {
     "iopub.execute_input": "2025-06-15T03:49:19.141464Z",
     "iopub.status.busy": "2025-06-15T03:49:19.141189Z",
     "iopub.status.idle": "2025-06-15T03:49:19.153634Z",
     "shell.execute_reply": "2025-06-15T03:49:19.153015Z"
    },
    "papermill": {
     "duration": 0.023608,
     "end_time": "2025-06-15T03:49:19.155108",
     "exception": false,
     "start_time": "2025-06-15T03:49:19.131500",
     "status": "completed"
    },
    "tags": []
   },
   "outputs": [
    {
     "data": {
      "text/html": [
       "<div>\n",
       "<style scoped>\n",
       "    .dataframe tbody tr th:only-of-type {\n",
       "        vertical-align: middle;\n",
       "    }\n",
       "\n",
       "    .dataframe tbody tr th {\n",
       "        vertical-align: top;\n",
       "    }\n",
       "\n",
       "    .dataframe thead th {\n",
       "        text-align: right;\n",
       "    }\n",
       "</style>\n",
       "<table border=\"1\" class=\"dataframe\">\n",
       "  <thead>\n",
       "    <tr style=\"text-align: right;\">\n",
       "      <th></th>\n",
       "      <th>customer_id</th>\n",
       "      <th>application_date</th>\n",
       "      <th>loan_type</th>\n",
       "      <th>loan_amount_requested</th>\n",
       "      <th>loan_tenure_months</th>\n",
       "      <th>interest_rate_offered</th>\n",
       "      <th>purpose_of_loan</th>\n",
       "      <th>employment_status</th>\n",
       "      <th>monthly_income</th>\n",
       "      <th>cibil_score</th>\n",
       "      <th>existing_emis_monthly</th>\n",
       "      <th>debt_to_income_ratio</th>\n",
       "      <th>property_ownership_status</th>\n",
       "      <th>applicant_age</th>\n",
       "      <th>gender</th>\n",
       "      <th>number_of_dependents</th>\n",
       "      <th>loan_status</th>\n",
       "      <th>fraud_flag</th>\n",
       "    </tr>\n",
       "  </thead>\n",
       "  <tbody>\n",
       "    <tr>\n",
       "      <th>0</th>\n",
       "      <td>CUST109427</td>\n",
       "      <td>2023-04-09</td>\n",
       "      <td>Business Loan</td>\n",
       "      <td>604000.0</td>\n",
       "      <td>12</td>\n",
       "      <td>11.66</td>\n",
       "      <td>Medical Emergency</td>\n",
       "      <td>Retired</td>\n",
       "      <td>34700.0</td>\n",
       "      <td>714</td>\n",
       "      <td>1100.0</td>\n",
       "      <td>3.17</td>\n",
       "      <td>Rented</td>\n",
       "      <td>28</td>\n",
       "      <td>Female</td>\n",
       "      <td>3</td>\n",
       "      <td>Approved</td>\n",
       "      <td>0</td>\n",
       "    </tr>\n",
       "    <tr>\n",
       "      <th>1</th>\n",
       "      <td>CUST106146</td>\n",
       "      <td>2023-09-23</td>\n",
       "      <td>Car Loan</td>\n",
       "      <td>100000.0</td>\n",
       "      <td>240</td>\n",
       "      <td>13.62</td>\n",
       "      <td>Education</td>\n",
       "      <td>Unemployed</td>\n",
       "      <td>51600.0</td>\n",
       "      <td>667</td>\n",
       "      <td>0.0</td>\n",
       "      <td>0.00</td>\n",
       "      <td>Owned</td>\n",
       "      <td>44</td>\n",
       "      <td>Other</td>\n",
       "      <td>3</td>\n",
       "      <td>Approved</td>\n",
       "      <td>0</td>\n",
       "    </tr>\n",
       "    <tr>\n",
       "      <th>2</th>\n",
       "      <td>CUST100674</td>\n",
       "      <td>2023-05-22</td>\n",
       "      <td>Education Loan</td>\n",
       "      <td>431000.0</td>\n",
       "      <td>60</td>\n",
       "      <td>11.40</td>\n",
       "      <td>Medical Emergency</td>\n",
       "      <td>Self-Employed</td>\n",
       "      <td>14800.0</td>\n",
       "      <td>808</td>\n",
       "      <td>4600.0</td>\n",
       "      <td>31.08</td>\n",
       "      <td>Rented</td>\n",
       "      <td>56</td>\n",
       "      <td>Other</td>\n",
       "      <td>4</td>\n",
       "      <td>Approved</td>\n",
       "      <td>0</td>\n",
       "    </tr>\n",
       "    <tr>\n",
       "      <th>3</th>\n",
       "      <td>CUST106466</td>\n",
       "      <td>2024-07-09</td>\n",
       "      <td>Car Loan</td>\n",
       "      <td>324000.0</td>\n",
       "      <td>120</td>\n",
       "      <td>10.36</td>\n",
       "      <td>Debt Consolidation</td>\n",
       "      <td>Self-Employed</td>\n",
       "      <td>28800.0</td>\n",
       "      <td>647</td>\n",
       "      <td>4000.0</td>\n",
       "      <td>13.89</td>\n",
       "      <td>Rented</td>\n",
       "      <td>27</td>\n",
       "      <td>Other</td>\n",
       "      <td>4</td>\n",
       "      <td>Declined</td>\n",
       "      <td>0</td>\n",
       "    </tr>\n",
       "    <tr>\n",
       "      <th>4</th>\n",
       "      <td>CUST112319</td>\n",
       "      <td>2023-11-20</td>\n",
       "      <td>Personal Loan</td>\n",
       "      <td>100000.0</td>\n",
       "      <td>36</td>\n",
       "      <td>14.14</td>\n",
       "      <td>Business Expansion</td>\n",
       "      <td>Salaried</td>\n",
       "      <td>43900.0</td>\n",
       "      <td>624</td>\n",
       "      <td>1100.0</td>\n",
       "      <td>2.51</td>\n",
       "      <td>Rented</td>\n",
       "      <td>50</td>\n",
       "      <td>Other</td>\n",
       "      <td>0</td>\n",
       "      <td>Declined</td>\n",
       "      <td>0</td>\n",
       "    </tr>\n",
       "  </tbody>\n",
       "</table>\n",
       "</div>"
      ],
      "text/plain": [
       "  customer_id application_date       loan_type  loan_amount_requested  \\\n",
       "0  CUST109427       2023-04-09   Business Loan               604000.0   \n",
       "1  CUST106146       2023-09-23        Car Loan               100000.0   \n",
       "2  CUST100674       2023-05-22  Education Loan               431000.0   \n",
       "3  CUST106466       2024-07-09        Car Loan               324000.0   \n",
       "4  CUST112319       2023-11-20   Personal Loan               100000.0   \n",
       "\n",
       "   loan_tenure_months  interest_rate_offered     purpose_of_loan  \\\n",
       "0                  12                  11.66   Medical Emergency   \n",
       "1                 240                  13.62           Education   \n",
       "2                  60                  11.40   Medical Emergency   \n",
       "3                 120                  10.36  Debt Consolidation   \n",
       "4                  36                  14.14  Business Expansion   \n",
       "\n",
       "  employment_status  monthly_income  cibil_score  existing_emis_monthly  \\\n",
       "0           Retired         34700.0          714                 1100.0   \n",
       "1        Unemployed         51600.0          667                    0.0   \n",
       "2     Self-Employed         14800.0          808                 4600.0   \n",
       "3     Self-Employed         28800.0          647                 4000.0   \n",
       "4          Salaried         43900.0          624                 1100.0   \n",
       "\n",
       "   debt_to_income_ratio property_ownership_status  applicant_age  gender  \\\n",
       "0                  3.17                    Rented             28  Female   \n",
       "1                  0.00                     Owned             44   Other   \n",
       "2                 31.08                    Rented             56   Other   \n",
       "3                 13.89                    Rented             27   Other   \n",
       "4                  2.51                    Rented             50   Other   \n",
       "\n",
       "   number_of_dependents loan_status  fraud_flag  \n",
       "0                     3    Approved           0  \n",
       "1                     3    Approved           0  \n",
       "2                     4    Approved           0  \n",
       "3                     4    Declined           0  \n",
       "4                     0    Declined           0  "
      ]
     },
     "execution_count": 23,
     "metadata": {},
     "output_type": "execute_result"
    }
   ],
   "source": [
    "loan_ap.head()"
   ]
  },
  {
   "cell_type": "code",
   "execution_count": 24,
   "id": "b5777b7b",
   "metadata": {
    "execution": {
     "iopub.execute_input": "2025-06-15T03:49:19.175690Z",
     "iopub.status.busy": "2025-06-15T03:49:19.175431Z",
     "iopub.status.idle": "2025-06-15T03:49:19.281674Z",
     "shell.execute_reply": "2025-06-15T03:49:19.280806Z"
    },
    "papermill": {
     "duration": 0.117934,
     "end_time": "2025-06-15T03:49:19.282900",
     "exception": false,
     "start_time": "2025-06-15T03:49:19.164966",
     "status": "completed"
    },
    "tags": []
   },
   "outputs": [
    {
     "data": {
      "image/png": "[encoded data removed]",
      "text/plain": [
       "<Figure size 640x480 with 1 Axes>"
      ]
     },
     "metadata": {},
     "output_type": "display_data"
    }
   ],
   "source": [
    "plt.hist(loan_ap['fraud_flag'])\n",
    "plt.show()"
   ]
  },
  {
   "cell_type": "code",
   "execution_count": 25,
   "id": "5d493728",
   "metadata": {
    "execution": {
     "iopub.execute_input": "2025-06-15T03:49:19.303859Z",
     "iopub.status.busy": "2025-06-15T03:49:19.303556Z",
     "iopub.status.idle": "2025-06-15T03:49:19.446278Z",
     "shell.execute_reply": "2025-06-15T03:49:19.445385Z"
    },
    "papermill": {
     "duration": 0.155113,
     "end_time": "2025-06-15T03:49:19.447951",
     "exception": false,
     "start_time": "2025-06-15T03:49:19.292838",
     "status": "completed"
    },
    "tags": []
   },
   "outputs": [
    {
     "data": {
      "image/png": "[encoded data removed]",
      "text/plain": [
       "<Figure size 640x480 with 1 Axes>"
      ]
     },
     "metadata": {},
     "output_type": "display_data"
    }
   ],
   "source": [
    "loan_ap.groupby('fraud_flag')['loan_status'].value_counts().unstack().plot.bar(ylabel='Status of loan as per fraudulent activity')\n",
    "plt.show()"
   ]
  },
  {
   "cell_type": "code",
   "execution_count": 26,
   "id": "f3f5e05f",
   "metadata": {
    "execution": {
     "iopub.execute_input": "2025-06-15T03:49:19.471002Z",
     "iopub.status.busy": "2025-06-15T03:49:19.470156Z",
     "iopub.status.idle": "2025-06-15T03:49:19.478960Z",
     "shell.execute_reply": "2025-06-15T03:49:19.477947Z"
    },
    "papermill": {
     "duration": 0.021717,
     "end_time": "2025-06-15T03:49:19.480328",
     "exception": false,
     "start_time": "2025-06-15T03:49:19.458611",
     "status": "completed"
    },
    "tags": []
   },
   "outputs": [],
   "source": [
    "loan_ap=loan_ap.drop(['customer_id','application_date'],axis=1)"
   ]
  },
  {
   "cell_type": "code",
   "execution_count": 27,
   "id": "b7ce5513",
   "metadata": {
    "execution": {
     "iopub.execute_input": "2025-06-15T03:49:19.503213Z",
     "iopub.status.busy": "2025-06-15T03:49:19.502945Z",
     "iopub.status.idle": "2025-06-15T03:49:19.516808Z",
     "shell.execute_reply": "2025-06-15T03:49:19.515987Z"
    },
    "papermill": {
     "duration": 0.026773,
     "end_time": "2025-06-15T03:49:19.518480",
     "exception": false,
     "start_time": "2025-06-15T03:49:19.491707",
     "status": "completed"
    },
    "tags": []
   },
   "outputs": [
    {
     "data": {
      "text/html": [
       "<div>\n",
       "<style scoped>\n",
       "    .dataframe tbody tr th:only-of-type {\n",
       "        vertical-align: middle;\n",
       "    }\n",
       "\n",
       "    .dataframe tbody tr th {\n",
       "        vertical-align: top;\n",
       "    }\n",
       "\n",
       "    .dataframe thead th {\n",
       "        text-align: right;\n",
       "    }\n",
       "</style>\n",
       "<table border=\"1\" class=\"dataframe\">\n",
       "  <thead>\n",
       "    <tr style=\"text-align: right;\">\n",
       "      <th></th>\n",
       "      <th>loan_type</th>\n",
       "      <th>loan_amount_requested</th>\n",
       "      <th>loan_tenure_months</th>\n",
       "      <th>interest_rate_offered</th>\n",
       "      <th>purpose_of_loan</th>\n",
       "      <th>employment_status</th>\n",
       "      <th>monthly_income</th>\n",
       "      <th>cibil_score</th>\n",
       "      <th>existing_emis_monthly</th>\n",
       "      <th>debt_to_income_ratio</th>\n",
       "      <th>property_ownership_status</th>\n",
       "      <th>applicant_age</th>\n",
       "      <th>gender</th>\n",
       "      <th>number_of_dependents</th>\n",
       "      <th>loan_status</th>\n",
       "      <th>fraud_flag</th>\n",
       "    </tr>\n",
       "  </thead>\n",
       "  <tbody>\n",
       "    <tr>\n",
       "      <th>0</th>\n",
       "      <td>Business Loan</td>\n",
       "      <td>604000.0</td>\n",
       "      <td>12</td>\n",
       "      <td>11.66</td>\n",
       "      <td>Medical Emergency</td>\n",
       "      <td>Retired</td>\n",
       "      <td>34700.0</td>\n",
       "      <td>714</td>\n",
       "      <td>1100.0</td>\n",
       "      <td>3.17</td>\n",
       "      <td>Rented</td>\n",
       "      <td>28</td>\n",
       "      <td>Female</td>\n",
       "      <td>3</td>\n",
       "      <td>Approved</td>\n",
       "      <td>0</td>\n",
       "    </tr>\n",
       "    <tr>\n",
       "      <th>1</th>\n",
       "      <td>Car Loan</td>\n",
       "      <td>100000.0</td>\n",
       "      <td>240</td>\n",
       "      <td>13.62</td>\n",
       "      <td>Education</td>\n",
       "      <td>Unemployed</td>\n",
       "      <td>51600.0</td>\n",
       "      <td>667</td>\n",
       "      <td>0.0</td>\n",
       "      <td>0.00</td>\n",
       "      <td>Owned</td>\n",
       "      <td>44</td>\n",
       "      <td>Other</td>\n",
       "      <td>3</td>\n",
       "      <td>Approved</td>\n",
       "      <td>0</td>\n",
       "    </tr>\n",
       "  </tbody>\n",
       "</table>\n",
       "</div>"
      ],
      "text/plain": [
       "       loan_type  loan_amount_requested  loan_tenure_months  \\\n",
       "0  Business Loan               604000.0                  12   \n",
       "1       Car Loan               100000.0                 240   \n",
       "\n",
       "   interest_rate_offered    purpose_of_loan employment_status  monthly_income  \\\n",
       "0                  11.66  Medical Emergency           Retired         34700.0   \n",
       "1                  13.62          Education        Unemployed         51600.0   \n",
       "\n",
       "   cibil_score  existing_emis_monthly  debt_to_income_ratio  \\\n",
       "0          714                 1100.0                  3.17   \n",
       "1          667                    0.0                  0.00   \n",
       "\n",
       "  property_ownership_status  applicant_age  gender  number_of_dependents  \\\n",
       "0                    Rented             28  Female                     3   \n",
       "1                     Owned             44   Other                     3   \n",
       "\n",
       "  loan_status  fraud_flag  \n",
       "0    Approved           0  \n",
       "1    Approved           0  "
      ]
     },
     "execution_count": 27,
     "metadata": {},
     "output_type": "execute_result"
    }
   ],
   "source": [
    "loan_ap.head(2)"
   ]
  },
  {
   "cell_type": "code",
   "execution_count": 28,
   "id": "8f08a233",
   "metadata": {
    "execution": {
     "iopub.execute_input": "2025-06-15T03:49:19.542876Z",
     "iopub.status.busy": "2025-06-15T03:49:19.542615Z",
     "iopub.status.idle": "2025-06-15T03:49:19.549487Z",
     "shell.execute_reply": "2025-06-15T03:49:19.548622Z"
    },
    "papermill": {
     "duration": 0.022044,
     "end_time": "2025-06-15T03:49:19.551453",
     "exception": false,
     "start_time": "2025-06-15T03:49:19.529409",
     "status": "completed"
    },
    "tags": []
   },
   "outputs": [],
   "source": [
    "# Seperating CAtegorical and Numerical Data\n",
    "catogorical=loan_ap.select_dtypes(include='object')\n"
   ]
  },
  {
   "cell_type": "code",
   "execution_count": 29,
   "id": "ed874855",
   "metadata": {
    "execution": {
     "iopub.execute_input": "2025-06-15T03:49:19.574080Z",
     "iopub.status.busy": "2025-06-15T03:49:19.573835Z",
     "iopub.status.idle": "2025-06-15T03:49:19.582068Z",
     "shell.execute_reply": "2025-06-15T03:49:19.581338Z"
    },
    "papermill": {
     "duration": 0.020317,
     "end_time": "2025-06-15T03:49:19.583007",
     "exception": false,
     "start_time": "2025-06-15T03:49:19.562690",
     "status": "completed"
    },
    "tags": []
   },
   "outputs": [
    {
     "data": {
      "text/html": [
       "<div>\n",
       "<style scoped>\n",
       "    .dataframe tbody tr th:only-of-type {\n",
       "        vertical-align: middle;\n",
       "    }\n",
       "\n",
       "    .dataframe tbody tr th {\n",
       "        vertical-align: top;\n",
       "    }\n",
       "\n",
       "    .dataframe thead th {\n",
       "        text-align: right;\n",
       "    }\n",
       "</style>\n",
       "<table border=\"1\" class=\"dataframe\">\n",
       "  <thead>\n",
       "    <tr style=\"text-align: right;\">\n",
       "      <th></th>\n",
       "      <th>loan_type</th>\n",
       "      <th>purpose_of_loan</th>\n",
       "      <th>employment_status</th>\n",
       "      <th>property_ownership_status</th>\n",
       "      <th>gender</th>\n",
       "      <th>loan_status</th>\n",
       "    </tr>\n",
       "  </thead>\n",
       "  <tbody>\n",
       "    <tr>\n",
       "      <th>0</th>\n",
       "      <td>Business Loan</td>\n",
       "      <td>Medical Emergency</td>\n",
       "      <td>Retired</td>\n",
       "      <td>Rented</td>\n",
       "      <td>Female</td>\n",
       "      <td>Approved</td>\n",
       "    </tr>\n",
       "    <tr>\n",
       "      <th>1</th>\n",
       "      <td>Car Loan</td>\n",
       "      <td>Education</td>\n",
       "      <td>Unemployed</td>\n",
       "      <td>Owned</td>\n",
       "      <td>Other</td>\n",
       "      <td>Approved</td>\n",
       "    </tr>\n",
       "    <tr>\n",
       "      <th>2</th>\n",
       "      <td>Education Loan</td>\n",
       "      <td>Medical Emergency</td>\n",
       "      <td>Self-Employed</td>\n",
       "      <td>Rented</td>\n",
       "      <td>Other</td>\n",
       "      <td>Approved</td>\n",
       "    </tr>\n",
       "    <tr>\n",
       "      <th>3</th>\n",
       "      <td>Car Loan</td>\n",
       "      <td>Debt Consolidation</td>\n",
       "      <td>Self-Employed</td>\n",
       "      <td>Rented</td>\n",
       "      <td>Other</td>\n",
       "      <td>Declined</td>\n",
       "    </tr>\n",
       "    <tr>\n",
       "      <th>4</th>\n",
       "      <td>Personal Loan</td>\n",
       "      <td>Business Expansion</td>\n",
       "      <td>Salaried</td>\n",
       "      <td>Rented</td>\n",
       "      <td>Other</td>\n",
       "      <td>Declined</td>\n",
       "    </tr>\n",
       "  </tbody>\n",
       "</table>\n",
       "</div>"
      ],
      "text/plain": [
       "        loan_type     purpose_of_loan employment_status  \\\n",
       "0   Business Loan   Medical Emergency           Retired   \n",
       "1        Car Loan           Education        Unemployed   \n",
       "2  Education Loan   Medical Emergency     Self-Employed   \n",
       "3        Car Loan  Debt Consolidation     Self-Employed   \n",
       "4   Personal Loan  Business Expansion          Salaried   \n",
       "\n",
       "  property_ownership_status  gender loan_status  \n",
       "0                    Rented  Female    Approved  \n",
       "1                     Owned   Other    Approved  \n",
       "2                    Rented   Other    Approved  \n",
       "3                    Rented   Other    Declined  \n",
       "4                    Rented   Other    Declined  "
      ]
     },
     "execution_count": 29,
     "metadata": {},
     "output_type": "execute_result"
    }
   ],
   "source": [
    "catogorical.head()"
   ]
  },
  {
   "cell_type": "code",
   "execution_count": 30,
   "id": "764a1084",
   "metadata": {
    "execution": {
     "iopub.execute_input": "2025-06-15T03:49:19.604286Z",
     "iopub.status.busy": "2025-06-15T03:49:19.604067Z",
     "iopub.status.idle": "2025-06-15T03:49:19.649399Z",
     "shell.execute_reply": "2025-06-15T03:49:19.648679Z"
    },
    "papermill": {
     "duration": 0.057857,
     "end_time": "2025-06-15T03:49:19.651163",
     "exception": false,
     "start_time": "2025-06-15T03:49:19.593306",
     "status": "completed"
    },
    "tags": []
   },
   "outputs": [],
   "source": [
    "# Converting catogorical into Numerical\n",
    "for col in catogorical.columns:\n",
    "    le=LabelEncoder()\n",
    "    catogorical[col]=le.fit_transform(catogorical[col])"
   ]
  },
  {
   "cell_type": "code",
   "execution_count": 31,
   "id": "c71aaa55",
   "metadata": {
    "execution": {
     "iopub.execute_input": "2025-06-15T03:49:19.672687Z",
     "iopub.status.busy": "2025-06-15T03:49:19.672460Z",
     "iopub.status.idle": "2025-06-15T03:49:19.679603Z",
     "shell.execute_reply": "2025-06-15T03:49:19.678935Z"
    },
    "papermill": {
     "duration": 0.019158,
     "end_time": "2025-06-15T03:49:19.680911",
     "exception": false,
     "start_time": "2025-06-15T03:49:19.661753",
     "status": "completed"
    },
    "tags": []
   },
   "outputs": [
    {
     "data": {
      "text/html": [
       "<div>\n",
       "<style scoped>\n",
       "    .dataframe tbody tr th:only-of-type {\n",
       "        vertical-align: middle;\n",
       "    }\n",
       "\n",
       "    .dataframe tbody tr th {\n",
       "        vertical-align: top;\n",
       "    }\n",
       "\n",
       "    .dataframe thead th {\n",
       "        text-align: right;\n",
       "    }\n",
       "</style>\n",
       "<table border=\"1\" class=\"dataframe\">\n",
       "  <thead>\n",
       "    <tr style=\"text-align: right;\">\n",
       "      <th></th>\n",
       "      <th>loan_type</th>\n",
       "      <th>purpose_of_loan</th>\n",
       "      <th>employment_status</th>\n",
       "      <th>property_ownership_status</th>\n",
       "      <th>gender</th>\n",
       "      <th>loan_status</th>\n",
       "    </tr>\n",
       "  </thead>\n",
       "  <tbody>\n",
       "    <tr>\n",
       "      <th>0</th>\n",
       "      <td>0</td>\n",
       "      <td>4</td>\n",
       "      <td>1</td>\n",
       "      <td>2</td>\n",
       "      <td>0</td>\n",
       "      <td>0</td>\n",
       "    </tr>\n",
       "    <tr>\n",
       "      <th>1</th>\n",
       "      <td>1</td>\n",
       "      <td>2</td>\n",
       "      <td>5</td>\n",
       "      <td>1</td>\n",
       "      <td>2</td>\n",
       "      <td>0</td>\n",
       "    </tr>\n",
       "    <tr>\n",
       "      <th>2</th>\n",
       "      <td>2</td>\n",
       "      <td>4</td>\n",
       "      <td>3</td>\n",
       "      <td>2</td>\n",
       "      <td>2</td>\n",
       "      <td>0</td>\n",
       "    </tr>\n",
       "    <tr>\n",
       "      <th>3</th>\n",
       "      <td>1</td>\n",
       "      <td>1</td>\n",
       "      <td>3</td>\n",
       "      <td>2</td>\n",
       "      <td>2</td>\n",
       "      <td>1</td>\n",
       "    </tr>\n",
       "    <tr>\n",
       "      <th>4</th>\n",
       "      <td>4</td>\n",
       "      <td>0</td>\n",
       "      <td>2</td>\n",
       "      <td>2</td>\n",
       "      <td>2</td>\n",
       "      <td>1</td>\n",
       "    </tr>\n",
       "  </tbody>\n",
       "</table>\n",
       "</div>"
      ],
      "text/plain": [
       "   loan_type  purpose_of_loan  employment_status  property_ownership_status  \\\n",
       "0          0                4                  1                          2   \n",
       "1          1                2                  5                          1   \n",
       "2          2                4                  3                          2   \n",
       "3          1                1                  3                          2   \n",
       "4          4                0                  2                          2   \n",
       "\n",
       "   gender  loan_status  \n",
       "0       0            0  \n",
       "1       2            0  \n",
       "2       2            0  \n",
       "3       2            1  \n",
       "4       2            1  "
      ]
     },
     "execution_count": 31,
     "metadata": {},
     "output_type": "execute_result"
    }
   ],
   "source": [
    "catogorical.head()"
   ]
  },
  {
   "cell_type": "code",
   "execution_count": 32,
   "id": "c4841b9e",
   "metadata": {
    "execution": {
     "iopub.execute_input": "2025-06-15T03:49:19.704263Z",
     "iopub.status.busy": "2025-06-15T03:49:19.704007Z",
     "iopub.status.idle": "2025-06-15T03:49:19.711066Z",
     "shell.execute_reply": "2025-06-15T03:49:19.710323Z"
    },
    "papermill": {
     "duration": 0.020879,
     "end_time": "2025-06-15T03:49:19.712616",
     "exception": false,
     "start_time": "2025-06-15T03:49:19.691737",
     "status": "completed"
    },
    "tags": []
   },
   "outputs": [],
   "source": [
    "loan_ap=loan_ap.drop(['loan_type','purpose_of_loan','employment_status','property_ownership_status','gender','loan_status'],axis=1)"
   ]
  },
  {
   "cell_type": "code",
   "execution_count": 33,
   "id": "4f50abe6",
   "metadata": {
    "execution": {
     "iopub.execute_input": "2025-06-15T03:49:19.735283Z",
     "iopub.status.busy": "2025-06-15T03:49:19.735005Z",
     "iopub.status.idle": "2025-06-15T03:49:19.747906Z",
     "shell.execute_reply": "2025-06-15T03:49:19.747156Z"
    },
    "papermill": {
     "duration": 0.025969,
     "end_time": "2025-06-15T03:49:19.749442",
     "exception": false,
     "start_time": "2025-06-15T03:49:19.723473",
     "status": "completed"
    },
    "tags": []
   },
   "outputs": [],
   "source": [
    "data=pd.concat([loan_ap,catogorical],axis=1,join='inner')"
   ]
  },
  {
   "cell_type": "code",
   "execution_count": 34,
   "id": "aa95ecf2",
   "metadata": {
    "execution": {
     "iopub.execute_input": "2025-06-15T03:49:19.772074Z",
     "iopub.status.busy": "2025-06-15T03:49:19.771816Z",
     "iopub.status.idle": "2025-06-15T03:49:19.783208Z",
     "shell.execute_reply": "2025-06-15T03:49:19.782501Z"
    },
    "papermill": {
     "duration": 0.024058,
     "end_time": "2025-06-15T03:49:19.784415",
     "exception": false,
     "start_time": "2025-06-15T03:49:19.760357",
     "status": "completed"
    },
    "tags": []
   },
   "outputs": [
    {
     "data": {
      "text/html": [
       "<div>\n",
       "<style scoped>\n",
       "    .dataframe tbody tr th:only-of-type {\n",
       "        vertical-align: middle;\n",
       "    }\n",
       "\n",
       "    .dataframe tbody tr th {\n",
       "        vertical-align: top;\n",
       "    }\n",
       "\n",
       "    .dataframe thead th {\n",
       "        text-align: right;\n",
       "    }\n",
       "</style>\n",
       "<table border=\"1\" class=\"dataframe\">\n",
       "  <thead>\n",
       "    <tr style=\"text-align: right;\">\n",
       "      <th></th>\n",
       "      <th>loan_amount_requested</th>\n",
       "      <th>loan_tenure_months</th>\n",
       "      <th>interest_rate_offered</th>\n",
       "      <th>monthly_income</th>\n",
       "      <th>cibil_score</th>\n",
       "      <th>existing_emis_monthly</th>\n",
       "      <th>debt_to_income_ratio</th>\n",
       "      <th>applicant_age</th>\n",
       "      <th>number_of_dependents</th>\n",
       "      <th>fraud_flag</th>\n",
       "      <th>loan_type</th>\n",
       "      <th>purpose_of_loan</th>\n",
       "      <th>employment_status</th>\n",
       "      <th>property_ownership_status</th>\n",
       "      <th>gender</th>\n",
       "      <th>loan_status</th>\n",
       "    </tr>\n",
       "  </thead>\n",
       "  <tbody>\n",
       "    <tr>\n",
       "      <th>0</th>\n",
       "      <td>604000.0</td>\n",
       "      <td>12</td>\n",
       "      <td>11.66</td>\n",
       "      <td>34700.0</td>\n",
       "      <td>714</td>\n",
       "      <td>1100.0</td>\n",
       "      <td>3.17</td>\n",
       "      <td>28</td>\n",
       "      <td>3</td>\n",
       "      <td>0</td>\n",
       "      <td>0</td>\n",
       "      <td>4</td>\n",
       "      <td>1</td>\n",
       "      <td>2</td>\n",
       "      <td>0</td>\n",
       "      <td>0</td>\n",
       "    </tr>\n",
       "    <tr>\n",
       "      <th>1</th>\n",
       "      <td>100000.0</td>\n",
       "      <td>240</td>\n",
       "      <td>13.62</td>\n",
       "      <td>51600.0</td>\n",
       "      <td>667</td>\n",
       "      <td>0.0</td>\n",
       "      <td>0.00</td>\n",
       "      <td>44</td>\n",
       "      <td>3</td>\n",
       "      <td>0</td>\n",
       "      <td>1</td>\n",
       "      <td>2</td>\n",
       "      <td>5</td>\n",
       "      <td>1</td>\n",
       "      <td>2</td>\n",
       "      <td>0</td>\n",
       "    </tr>\n",
       "    <tr>\n",
       "      <th>2</th>\n",
       "      <td>431000.0</td>\n",
       "      <td>60</td>\n",
       "      <td>11.40</td>\n",
       "      <td>14800.0</td>\n",
       "      <td>808</td>\n",
       "      <td>4600.0</td>\n",
       "      <td>31.08</td>\n",
       "      <td>56</td>\n",
       "      <td>4</td>\n",
       "      <td>0</td>\n",
       "      <td>2</td>\n",
       "      <td>4</td>\n",
       "      <td>3</td>\n",
       "      <td>2</td>\n",
       "      <td>2</td>\n",
       "      <td>0</td>\n",
       "    </tr>\n",
       "    <tr>\n",
       "      <th>3</th>\n",
       "      <td>324000.0</td>\n",
       "      <td>120</td>\n",
       "      <td>10.36</td>\n",
       "      <td>28800.0</td>\n",
       "      <td>647</td>\n",
       "      <td>4000.0</td>\n",
       "      <td>13.89</td>\n",
       "      <td>27</td>\n",
       "      <td>4</td>\n",
       "      <td>0</td>\n",
       "      <td>1</td>\n",
       "      <td>1</td>\n",
       "      <td>3</td>\n",
       "      <td>2</td>\n",
       "      <td>2</td>\n",
       "      <td>1</td>\n",
       "    </tr>\n",
       "    <tr>\n",
       "      <th>4</th>\n",
       "      <td>100000.0</td>\n",
       "      <td>36</td>\n",
       "      <td>14.14</td>\n",
       "      <td>43900.0</td>\n",
       "      <td>624</td>\n",
       "      <td>1100.0</td>\n",
       "      <td>2.51</td>\n",
       "      <td>50</td>\n",
       "      <td>0</td>\n",
       "      <td>0</td>\n",
       "      <td>4</td>\n",
       "      <td>0</td>\n",
       "      <td>2</td>\n",
       "      <td>2</td>\n",
       "      <td>2</td>\n",
       "      <td>1</td>\n",
       "    </tr>\n",
       "  </tbody>\n",
       "</table>\n",
       "</div>"
      ],
      "text/plain": [
       "   loan_amount_requested  loan_tenure_months  interest_rate_offered  \\\n",
       "0               604000.0                  12                  11.66   \n",
       "1               100000.0                 240                  13.62   \n",
       "2               431000.0                  60                  11.40   \n",
       "3               324000.0                 120                  10.36   \n",
       "4               100000.0                  36                  14.14   \n",
       "\n",
       "   monthly_income  cibil_score  existing_emis_monthly  debt_to_income_ratio  \\\n",
       "0         34700.0          714                 1100.0                  3.17   \n",
       "1         51600.0          667                    0.0                  0.00   \n",
       "2         14800.0          808                 4600.0                 31.08   \n",
       "3         28800.0          647                 4000.0                 13.89   \n",
       "4         43900.0          624                 1100.0                  2.51   \n",
       "\n",
       "   applicant_age  number_of_dependents  fraud_flag  loan_type  \\\n",
       "0             28                     3           0          0   \n",
       "1             44                     3           0          1   \n",
       "2             56                     4           0          2   \n",
       "3             27                     4           0          1   \n",
       "4             50                     0           0          4   \n",
       "\n",
       "   purpose_of_loan  employment_status  property_ownership_status  gender  \\\n",
       "0                4                  1                          2       0   \n",
       "1                2                  5                          1       2   \n",
       "2                4                  3                          2       2   \n",
       "3                1                  3                          2       2   \n",
       "4                0                  2                          2       2   \n",
       "\n",
       "   loan_status  \n",
       "0            0  \n",
       "1            0  \n",
       "2            0  \n",
       "3            1  \n",
       "4            1  "
      ]
     },
     "execution_count": 34,
     "metadata": {},
     "output_type": "execute_result"
    }
   ],
   "source": [
    "data.head()"
   ]
  },
  {
   "cell_type": "code",
   "execution_count": 35,
   "id": "6ecb95a1",
   "metadata": {
    "execution": {
     "iopub.execute_input": "2025-06-15T03:49:19.807688Z",
     "iopub.status.busy": "2025-06-15T03:49:19.807428Z",
     "iopub.status.idle": "2025-06-15T03:49:19.842289Z",
     "shell.execute_reply": "2025-06-15T03:49:19.841238Z"
    },
    "papermill": {
     "duration": 0.048087,
     "end_time": "2025-06-15T03:49:19.843846",
     "exception": false,
     "start_time": "2025-06-15T03:49:19.795759",
     "status": "completed"
    },
    "tags": []
   },
   "outputs": [],
   "source": [
    "#Checking correlation of column \n",
    "corr=data.corr()"
   ]
  },
  {
   "cell_type": "code",
   "execution_count": 36,
   "id": "c856b400",
   "metadata": {
    "execution": {
     "iopub.execute_input": "2025-06-15T03:49:19.867570Z",
     "iopub.status.busy": "2025-06-15T03:49:19.866949Z",
     "iopub.status.idle": "2025-06-15T03:49:19.883680Z",
     "shell.execute_reply": "2025-06-15T03:49:19.882925Z"
    },
    "papermill": {
     "duration": 0.030135,
     "end_time": "2025-06-15T03:49:19.884786",
     "exception": false,
     "start_time": "2025-06-15T03:49:19.854651",
     "status": "completed"
    },
    "tags": []
   },
   "outputs": [
    {
     "data": {
      "text/html": [
       "<div>\n",
       "<style scoped>\n",
       "    .dataframe tbody tr th:only-of-type {\n",
       "        vertical-align: middle;\n",
       "    }\n",
       "\n",
       "    .dataframe tbody tr th {\n",
       "        vertical-align: top;\n",
       "    }\n",
       "\n",
       "    .dataframe thead th {\n",
       "        text-align: right;\n",
       "    }\n",
       "</style>\n",
       "<table border=\"1\" class=\"dataframe\">\n",
       "  <thead>\n",
       "    <tr style=\"text-align: right;\">\n",
       "      <th></th>\n",
       "      <th>loan_amount_requested</th>\n",
       "      <th>loan_tenure_months</th>\n",
       "      <th>interest_rate_offered</th>\n",
       "      <th>monthly_income</th>\n",
       "      <th>cibil_score</th>\n",
       "      <th>existing_emis_monthly</th>\n",
       "      <th>debt_to_income_ratio</th>\n",
       "      <th>applicant_age</th>\n",
       "      <th>number_of_dependents</th>\n",
       "      <th>fraud_flag</th>\n",
       "      <th>loan_type</th>\n",
       "      <th>purpose_of_loan</th>\n",
       "      <th>employment_status</th>\n",
       "      <th>property_ownership_status</th>\n",
       "      <th>gender</th>\n",
       "      <th>loan_status</th>\n",
       "    </tr>\n",
       "  </thead>\n",
       "  <tbody>\n",
       "    <tr>\n",
       "      <th>loan_amount_requested</th>\n",
       "      <td>1.000000</td>\n",
       "      <td>0.006663</td>\n",
       "      <td>-0.007302</td>\n",
       "      <td>-0.006286</td>\n",
       "      <td>0.008059</td>\n",
       "      <td>0.005053</td>\n",
       "      <td>0.004797</td>\n",
       "      <td>-0.006977</td>\n",
       "      <td>0.002295</td>\n",
       "      <td>-0.005917</td>\n",
       "      <td>0.000439</td>\n",
       "      <td>0.002597</td>\n",
       "      <td>0.000597</td>\n",
       "      <td>0.005850</td>\n",
       "      <td>0.003185</td>\n",
       "      <td>-0.007275</td>\n",
       "    </tr>\n",
       "    <tr>\n",
       "      <th>loan_tenure_months</th>\n",
       "      <td>0.006663</td>\n",
       "      <td>1.000000</td>\n",
       "      <td>0.003541</td>\n",
       "      <td>0.001452</td>\n",
       "      <td>-0.003773</td>\n",
       "      <td>-0.006499</td>\n",
       "      <td>-0.004638</td>\n",
       "      <td>-0.003327</td>\n",
       "      <td>0.004576</td>\n",
       "      <td>-0.000484</td>\n",
       "      <td>0.007153</td>\n",
       "      <td>-0.002059</td>\n",
       "      <td>-0.000425</td>\n",
       "      <td>0.010293</td>\n",
       "      <td>-0.006655</td>\n",
       "      <td>-0.002241</td>\n",
       "    </tr>\n",
       "    <tr>\n",
       "      <th>interest_rate_offered</th>\n",
       "      <td>-0.007302</td>\n",
       "      <td>0.003541</td>\n",
       "      <td>1.000000</td>\n",
       "      <td>-0.002480</td>\n",
       "      <td>0.005230</td>\n",
       "      <td>-0.002010</td>\n",
       "      <td>-0.002086</td>\n",
       "      <td>-0.004983</td>\n",
       "      <td>0.005007</td>\n",
       "      <td>-0.001440</td>\n",
       "      <td>-0.004243</td>\n",
       "      <td>0.001494</td>\n",
       "      <td>-0.009883</td>\n",
       "      <td>0.002110</td>\n",
       "      <td>-0.000602</td>\n",
       "      <td>-0.001422</td>\n",
       "    </tr>\n",
       "    <tr>\n",
       "      <th>monthly_income</th>\n",
       "      <td>-0.006286</td>\n",
       "      <td>0.001452</td>\n",
       "      <td>-0.002480</td>\n",
       "      <td>1.000000</td>\n",
       "      <td>0.001978</td>\n",
       "      <td>-0.002386</td>\n",
       "      <td>-0.564735</td>\n",
       "      <td>0.018267</td>\n",
       "      <td>-0.009575</td>\n",
       "      <td>-0.001949</td>\n",
       "      <td>-0.002878</td>\n",
       "      <td>-0.004168</td>\n",
       "      <td>-0.000240</td>\n",
       "      <td>-0.005243</td>\n",
       "      <td>-0.001081</td>\n",
       "      <td>0.001544</td>\n",
       "    </tr>\n",
       "    <tr>\n",
       "      <th>cibil_score</th>\n",
       "      <td>0.008059</td>\n",
       "      <td>-0.003773</td>\n",
       "      <td>0.005230</td>\n",
       "      <td>0.001978</td>\n",
       "      <td>1.000000</td>\n",
       "      <td>0.004748</td>\n",
       "      <td>0.006166</td>\n",
       "      <td>0.001565</td>\n",
       "      <td>-0.004552</td>\n",
       "      <td>0.001095</td>\n",
       "      <td>0.007537</td>\n",
       "      <td>0.000628</td>\n",
       "      <td>0.003675</td>\n",
       "      <td>-0.001760</td>\n",
       "      <td>0.001184</td>\n",
       "      <td>-0.489881</td>\n",
       "    </tr>\n",
       "    <tr>\n",
       "      <th>existing_emis_monthly</th>\n",
       "      <td>0.005053</td>\n",
       "      <td>-0.006499</td>\n",
       "      <td>-0.002010</td>\n",
       "      <td>-0.002386</td>\n",
       "      <td>0.004748</td>\n",
       "      <td>1.000000</td>\n",
       "      <td>0.550665</td>\n",
       "      <td>-0.004402</td>\n",
       "      <td>-0.001044</td>\n",
       "      <td>-0.000631</td>\n",
       "      <td>0.002441</td>\n",
       "      <td>-0.002453</td>\n",
       "      <td>0.003186</td>\n",
       "      <td>-0.003595</td>\n",
       "      <td>0.003487</td>\n",
       "      <td>-0.007018</td>\n",
       "    </tr>\n",
       "    <tr>\n",
       "      <th>debt_to_income_ratio</th>\n",
       "      <td>0.004797</td>\n",
       "      <td>-0.004638</td>\n",
       "      <td>-0.002086</td>\n",
       "      <td>-0.564735</td>\n",
       "      <td>0.006166</td>\n",
       "      <td>0.550665</td>\n",
       "      <td>1.000000</td>\n",
       "      <td>-0.020872</td>\n",
       "      <td>0.005563</td>\n",
       "      <td>0.005644</td>\n",
       "      <td>0.002781</td>\n",
       "      <td>-0.000300</td>\n",
       "      <td>0.007860</td>\n",
       "      <td>0.004664</td>\n",
       "      <td>0.004233</td>\n",
       "      <td>-0.001129</td>\n",
       "    </tr>\n",
       "    <tr>\n",
       "      <th>applicant_age</th>\n",
       "      <td>-0.006977</td>\n",
       "      <td>-0.003327</td>\n",
       "      <td>-0.004983</td>\n",
       "      <td>0.018267</td>\n",
       "      <td>0.001565</td>\n",
       "      <td>-0.004402</td>\n",
       "      <td>-0.020872</td>\n",
       "      <td>1.000000</td>\n",
       "      <td>0.001336</td>\n",
       "      <td>0.004846</td>\n",
       "      <td>-0.001886</td>\n",
       "      <td>0.000150</td>\n",
       "      <td>0.005849</td>\n",
       "      <td>0.006218</td>\n",
       "      <td>0.009446</td>\n",
       "      <td>0.002106</td>\n",
       "    </tr>\n",
       "    <tr>\n",
       "      <th>number_of_dependents</th>\n",
       "      <td>0.002295</td>\n",
       "      <td>0.004576</td>\n",
       "      <td>0.005007</td>\n",
       "      <td>-0.009575</td>\n",
       "      <td>-0.004552</td>\n",
       "      <td>-0.001044</td>\n",
       "      <td>0.005563</td>\n",
       "      <td>0.001336</td>\n",
       "      <td>1.000000</td>\n",
       "      <td>-0.004166</td>\n",
       "      <td>-0.001917</td>\n",
       "      <td>-0.000774</td>\n",
       "      <td>0.001194</td>\n",
       "      <td>0.005838</td>\n",
       "      <td>-0.018614</td>\n",
       "      <td>-0.001585</td>\n",
       "    </tr>\n",
       "    <tr>\n",
       "      <th>fraud_flag</th>\n",
       "      <td>-0.005917</td>\n",
       "      <td>-0.000484</td>\n",
       "      <td>-0.001440</td>\n",
       "      <td>-0.001949</td>\n",
       "      <td>0.001095</td>\n",
       "      <td>-0.000631</td>\n",
       "      <td>0.005644</td>\n",
       "      <td>0.004846</td>\n",
       "      <td>-0.004166</td>\n",
       "      <td>1.000000</td>\n",
       "      <td>-0.005367</td>\n",
       "      <td>-0.001888</td>\n",
       "      <td>0.005086</td>\n",
       "      <td>-0.006266</td>\n",
       "      <td>-0.005318</td>\n",
       "      <td>0.657765</td>\n",
       "    </tr>\n",
       "    <tr>\n",
       "      <th>loan_type</th>\n",
       "      <td>0.000439</td>\n",
       "      <td>0.007153</td>\n",
       "      <td>-0.004243</td>\n",
       "      <td>-0.002878</td>\n",
       "      <td>0.007537</td>\n",
       "      <td>0.002441</td>\n",
       "      <td>0.002781</td>\n",
       "      <td>-0.001886</td>\n",
       "      <td>-0.001917</td>\n",
       "      <td>-0.005367</td>\n",
       "      <td>1.000000</td>\n",
       "      <td>0.005722</td>\n",
       "      <td>-0.006408</td>\n",
       "      <td>-0.009880</td>\n",
       "      <td>0.005022</td>\n",
       "      <td>-0.002889</td>\n",
       "    </tr>\n",
       "    <tr>\n",
       "      <th>purpose_of_loan</th>\n",
       "      <td>0.002597</td>\n",
       "      <td>-0.002059</td>\n",
       "      <td>0.001494</td>\n",
       "      <td>-0.004168</td>\n",
       "      <td>0.000628</td>\n",
       "      <td>-0.002453</td>\n",
       "      <td>-0.000300</td>\n",
       "      <td>0.000150</td>\n",
       "      <td>-0.000774</td>\n",
       "      <td>-0.001888</td>\n",
       "      <td>0.005722</td>\n",
       "      <td>1.000000</td>\n",
       "      <td>0.003284</td>\n",
       "      <td>-0.003137</td>\n",
       "      <td>-0.006151</td>\n",
       "      <td>0.001923</td>\n",
       "    </tr>\n",
       "    <tr>\n",
       "      <th>employment_status</th>\n",
       "      <td>0.000597</td>\n",
       "      <td>-0.000425</td>\n",
       "      <td>-0.009883</td>\n",
       "      <td>-0.000240</td>\n",
       "      <td>0.003675</td>\n",
       "      <td>0.003186</td>\n",
       "      <td>0.007860</td>\n",
       "      <td>0.005849</td>\n",
       "      <td>0.001194</td>\n",
       "      <td>0.005086</td>\n",
       "      <td>-0.006408</td>\n",
       "      <td>0.003284</td>\n",
       "      <td>1.000000</td>\n",
       "      <td>0.000710</td>\n",
       "      <td>0.015336</td>\n",
       "      <td>-0.000225</td>\n",
       "    </tr>\n",
       "    <tr>\n",
       "      <th>property_ownership_status</th>\n",
       "      <td>0.005850</td>\n",
       "      <td>0.010293</td>\n",
       "      <td>0.002110</td>\n",
       "      <td>-0.005243</td>\n",
       "      <td>-0.001760</td>\n",
       "      <td>-0.003595</td>\n",
       "      <td>0.004664</td>\n",
       "      <td>0.006218</td>\n",
       "      <td>0.005838</td>\n",
       "      <td>-0.006266</td>\n",
       "      <td>-0.009880</td>\n",
       "      <td>-0.003137</td>\n",
       "      <td>0.000710</td>\n",
       "      <td>1.000000</td>\n",
       "      <td>0.003024</td>\n",
       "      <td>-0.004203</td>\n",
       "    </tr>\n",
       "    <tr>\n",
       "      <th>gender</th>\n",
       "      <td>0.003185</td>\n",
       "      <td>-0.006655</td>\n",
       "      <td>-0.000602</td>\n",
       "      <td>-0.001081</td>\n",
       "      <td>0.001184</td>\n",
       "      <td>0.003487</td>\n",
       "      <td>0.004233</td>\n",
       "      <td>0.009446</td>\n",
       "      <td>-0.018614</td>\n",
       "      <td>-0.005318</td>\n",
       "      <td>0.005022</td>\n",
       "      <td>-0.006151</td>\n",
       "      <td>0.015336</td>\n",
       "      <td>0.003024</td>\n",
       "      <td>1.000000</td>\n",
       "      <td>-0.003463</td>\n",
       "    </tr>\n",
       "    <tr>\n",
       "      <th>loan_status</th>\n",
       "      <td>-0.007275</td>\n",
       "      <td>-0.002241</td>\n",
       "      <td>-0.001422</td>\n",
       "      <td>0.001544</td>\n",
       "      <td>-0.489881</td>\n",
       "      <td>-0.007018</td>\n",
       "      <td>-0.001129</td>\n",
       "      <td>0.002106</td>\n",
       "      <td>-0.001585</td>\n",
       "      <td>0.657765</td>\n",
       "      <td>-0.002889</td>\n",
       "      <td>0.001923</td>\n",
       "      <td>-0.000225</td>\n",
       "      <td>-0.004203</td>\n",
       "      <td>-0.003463</td>\n",
       "      <td>1.000000</td>\n",
       "    </tr>\n",
       "  </tbody>\n",
       "</table>\n",
       "</div>"
      ],
      "text/plain": [
       "                           loan_amount_requested  loan_tenure_months  \\\n",
       "loan_amount_requested                   1.000000            0.006663   \n",
       "loan_tenure_months                      0.006663            1.000000   \n",
       "interest_rate_offered                  -0.007302            0.003541   \n",
       "monthly_income                         -0.006286            0.001452   \n",
       "cibil_score                             0.008059           -0.003773   \n",
       "existing_emis_monthly                   0.005053           -0.006499   \n",
       "debt_to_income_ratio                    0.004797           -0.004638   \n",
       "applicant_age                          -0.006977           -0.003327   \n",
       "number_of_dependents                    0.002295            0.004576   \n",
       "fraud_flag                             -0.005917           -0.000484   \n",
       "loan_type                               0.000439            0.007153   \n",
       "purpose_of_loan                         0.002597           -0.002059   \n",
       "employment_status                       0.000597           -0.000425   \n",
       "property_ownership_status               0.005850            0.010293   \n",
       "gender                                  0.003185           -0.006655   \n",
       "loan_status                            -0.007275           -0.002241   \n",
       "\n",
       "                           interest_rate_offered  monthly_income  cibil_score  \\\n",
       "loan_amount_requested                  -0.007302       -0.006286     0.008059   \n",
       "loan_tenure_months                      0.003541        0.001452    -0.003773   \n",
       "interest_rate_offered                   1.000000       -0.002480     0.005230   \n",
       "monthly_income                         -0.002480        1.000000     0.001978   \n",
       "cibil_score                             0.005230        0.001978     1.000000   \n",
       "existing_emis_monthly                  -0.002010       -0.002386     0.004748   \n",
       "debt_to_income_ratio                   -0.002086       -0.564735     0.006166   \n",
       "applicant_age                          -0.004983        0.018267     0.001565   \n",
       "number_of_dependents                    0.005007       -0.009575    -0.004552   \n",
       "fraud_flag                             -0.001440       -0.001949     0.001095   \n",
       "loan_type                              -0.004243       -0.002878     0.007537   \n",
       "purpose_of_loan                         0.001494       -0.004168     0.000628   \n",
       "employment_status                      -0.009883       -0.000240     0.003675   \n",
       "property_ownership_status               0.002110       -0.005243    -0.001760   \n",
       "gender                                 -0.000602       -0.001081     0.001184   \n",
       "loan_status                            -0.001422        0.001544    -0.489881   \n",
       "\n",
       "                           existing_emis_monthly  debt_to_income_ratio  \\\n",
       "loan_amount_requested                   0.005053              0.004797   \n",
       "loan_tenure_months                     -0.006499             -0.004638   \n",
       "interest_rate_offered                  -0.002010             -0.002086   \n",
       "monthly_income                         -0.002386             -0.564735   \n",
       "cibil_score                             0.004748              0.006166   \n",
       "existing_emis_monthly                   1.000000              0.550665   \n",
       "debt_to_income_ratio                    0.550665              1.000000   \n",
       "applicant_age                          -0.004402             -0.020872   \n",
       "number_of_dependents                   -0.001044              0.005563   \n",
       "fraud_flag                             -0.000631              0.005644   \n",
       "loan_type                               0.002441              0.002781   \n",
       "purpose_of_loan                        -0.002453             -0.000300   \n",
       "employment_status                       0.003186              0.007860   \n",
       "property_ownership_status              -0.003595              0.004664   \n",
       "gender                                  0.003487              0.004233   \n",
       "loan_status                            -0.007018             -0.001129   \n",
       "\n",
       "                           applicant_age  number_of_dependents  fraud_flag  \\\n",
       "loan_amount_requested          -0.006977              0.002295   -0.005917   \n",
       "loan_tenure_months             -0.003327              0.004576   -0.000484   \n",
       "interest_rate_offered          -0.004983              0.005007   -0.001440   \n",
       "monthly_income                  0.018267             -0.009575   -0.001949   \n",
       "cibil_score                     0.001565             -0.004552    0.001095   \n",
       "existing_emis_monthly          -0.004402             -0.001044   -0.000631   \n",
       "debt_to_income_ratio           -0.020872              0.005563    0.005644   \n",
       "applicant_age                   1.000000              0.001336    0.004846   \n",
       "number_of_dependents            0.001336              1.000000   -0.004166   \n",
       "fraud_flag                      0.004846             -0.004166    1.000000   \n",
       "loan_type                      -0.001886             -0.001917   -0.005367   \n",
       "purpose_of_loan                 0.000150             -0.000774   -0.001888   \n",
       "employment_status               0.005849              0.001194    0.005086   \n",
       "property_ownership_status       0.006218              0.005838   -0.006266   \n",
       "gender                          0.009446             -0.018614   -0.005318   \n",
       "loan_status                     0.002106             -0.001585    0.657765   \n",
       "\n",
       "                           loan_type  purpose_of_loan  employment_status  \\\n",
       "loan_amount_requested       0.000439         0.002597           0.000597   \n",
       "loan_tenure_months          0.007153        -0.002059          -0.000425   \n",
       "interest_rate_offered      -0.004243         0.001494          -0.009883   \n",
       "monthly_income             -0.002878        -0.004168          -0.000240   \n",
       "cibil_score                 0.007537         0.000628           0.003675   \n",
       "existing_emis_monthly       0.002441        -0.002453           0.003186   \n",
       "debt_to_income_ratio        0.002781        -0.000300           0.007860   \n",
       "applicant_age              -0.001886         0.000150           0.005849   \n",
       "number_of_dependents       -0.001917        -0.000774           0.001194   \n",
       "fraud_flag                 -0.005367        -0.001888           0.005086   \n",
       "loan_type                   1.000000         0.005722          -0.006408   \n",
       "purpose_of_loan             0.005722         1.000000           0.003284   \n",
       "employment_status          -0.006408         0.003284           1.000000   \n",
       "property_ownership_status  -0.009880        -0.003137           0.000710   \n",
       "gender                      0.005022        -0.006151           0.015336   \n",
       "loan_status                -0.002889         0.001923          -0.000225   \n",
       "\n",
       "                           property_ownership_status    gender  loan_status  \n",
       "loan_amount_requested                       0.005850  0.003185    -0.007275  \n",
       "loan_tenure_months                          0.010293 -0.006655    -0.002241  \n",
       "interest_rate_offered                       0.002110 -0.000602    -0.001422  \n",
       "monthly_income                             -0.005243 -0.001081     0.001544  \n",
       "cibil_score                                -0.001760  0.001184    -0.489881  \n",
       "existing_emis_monthly                      -0.003595  0.003487    -0.007018  \n",
       "debt_to_income_ratio                        0.004664  0.004233    -0.001129  \n",
       "applicant_age                               0.006218  0.009446     0.002106  \n",
       "number_of_dependents                        0.005838 -0.018614    -0.001585  \n",
       "fraud_flag                                 -0.006266 -0.005318     0.657765  \n",
       "loan_type                                  -0.009880  0.005022    -0.002889  \n",
       "purpose_of_loan                            -0.003137 -0.006151     0.001923  \n",
       "employment_status                           0.000710  0.015336    -0.000225  \n",
       "property_ownership_status                   1.000000  0.003024    -0.004203  \n",
       "gender                                      0.003024  1.000000    -0.003463  \n",
       "loan_status                                -0.004203 -0.003463     1.000000  "
      ]
     },
     "execution_count": 36,
     "metadata": {},
     "output_type": "execute_result"
    }
   ],
   "source": [
    "corr"
   ]
  },
  {
   "cell_type": "code",
   "execution_count": 37,
   "id": "8fe679a0",
   "metadata": {
    "execution": {
     "iopub.execute_input": "2025-06-15T03:49:19.908866Z",
     "iopub.status.busy": "2025-06-15T03:49:19.908615Z",
     "iopub.status.idle": "2025-06-15T03:49:20.655474Z",
     "shell.execute_reply": "2025-06-15T03:49:20.654725Z"
    },
    "papermill": {
     "duration": 0.761534,
     "end_time": "2025-06-15T03:49:20.657962",
     "exception": false,
     "start_time": "2025-06-15T03:49:19.896428",
     "status": "completed"
    },
    "tags": []
   },
   "outputs": [
    {
     "data": {
      "image/png": "[encoded data removed]",
      "text/plain": [
       "<Figure size 1500x1500 with 2 Axes>"
      ]
     },
     "metadata": {},
     "output_type": "display_data"
    }
   ],
   "source": [
    "plt.figure(figsize=(15,15))\n",
    "sns.heatmap(corr,annot=True,fmt='.4f')\n",
    "plt.show()"
   ]
  },
  {
   "cell_type": "code",
   "execution_count": 38,
   "id": "1730901e",
   "metadata": {
    "execution": {
     "iopub.execute_input": "2025-06-15T03:49:20.688786Z",
     "iopub.status.busy": "2025-06-15T03:49:20.688548Z",
     "iopub.status.idle": "2025-06-15T03:49:20.693216Z",
     "shell.execute_reply": "2025-06-15T03:49:20.692642Z"
    },
    "papermill": {
     "duration": 0.021558,
     "end_time": "2025-06-15T03:49:20.694441",
     "exception": false,
     "start_time": "2025-06-15T03:49:20.672883",
     "status": "completed"
    },
    "tags": []
   },
   "outputs": [],
   "source": [
    "# Seperating target variable\n",
    "X=data.drop(['loan_status'],axis=1)\n",
    "y=data['loan_status']"
   ]
  },
  {
   "cell_type": "code",
   "execution_count": 39,
   "id": "e8f1028e",
   "metadata": {
    "execution": {
     "iopub.execute_input": "2025-06-15T03:49:20.724352Z",
     "iopub.status.busy": "2025-06-15T03:49:20.724111Z",
     "iopub.status.idle": "2025-06-15T03:49:20.735711Z",
     "shell.execute_reply": "2025-06-15T03:49:20.735013Z"
    },
    "papermill": {
     "duration": 0.027514,
     "end_time": "2025-06-15T03:49:20.736810",
     "exception": false,
     "start_time": "2025-06-15T03:49:20.709296",
     "status": "completed"
    },
    "tags": []
   },
   "outputs": [],
   "source": [
    "#Seperate train and test data for training and testing\n",
    "X_train,X_test,y_train,y_test=train_test_split(X,y,test_size=0.2,random_state=0)"
   ]
  },
  {
   "cell_type": "code",
   "execution_count": 40,
   "id": "a7ae2fa6",
   "metadata": {
    "execution": {
     "iopub.execute_input": "2025-06-15T03:49:20.768954Z",
     "iopub.status.busy": "2025-06-15T03:49:20.768723Z",
     "iopub.status.idle": "2025-06-15T03:49:20.774086Z",
     "shell.execute_reply": "2025-06-15T03:49:20.773251Z"
    },
    "papermill": {
     "duration": 0.02351,
     "end_time": "2025-06-15T03:49:20.775456",
     "exception": false,
     "start_time": "2025-06-15T03:49:20.751946",
     "status": "completed"
    },
    "tags": []
   },
   "outputs": [
    {
     "data": {
      "text/plain": [
       "((40000, 15), (10000, 15), (40000,), (10000,))"
      ]
     },
     "execution_count": 40,
     "metadata": {},
     "output_type": "execute_result"
    }
   ],
   "source": [
    "X_train.shape,X_test.shape,y_train.shape,y_test.shape"
   ]
  },
  {
   "cell_type": "code",
   "execution_count": 41,
   "id": "300fed69",
   "metadata": {
    "execution": {
     "iopub.execute_input": "2025-06-15T03:49:20.807057Z",
     "iopub.status.busy": "2025-06-15T03:49:20.806803Z",
     "iopub.status.idle": "2025-06-15T03:49:20.810848Z",
     "shell.execute_reply": "2025-06-15T03:49:20.810046Z"
    },
    "papermill": {
     "duration": 0.021137,
     "end_time": "2025-06-15T03:49:20.811953",
     "exception": false,
     "start_time": "2025-06-15T03:49:20.790816",
     "status": "completed"
    },
    "tags": []
   },
   "outputs": [],
   "source": [
    "# Applying Classification models\n",
    "LC=LogisticRegression()"
   ]
  },
  {
   "cell_type": "code",
   "execution_count": 42,
   "id": "0bb9547c",
   "metadata": {
    "execution": {
     "iopub.execute_input": "2025-06-15T03:49:20.842968Z",
     "iopub.status.busy": "2025-06-15T03:49:20.842691Z",
     "iopub.status.idle": "2025-06-15T03:49:22.246975Z",
     "shell.execute_reply": "2025-06-15T03:49:22.246328Z"
    },
    "papermill": {
     "duration": 1.422087,
     "end_time": "2025-06-15T03:49:22.249022",
     "exception": false,
     "start_time": "2025-06-15T03:49:20.826935",
     "status": "completed"
    },
    "tags": []
   },
   "outputs": [
    {
     "data": {
      "text/html": [
       "<style>#sk-container-id-1 {color: black;background-color: white;}#sk-container-id-1 pre{padding: 0;}#sk-container-id-1 div.sk-toggleable {background-color: white;}#sk-container-id-1 label.sk-toggleable__label {cursor: pointer;display: block;width: 100%;margin-bottom: 0;padding: 0.3em;box-sizing: border-box;text-align: center;}#sk-container-id-1 label.sk-toggleable__label-arrow:before {content: \"▸\";float: left;margin-right: 0.25em;color: #696969;}#sk-container-id-1 label.sk-toggleable__label-arrow:hover:before {color: black;}#sk-container-id-1 div.sk-estimator:hover label.sk-toggleable__label-arrow:before {color: black;}#sk-container-id-1 div.sk-toggleable__content {max-height: 0;max-width: 0;overflow: hidden;text-align: left;background-color: #f0f8ff;}#sk-container-id-1 div.sk-toggleable__content pre {margin: 0.2em;color: black;border-radius: 0.25em;background-color: #f0f8ff;}#sk-container-id-1 input.sk-toggleable__control:checked~div.sk-toggleable__content {max-height: 200px;max-width: 100%;overflow: auto;}#sk-container-id-1 input.sk-toggleable__control:checked~label.sk-toggleable__label-arrow:before {content: \"▾\";}#sk-container-id-1 div.sk-estimator input.sk-toggleable__control:checked~label.sk-toggleable__label {background-color: #d4ebff;}#sk-container-id-1 div.sk-label input.sk-toggleable__control:checked~label.sk-toggleable__label {background-color: #d4ebff;}#sk-container-id-1 input.sk-hidden--visually {border: 0;clip: rect(1px 1px 1px 1px);clip: rect(1px, 1px, 1px, 1px);height: 1px;margin: -1px;overflow: hidden;padding: 0;position: absolute;width: 1px;}#sk-container-id-1 div.sk-estimator {font-family: monospace;background-color: #f0f8ff;border: 1px dotted black;border-radius: 0.25em;box-sizing: border-box;margin-bottom: 0.5em;}#sk-container-id-1 div.sk-estimator:hover {background-color: #d4ebff;}#sk-container-id-1 div.sk-parallel-item::after {content: \"\";width: 100%;border-bottom: 1px solid gray;flex-grow: 1;}#sk-container-id-1 div.sk-label:hover label.sk-toggleable__label {background-color: #d4ebff;}#sk-container-id-1 div.sk-serial::before {content: \"\";position: absolute;border-left: 1px solid gray;box-sizing: border-box;top: 0;bottom: 0;left: 50%;z-index: 0;}#sk-container-id-1 div.sk-serial {display: flex;flex-direction: column;align-items: center;background-color: white;padding-right: 0.2em;padding-left: 0.2em;position: relative;}#sk-container-id-1 div.sk-item {position: relative;z-index: 1;}#sk-container-id-1 div.sk-parallel {display: flex;align-items: stretch;justify-content: center;background-color: white;position: relative;}#sk-container-id-1 div.sk-item::before, #sk-container-id-1 div.sk-parallel-item::before {content: \"\";position: absolute;border-left: 1px solid gray;box-sizing: border-box;top: 0;bottom: 0;left: 50%;z-index: -1;}#sk-container-id-1 div.sk-parallel-item {display: flex;flex-direction: column;z-index: 1;position: relative;background-color: white;}#sk-container-id-1 div.sk-parallel-item:first-child::after {align-self: flex-end;width: 50%;}#sk-container-id-1 div.sk-parallel-item:last-child::after {align-self: flex-start;width: 50%;}#sk-container-id-1 div.sk-parallel-item:only-child::after {width: 0;}#sk-container-id-1 div.sk-dashed-wrapped {border: 1px dashed gray;margin: 0 0.4em 0.5em 0.4em;box-sizing: border-box;padding-bottom: 0.4em;background-color: white;}#sk-container-id-1 div.sk-label label {font-family: monospace;font-weight: bold;display: inline-block;line-height: 1.2em;}#sk-container-id-1 div.sk-label-container {text-align: center;}#sk-container-id-1 div.sk-container {/* jupyter's `normalize.less` sets `[hidden] { display: none; }` but bootstrap.min.css set `[hidden] { display: none !important; }` so we also need the `!important` here to be able to override the default hidden behavior on the sphinx rendered scikit-learn.org. See: https://github.com/scikit-learn/scikit-learn/issues/21755 */display: inline-block !important;position: relative;}#sk-container-id-1 div.sk-text-repr-fallback {display: none;}</style><div id=\"sk-container-id-1\" class=\"sk-top-container\"><div class=\"sk-text-repr-fallback\"><pre>LogisticRegression()</pre><b>In a Jupyter environment, please rerun this cell to show the HTML representation or trust the notebook. <br />On GitHub, the HTML representation is unable to render, please try loading this page with nbviewer.org.</b></div><div class=\"sk-container\" hidden><div class=\"sk-item\"><div class=\"sk-estimator sk-toggleable\"><input class=\"sk-toggleable__control sk-hidden--visually\" id=\"sk-estimator-id-1\" type=\"checkbox\" checked><label for=\"sk-estimator-id-1\" class=\"sk-toggleable__label sk-toggleable__label-arrow\">LogisticRegression</label><div class=\"sk-toggleable__content\"><pre>LogisticRegression()</pre></div></div></div></div></div>"
      ],
      "text/plain": [
       "LogisticRegression()"
      ]
     },
     "execution_count": 42,
     "metadata": {},
     "output_type": "execute_result"
    }
   ],
   "source": [
    "LC.fit(X_train,y_train)"
   ]
  },
  {
   "cell_type": "code",
   "execution_count": 43,
   "id": "40f66a25",
   "metadata": {
    "execution": {
     "iopub.execute_input": "2025-06-15T03:49:22.295918Z",
     "iopub.status.busy": "2025-06-15T03:49:22.295675Z",
     "iopub.status.idle": "2025-06-15T03:49:22.305937Z",
     "shell.execute_reply": "2025-06-15T03:49:22.305410Z"
    },
    "papermill": {
     "duration": 0.034853,
     "end_time": "2025-06-15T03:49:22.307169",
     "exception": false,
     "start_time": "2025-06-15T03:49:22.272316",
     "status": "completed"
    },
    "tags": []
   },
   "outputs": [],
   "source": [
    "LC_pred=LC.predict(X_test)"
   ]
  },
  {
   "cell_type": "code",
   "execution_count": 44,
   "id": "6b4e1f5f",
   "metadata": {
    "execution": {
     "iopub.execute_input": "2025-06-15T03:49:22.345399Z",
     "iopub.status.busy": "2025-06-15T03:49:22.344917Z",
     "iopub.status.idle": "2025-06-15T03:49:22.347844Z",
     "shell.execute_reply": "2025-06-15T03:49:22.347420Z"
    },
    "papermill": {
     "duration": 0.01993,
     "end_time": "2025-06-15T03:49:22.348688",
     "exception": false,
     "start_time": "2025-06-15T03:49:22.328758",
     "status": "completed"
    },
    "tags": []
   },
   "outputs": [],
   "source": [
    "from sklearn.metrics import accuracy_score"
   ]
  },
  {
   "cell_type": "code",
   "execution_count": 45,
   "id": "bdfec011",
   "metadata": {
    "execution": {
     "iopub.execute_input": "2025-06-15T03:49:22.378487Z",
     "iopub.status.busy": "2025-06-15T03:49:22.378238Z",
     "iopub.status.idle": "2025-06-15T03:49:22.384053Z",
     "shell.execute_reply": "2025-06-15T03:49:22.383455Z"
    },
    "papermill": {
     "duration": 0.021837,
     "end_time": "2025-06-15T03:49:22.385123",
     "exception": false,
     "start_time": "2025-06-15T03:49:22.363286",
     "status": "completed"
    },
    "tags": []
   },
   "outputs": [],
   "source": [
    "accuracy=accuracy_score(y_test,LC_pred)"
   ]
  },
  {
   "cell_type": "code",
   "execution_count": 46,
   "id": "97448af3",
   "metadata": {
    "execution": {
     "iopub.execute_input": "2025-06-15T03:49:22.417676Z",
     "iopub.status.busy": "2025-06-15T03:49:22.417339Z",
     "iopub.status.idle": "2025-06-15T03:49:22.422445Z",
     "shell.execute_reply": "2025-06-15T03:49:22.420707Z"
    },
    "papermill": {
     "duration": 0.023209,
     "end_time": "2025-06-15T03:49:22.423927",
     "exception": false,
     "start_time": "2025-06-15T03:49:22.400718",
     "status": "completed"
    },
    "tags": []
   },
   "outputs": [
    {
     "name": "stdout",
     "output_type": "stream",
     "text": [
      "Accuracy Score of Logistic Regression is:0.82%\n"
     ]
    }
   ],
   "source": [
    "print(f\"Accuracy Score of Logistic Regression is:{accuracy:.2f}%\")"
   ]
  },
  {
   "cell_type": "code",
   "execution_count": 47,
   "id": "26ddfc87",
   "metadata": {
    "execution": {
     "iopub.execute_input": "2025-06-15T03:49:22.456800Z",
     "iopub.status.busy": "2025-06-15T03:49:22.456514Z",
     "iopub.status.idle": "2025-06-15T03:49:22.520740Z",
     "shell.execute_reply": "2025-06-15T03:49:22.519441Z"
    },
    "papermill": {
     "duration": 0.081905,
     "end_time": "2025-06-15T03:49:22.522228",
     "exception": false,
     "start_time": "2025-06-15T03:49:22.440323",
     "status": "completed"
    },
    "tags": []
   },
   "outputs": [
    {
     "name": "stdout",
     "output_type": "stream",
     "text": [
      "Accuracy Score of Decision Tree is:0.99%\n"
     ]
    }
   ],
   "source": [
    "# Decision Tree\n",
    "DT=DecisionTreeClassifier()\n",
    "DT.fit(X_train,y_train)\n",
    "DT_predict=DT.predict(X_test)\n",
    "DT_acc=accuracy_score(y_test,DT_predict)\n",
    "print(f\"Accuracy Score of Decision Tree is:{DT_acc:.2f}%\")"
   ]
  },
  {
   "cell_type": "code",
   "execution_count": 48,
   "id": "8b1cc437",
   "metadata": {
    "execution": {
     "iopub.execute_input": "2025-06-15T03:49:22.553844Z",
     "iopub.status.busy": "2025-06-15T03:49:22.553597Z",
     "iopub.status.idle": "2025-06-15T03:49:25.680293Z",
     "shell.execute_reply": "2025-06-15T03:49:25.679431Z"
    },
    "papermill": {
     "duration": 3.144228,
     "end_time": "2025-06-15T03:49:25.681680",
     "exception": false,
     "start_time": "2025-06-15T03:49:22.537452",
     "status": "completed"
    },
    "tags": []
   },
   "outputs": [
    {
     "name": "stdout",
     "output_type": "stream",
     "text": [
      "Accuracy score of Random Forest is:0.99%\n"
     ]
    }
   ],
   "source": [
    "#Random Forest\n",
    "RF=RandomForestClassifier()\n",
    "RF.fit(X_train,y_train)\n",
    "RF_predict=RF.predict(X_test)\n",
    "RF_acc=accuracy_score(y_test,RF_predict)\n",
    "print(f\"Accuracy score of Random Forest is:{RF_acc:.2f}%\")"
   ]
  },
  {
   "cell_type": "code",
   "execution_count": 49,
   "id": "60ba8995",
   "metadata": {
    "execution": {
     "iopub.execute_input": "2025-06-15T03:49:25.713431Z",
     "iopub.status.busy": "2025-06-15T03:49:25.713136Z",
     "iopub.status.idle": "2025-06-15T03:49:25.717657Z",
     "shell.execute_reply": "2025-06-15T03:49:25.716505Z"
    },
    "papermill": {
     "duration": 0.021979,
     "end_time": "2025-06-15T03:49:25.718953",
     "exception": false,
     "start_time": "2025-06-15T03:49:25.696974",
     "status": "completed"
    },
    "tags": []
   },
   "outputs": [],
   "source": [
    "from sklearn.metrics import confusion_matrix"
   ]
  },
  {
   "cell_type": "code",
   "execution_count": 50,
   "id": "0b58a0fc",
   "metadata": {
    "execution": {
     "iopub.execute_input": "2025-06-15T03:49:25.750295Z",
     "iopub.status.busy": "2025-06-15T03:49:25.750018Z",
     "iopub.status.idle": "2025-06-15T03:49:25.758982Z",
     "shell.execute_reply": "2025-06-15T03:49:25.758171Z"
    },
    "papermill": {
     "duration": 0.026218,
     "end_time": "2025-06-15T03:49:25.760291",
     "exception": false,
     "start_time": "2025-06-15T03:49:25.734073",
     "status": "completed"
    },
    "tags": []
   },
   "outputs": [
    {
     "data": {
      "text/plain": [
       "array([[8154,    0,    0,    0],\n",
       "       [1642,    0,    0,    0],\n",
       "       [ 110,    0,    0,    0],\n",
       "       [  94,    0,    0,    0]])"
      ]
     },
     "execution_count": 50,
     "metadata": {},
     "output_type": "execute_result"
    }
   ],
   "source": [
    "#Confusion matrix of Logistic Regression\n",
    "confusion_matrix(y_test,LC_pred)"
   ]
  },
  {
   "cell_type": "code",
   "execution_count": 51,
   "id": "171d258d",
   "metadata": {
    "execution": {
     "iopub.execute_input": "2025-06-15T03:49:25.792186Z",
     "iopub.status.busy": "2025-06-15T03:49:25.791935Z",
     "iopub.status.idle": "2025-06-15T03:49:25.799480Z",
     "shell.execute_reply": "2025-06-15T03:49:25.798689Z"
    },
    "papermill": {
     "duration": 0.02495,
     "end_time": "2025-06-15T03:49:25.800647",
     "exception": false,
     "start_time": "2025-06-15T03:49:25.775697",
     "status": "completed"
    },
    "tags": []
   },
   "outputs": [
    {
     "data": {
      "text/plain": [
       "array([[8154,    0,    0,    0],\n",
       "       [   0, 1642,    0,    0],\n",
       "       [   0,    0,   57,   53],\n",
       "       [   0,    0,   49,   45]])"
      ]
     },
     "execution_count": 51,
     "metadata": {},
     "output_type": "execute_result"
    }
   ],
   "source": [
    "#Confusion matrix of Decision Tree\n",
    "confusion_matrix(y_test,DT_predict)"
   ]
  },
  {
   "cell_type": "code",
   "execution_count": 52,
   "id": "0e006be5",
   "metadata": {
    "execution": {
     "iopub.execute_input": "2025-06-15T03:49:25.832742Z",
     "iopub.status.busy": "2025-06-15T03:49:25.832468Z",
     "iopub.status.idle": "2025-06-15T03:49:25.840439Z",
     "shell.execute_reply": "2025-06-15T03:49:25.839584Z"
    },
    "papermill": {
     "duration": 0.025358,
     "end_time": "2025-06-15T03:49:25.841548",
     "exception": false,
     "start_time": "2025-06-15T03:49:25.816190",
     "status": "completed"
    },
    "tags": []
   },
   "outputs": [
    {
     "data": {
      "text/plain": [
       "array([[8154,    0,    0,    0],\n",
       "       [   0, 1642,    0,    0],\n",
       "       [   0,    0,   61,   49],\n",
       "       [   0,    0,   57,   37]])"
      ]
     },
     "execution_count": 52,
     "metadata": {},
     "output_type": "execute_result"
    }
   ],
   "source": [
    "#Confusion Matrix of Random Forest\n",
    "confusion_matrix(y_test,RF_predict)"
   ]
  },
  {
   "cell_type": "code",
   "execution_count": null,
   "id": "375093e7",
   "metadata": {
    "papermill": {
     "duration": 0.016123,
     "end_time": "2025-06-15T03:49:25.873066",
     "exception": false,
     "start_time": "2025-06-15T03:49:25.856943",
     "status": "completed"
    },
    "tags": []
   },
   "outputs": [],
   "source": []
  }
 ],
 "metadata": {
  "kaggle": {
   "accelerator": "none",
   "dataSources": [
    {
     "datasetId": 7629372,
     "sourceId": 12117078,
     "sourceType": "datasetVersion"
    }
   ],
   "dockerImageVersionId": 31040,
   "isGpuEnabled": false,
   "isInternetEnabled": true,
   "language": "python",
   "sourceType": "notebook"
  },
  "kernelspec": {
   "display_name": "Python 3",
   "language": "python",
   "name": "python3"
  },
  "language_info": {
   "codemirror_mode": {
    "name": "ipython",
    "version": 3
   },
   "file_extension": ".py",
   "mimetype": "text/x-python",
   "name": "python",
   "nbconvert_exporter": "python",
   "pygments_lexer": "ipython3",
   "version": "3.11.11"
  },
  "papermill": {
   "default_parameters": {},
   "duration": 18.139224,
   "end_time": "2025-06-15T03:49:26.609583",
   "environment_variables": {},
   "exception": null,
   "input_path": "__notebook__.ipynb",
   "output_path": "__notebook__.ipynb",
   "parameters": {},
   "start_time": "2025-06-15T03:49:08.470359",
   "version": "2.6.0"
  }
 },
 "nbformat": 4,
 "nbformat_minor": 5
}
